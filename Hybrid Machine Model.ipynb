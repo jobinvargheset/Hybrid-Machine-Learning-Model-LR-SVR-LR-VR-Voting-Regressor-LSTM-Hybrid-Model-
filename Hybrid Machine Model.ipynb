{
  "cells": [
    {
      "cell_type": "markdown",
      "metadata": {
        "id": "y1rqnN-qBXyU"
      },
      "source": [
        "\n",
        "## **Problem Statement:**  \n",
        "\n",
        "Develop a predictive model  to forecast the next day's stock market closing price based on historical data, including open, high, low, volume, and adjusted close price to aid in informed decision-making. The following steps has to be performed for a complete analysis and evaluation.\n",
        "\n",
        "\n",
        "DIFFERNT MODELS:\n",
        "\n",
        "1. Hybrid Model: A combination of LSTM and Linear Regression.\n",
        "\n",
        "2. Advanced Hybrid Model: A combination of Linear Regression, LSTM, SVR, and Random Forest.\n",
        "  \n",
        "3. Voting Regressor: An ensemble approach integrating the models from the second step.  \n",
        "\n",
        "\n",
        "FEATURE ENGINEERING/FEATURE SELECTION:\n",
        "\n",
        "Each model is evaluated using three different feature selection strategies:  \n",
        "\n",
        "- Approach 1: Using Open, High, Low, Volume, and Adjusted Close as independent features.\n",
        "  \n",
        "- Approach 2: Using Open, High, and Low as independent features.\n",
        "  \n",
        "- Approach 3: Using Close as both the dependent and independent variable.  \n",
        "\n",
        "\n",
        "List down nine different values of MAE, RMSE and R2 values, and conclude, which combination of feature and algorithm gives the best accuracy among all combinations."
      ]
    },
    {
      "cell_type": "markdown",
      "metadata": {
        "id": "LQf2jgdfBXyW"
      },
      "source": [
        "### PREPROCESSING"
      ]
    },
    {
      "cell_type": "code",
      "execution_count": null,
      "metadata": {
        "id": "Rfjvl9lABXyW"
      },
      "outputs": [],
      "source": [
        "#import required libraries\n",
        "import pandas as pd\n",
        "import numpy as np\n",
        "import seaborn as sns\n",
        "import matplotlib.pyplot as plt"
      ]
    },
    {
      "cell_type": "code",
      "execution_count": null,
      "metadata": {
        "id": "7zIWEjn_BXyX"
      },
      "outputs": [],
      "source": [
        "#load data\n",
        "df=pd.read_csv('apple_stock_data.csv')"
      ]
    },
    {
      "cell_type": "code",
      "execution_count": null,
      "metadata": {
        "id": "TQsLrevbBXyY",
        "outputId": "c9718886-eb9b-42ea-ad21-10a347c8f862",
        "colab": {
          "base_uri": "https://localhost:8080/",
          "height": 206
        }
      },
      "outputs": [
        {
          "output_type": "execute_result",
          "data": {
            "text/plain": [
              "                        Date   Adj Close       Close        High         Low  \\\n",
              "0  2023-11-02 00:00:00+00:00  176.665985  177.570007  177.779999  175.460007   \n",
              "1  2023-11-03 00:00:00+00:00  175.750671  176.649994  176.820007  173.350006   \n",
              "2  2023-11-06 00:00:00+00:00  178.317520  179.229996  179.429993  176.210007   \n",
              "3  2023-11-07 00:00:00+00:00  180.894333  181.820007  182.440002  178.970001   \n",
              "4  2023-11-08 00:00:00+00:00  181.958893  182.889999  183.449997  181.589996   \n",
              "\n",
              "         Open    Volume  \n",
              "0  175.520004  77334800  \n",
              "1  174.240005  79763700  \n",
              "2  176.380005  63841300  \n",
              "3  179.179993  70530000  \n",
              "4  182.350006  49340300  "
            ],
            "text/html": [
              "\n",
              "  <div id=\"df-00446fcc-b80e-41e2-acee-6b7be60eff5b\" class=\"colab-df-container\">\n",
              "    <div>\n",
              "<style scoped>\n",
              "    .dataframe tbody tr th:only-of-type {\n",
              "        vertical-align: middle;\n",
              "    }\n",
              "\n",
              "    .dataframe tbody tr th {\n",
              "        vertical-align: top;\n",
              "    }\n",
              "\n",
              "    .dataframe thead th {\n",
              "        text-align: right;\n",
              "    }\n",
              "</style>\n",
              "<table border=\"1\" class=\"dataframe\">\n",
              "  <thead>\n",
              "    <tr style=\"text-align: right;\">\n",
              "      <th></th>\n",
              "      <th>Date</th>\n",
              "      <th>Adj Close</th>\n",
              "      <th>Close</th>\n",
              "      <th>High</th>\n",
              "      <th>Low</th>\n",
              "      <th>Open</th>\n",
              "      <th>Volume</th>\n",
              "    </tr>\n",
              "  </thead>\n",
              "  <tbody>\n",
              "    <tr>\n",
              "      <th>0</th>\n",
              "      <td>2023-11-02 00:00:00+00:00</td>\n",
              "      <td>176.665985</td>\n",
              "      <td>177.570007</td>\n",
              "      <td>177.779999</td>\n",
              "      <td>175.460007</td>\n",
              "      <td>175.520004</td>\n",
              "      <td>77334800</td>\n",
              "    </tr>\n",
              "    <tr>\n",
              "      <th>1</th>\n",
              "      <td>2023-11-03 00:00:00+00:00</td>\n",
              "      <td>175.750671</td>\n",
              "      <td>176.649994</td>\n",
              "      <td>176.820007</td>\n",
              "      <td>173.350006</td>\n",
              "      <td>174.240005</td>\n",
              "      <td>79763700</td>\n",
              "    </tr>\n",
              "    <tr>\n",
              "      <th>2</th>\n",
              "      <td>2023-11-06 00:00:00+00:00</td>\n",
              "      <td>178.317520</td>\n",
              "      <td>179.229996</td>\n",
              "      <td>179.429993</td>\n",
              "      <td>176.210007</td>\n",
              "      <td>176.380005</td>\n",
              "      <td>63841300</td>\n",
              "    </tr>\n",
              "    <tr>\n",
              "      <th>3</th>\n",
              "      <td>2023-11-07 00:00:00+00:00</td>\n",
              "      <td>180.894333</td>\n",
              "      <td>181.820007</td>\n",
              "      <td>182.440002</td>\n",
              "      <td>178.970001</td>\n",
              "      <td>179.179993</td>\n",
              "      <td>70530000</td>\n",
              "    </tr>\n",
              "    <tr>\n",
              "      <th>4</th>\n",
              "      <td>2023-11-08 00:00:00+00:00</td>\n",
              "      <td>181.958893</td>\n",
              "      <td>182.889999</td>\n",
              "      <td>183.449997</td>\n",
              "      <td>181.589996</td>\n",
              "      <td>182.350006</td>\n",
              "      <td>49340300</td>\n",
              "    </tr>\n",
              "  </tbody>\n",
              "</table>\n",
              "</div>\n",
              "    <div class=\"colab-df-buttons\">\n",
              "\n",
              "  <div class=\"colab-df-container\">\n",
              "    <button class=\"colab-df-convert\" onclick=\"convertToInteractive('df-00446fcc-b80e-41e2-acee-6b7be60eff5b')\"\n",
              "            title=\"Convert this dataframe to an interactive table.\"\n",
              "            style=\"display:none;\">\n",
              "\n",
              "  <svg xmlns=\"http://www.w3.org/2000/svg\" height=\"24px\" viewBox=\"0 -960 960 960\">\n",
              "    <path d=\"M120-120v-720h720v720H120Zm60-500h600v-160H180v160Zm220 220h160v-160H400v160Zm0 220h160v-160H400v160ZM180-400h160v-160H180v160Zm440 0h160v-160H620v160ZM180-180h160v-160H180v160Zm440 0h160v-160H620v160Z\"/>\n",
              "  </svg>\n",
              "    </button>\n",
              "\n",
              "  <style>\n",
              "    .colab-df-container {\n",
              "      display:flex;\n",
              "      gap: 12px;\n",
              "    }\n",
              "\n",
              "    .colab-df-convert {\n",
              "      background-color: #E8F0FE;\n",
              "      border: none;\n",
              "      border-radius: 50%;\n",
              "      cursor: pointer;\n",
              "      display: none;\n",
              "      fill: #1967D2;\n",
              "      height: 32px;\n",
              "      padding: 0 0 0 0;\n",
              "      width: 32px;\n",
              "    }\n",
              "\n",
              "    .colab-df-convert:hover {\n",
              "      background-color: #E2EBFA;\n",
              "      box-shadow: 0px 1px 2px rgba(60, 64, 67, 0.3), 0px 1px 3px 1px rgba(60, 64, 67, 0.15);\n",
              "      fill: #174EA6;\n",
              "    }\n",
              "\n",
              "    .colab-df-buttons div {\n",
              "      margin-bottom: 4px;\n",
              "    }\n",
              "\n",
              "    [theme=dark] .colab-df-convert {\n",
              "      background-color: #3B4455;\n",
              "      fill: #D2E3FC;\n",
              "    }\n",
              "\n",
              "    [theme=dark] .colab-df-convert:hover {\n",
              "      background-color: #434B5C;\n",
              "      box-shadow: 0px 1px 3px 1px rgba(0, 0, 0, 0.15);\n",
              "      filter: drop-shadow(0px 1px 2px rgba(0, 0, 0, 0.3));\n",
              "      fill: #FFFFFF;\n",
              "    }\n",
              "  </style>\n",
              "\n",
              "    <script>\n",
              "      const buttonEl =\n",
              "        document.querySelector('#df-00446fcc-b80e-41e2-acee-6b7be60eff5b button.colab-df-convert');\n",
              "      buttonEl.style.display =\n",
              "        google.colab.kernel.accessAllowed ? 'block' : 'none';\n",
              "\n",
              "      async function convertToInteractive(key) {\n",
              "        const element = document.querySelector('#df-00446fcc-b80e-41e2-acee-6b7be60eff5b');\n",
              "        const dataTable =\n",
              "          await google.colab.kernel.invokeFunction('convertToInteractive',\n",
              "                                                    [key], {});\n",
              "        if (!dataTable) return;\n",
              "\n",
              "        const docLinkHtml = 'Like what you see? Visit the ' +\n",
              "          '<a target=\"_blank\" href=https://colab.research.google.com/notebooks/data_table.ipynb>data table notebook</a>'\n",
              "          + ' to learn more about interactive tables.';\n",
              "        element.innerHTML = '';\n",
              "        dataTable['output_type'] = 'display_data';\n",
              "        await google.colab.output.renderOutput(dataTable, element);\n",
              "        const docLink = document.createElement('div');\n",
              "        docLink.innerHTML = docLinkHtml;\n",
              "        element.appendChild(docLink);\n",
              "      }\n",
              "    </script>\n",
              "  </div>\n",
              "\n",
              "\n",
              "<div id=\"df-0c9b8583-1725-4cbd-ac02-5bd10e827368\">\n",
              "  <button class=\"colab-df-quickchart\" onclick=\"quickchart('df-0c9b8583-1725-4cbd-ac02-5bd10e827368')\"\n",
              "            title=\"Suggest charts\"\n",
              "            style=\"display:none;\">\n",
              "\n",
              "<svg xmlns=\"http://www.w3.org/2000/svg\" height=\"24px\"viewBox=\"0 0 24 24\"\n",
              "     width=\"24px\">\n",
              "    <g>\n",
              "        <path d=\"M19 3H5c-1.1 0-2 .9-2 2v14c0 1.1.9 2 2 2h14c1.1 0 2-.9 2-2V5c0-1.1-.9-2-2-2zM9 17H7v-7h2v7zm4 0h-2V7h2v10zm4 0h-2v-4h2v4z\"/>\n",
              "    </g>\n",
              "</svg>\n",
              "  </button>\n",
              "\n",
              "<style>\n",
              "  .colab-df-quickchart {\n",
              "      --bg-color: #E8F0FE;\n",
              "      --fill-color: #1967D2;\n",
              "      --hover-bg-color: #E2EBFA;\n",
              "      --hover-fill-color: #174EA6;\n",
              "      --disabled-fill-color: #AAA;\n",
              "      --disabled-bg-color: #DDD;\n",
              "  }\n",
              "\n",
              "  [theme=dark] .colab-df-quickchart {\n",
              "      --bg-color: #3B4455;\n",
              "      --fill-color: #D2E3FC;\n",
              "      --hover-bg-color: #434B5C;\n",
              "      --hover-fill-color: #FFFFFF;\n",
              "      --disabled-bg-color: #3B4455;\n",
              "      --disabled-fill-color: #666;\n",
              "  }\n",
              "\n",
              "  .colab-df-quickchart {\n",
              "    background-color: var(--bg-color);\n",
              "    border: none;\n",
              "    border-radius: 50%;\n",
              "    cursor: pointer;\n",
              "    display: none;\n",
              "    fill: var(--fill-color);\n",
              "    height: 32px;\n",
              "    padding: 0;\n",
              "    width: 32px;\n",
              "  }\n",
              "\n",
              "  .colab-df-quickchart:hover {\n",
              "    background-color: var(--hover-bg-color);\n",
              "    box-shadow: 0 1px 2px rgba(60, 64, 67, 0.3), 0 1px 3px 1px rgba(60, 64, 67, 0.15);\n",
              "    fill: var(--button-hover-fill-color);\n",
              "  }\n",
              "\n",
              "  .colab-df-quickchart-complete:disabled,\n",
              "  .colab-df-quickchart-complete:disabled:hover {\n",
              "    background-color: var(--disabled-bg-color);\n",
              "    fill: var(--disabled-fill-color);\n",
              "    box-shadow: none;\n",
              "  }\n",
              "\n",
              "  .colab-df-spinner {\n",
              "    border: 2px solid var(--fill-color);\n",
              "    border-color: transparent;\n",
              "    border-bottom-color: var(--fill-color);\n",
              "    animation:\n",
              "      spin 1s steps(1) infinite;\n",
              "  }\n",
              "\n",
              "  @keyframes spin {\n",
              "    0% {\n",
              "      border-color: transparent;\n",
              "      border-bottom-color: var(--fill-color);\n",
              "      border-left-color: var(--fill-color);\n",
              "    }\n",
              "    20% {\n",
              "      border-color: transparent;\n",
              "      border-left-color: var(--fill-color);\n",
              "      border-top-color: var(--fill-color);\n",
              "    }\n",
              "    30% {\n",
              "      border-color: transparent;\n",
              "      border-left-color: var(--fill-color);\n",
              "      border-top-color: var(--fill-color);\n",
              "      border-right-color: var(--fill-color);\n",
              "    }\n",
              "    40% {\n",
              "      border-color: transparent;\n",
              "      border-right-color: var(--fill-color);\n",
              "      border-top-color: var(--fill-color);\n",
              "    }\n",
              "    60% {\n",
              "      border-color: transparent;\n",
              "      border-right-color: var(--fill-color);\n",
              "    }\n",
              "    80% {\n",
              "      border-color: transparent;\n",
              "      border-right-color: var(--fill-color);\n",
              "      border-bottom-color: var(--fill-color);\n",
              "    }\n",
              "    90% {\n",
              "      border-color: transparent;\n",
              "      border-bottom-color: var(--fill-color);\n",
              "    }\n",
              "  }\n",
              "</style>\n",
              "\n",
              "  <script>\n",
              "    async function quickchart(key) {\n",
              "      const quickchartButtonEl =\n",
              "        document.querySelector('#' + key + ' button');\n",
              "      quickchartButtonEl.disabled = true;  // To prevent multiple clicks.\n",
              "      quickchartButtonEl.classList.add('colab-df-spinner');\n",
              "      try {\n",
              "        const charts = await google.colab.kernel.invokeFunction(\n",
              "            'suggestCharts', [key], {});\n",
              "      } catch (error) {\n",
              "        console.error('Error during call to suggestCharts:', error);\n",
              "      }\n",
              "      quickchartButtonEl.classList.remove('colab-df-spinner');\n",
              "      quickchartButtonEl.classList.add('colab-df-quickchart-complete');\n",
              "    }\n",
              "    (() => {\n",
              "      let quickchartButtonEl =\n",
              "        document.querySelector('#df-0c9b8583-1725-4cbd-ac02-5bd10e827368 button');\n",
              "      quickchartButtonEl.style.display =\n",
              "        google.colab.kernel.accessAllowed ? 'block' : 'none';\n",
              "    })();\n",
              "  </script>\n",
              "</div>\n",
              "\n",
              "    </div>\n",
              "  </div>\n"
            ],
            "application/vnd.google.colaboratory.intrinsic+json": {
              "type": "dataframe",
              "variable_name": "df",
              "summary": "{\n  \"name\": \"df\",\n  \"rows\": 252,\n  \"fields\": [\n    {\n      \"column\": \"Date\",\n      \"properties\": {\n        \"dtype\": \"object\",\n        \"num_unique_values\": 252,\n        \"samples\": [\n          \"2024-07-02 00:00:00+00:00\",\n          \"2023-11-10 00:00:00+00:00\",\n          \"2024-04-15 00:00:00+00:00\"\n        ],\n        \"semantic_type\": \"\",\n        \"description\": \"\"\n      }\n    },\n    {\n      \"column\": \"Adj Close\",\n      \"properties\": {\n        \"dtype\": \"number\",\n        \"std\": 21.511933306090153,\n        \"min\": 164.58599853515625,\n        \"max\": 236.47999572753903,\n        \"num_unique_values\": 250,\n        \"samples\": [\n          191.0688323974609,\n          185.6953582763672,\n          170.42132568359375\n        ],\n        \"semantic_type\": \"\",\n        \"description\": \"\"\n      }\n    },\n    {\n      \"column\": \"Close\",\n      \"properties\": {\n        \"dtype\": \"number\",\n        \"std\": 21.321566842514823,\n        \"min\": 165.0,\n        \"max\": 236.47999572753903,\n        \"num_unique_values\": 250,\n        \"samples\": [\n          191.2899932861328,\n          186.3999938964844,\n          170.85000610351562\n        ],\n        \"semantic_type\": \"\",\n        \"description\": \"\"\n      }\n    },\n    {\n      \"column\": \"High\",\n      \"properties\": {\n        \"dtype\": \"number\",\n        \"std\": 21.571426622057764,\n        \"min\": 166.39999389648438,\n        \"max\": 237.4900054931641,\n        \"num_unique_values\": 247,\n        \"samples\": [\n          197.67999267578125,\n          186.57000732421875,\n          223.82000732421875\n        ],\n        \"semantic_type\": \"\",\n        \"description\": \"\"\n      }\n    },\n    {\n      \"column\": \"Low\",\n      \"properties\": {\n        \"dtype\": \"number\",\n        \"std\": 20.963034040105097,\n        \"min\": 164.0800018310547,\n        \"max\": 234.4499969482422,\n        \"num_unique_values\": 250,\n        \"samples\": [\n          190.6300048828125,\n          183.52999877929688,\n          169.5800018310547\n        ],\n        \"semantic_type\": \"\",\n        \"description\": \"\"\n      }\n    },\n    {\n      \"column\": \"Open\",\n      \"properties\": {\n        \"dtype\": \"number\",\n        \"std\": 21.365475942294886,\n        \"min\": 165.35000610351562,\n        \"max\": 236.47999572753903,\n        \"num_unique_values\": 245,\n        \"samples\": [\n          193.6300048828125,\n          183.97000122070312,\n          210.38999938964844\n        ],\n        \"semantic_type\": \"\",\n        \"description\": \"\"\n      }\n    },\n    {\n      \"column\": \"Volume\",\n      \"properties\": {\n        \"dtype\": \"number\",\n        \"std\": 30257705,\n        \"min\": 24048300,\n        \"max\": 318679900,\n        \"num_unique_values\": 252,\n        \"samples\": [\n          58046200,\n          66133400,\n          73531800\n        ],\n        \"semantic_type\": \"\",\n        \"description\": \"\"\n      }\n    }\n  ]\n}"
            }
          },
          "metadata": {},
          "execution_count": 4
        }
      ],
      "source": [
        "df.head()"
      ]
    },
    {
      "cell_type": "code",
      "execution_count": null,
      "metadata": {
        "id": "ub78xWdHBXyZ"
      },
      "outputs": [],
      "source": [
        "df['Date']=pd.to_datetime(df['Date'])"
      ]
    },
    {
      "cell_type": "code",
      "execution_count": null,
      "metadata": {
        "id": "nXwY3esFBXyZ",
        "outputId": "86fe7be4-9799-4030-f747-c0e8e081eb87",
        "colab": {
          "base_uri": "https://localhost:8080/",
          "height": 303
        }
      },
      "outputs": [
        {
          "output_type": "execute_result",
          "data": {
            "text/plain": [
              "Date         0\n",
              "Adj Close    0\n",
              "Close        0\n",
              "High         0\n",
              "Low          0\n",
              "Open         0\n",
              "Volume       0\n",
              "dtype: int64"
            ],
            "text/html": [
              "<div>\n",
              "<style scoped>\n",
              "    .dataframe tbody tr th:only-of-type {\n",
              "        vertical-align: middle;\n",
              "    }\n",
              "\n",
              "    .dataframe tbody tr th {\n",
              "        vertical-align: top;\n",
              "    }\n",
              "\n",
              "    .dataframe thead th {\n",
              "        text-align: right;\n",
              "    }\n",
              "</style>\n",
              "<table border=\"1\" class=\"dataframe\">\n",
              "  <thead>\n",
              "    <tr style=\"text-align: right;\">\n",
              "      <th></th>\n",
              "      <th>0</th>\n",
              "    </tr>\n",
              "  </thead>\n",
              "  <tbody>\n",
              "    <tr>\n",
              "      <th>Date</th>\n",
              "      <td>0</td>\n",
              "    </tr>\n",
              "    <tr>\n",
              "      <th>Adj Close</th>\n",
              "      <td>0</td>\n",
              "    </tr>\n",
              "    <tr>\n",
              "      <th>Close</th>\n",
              "      <td>0</td>\n",
              "    </tr>\n",
              "    <tr>\n",
              "      <th>High</th>\n",
              "      <td>0</td>\n",
              "    </tr>\n",
              "    <tr>\n",
              "      <th>Low</th>\n",
              "      <td>0</td>\n",
              "    </tr>\n",
              "    <tr>\n",
              "      <th>Open</th>\n",
              "      <td>0</td>\n",
              "    </tr>\n",
              "    <tr>\n",
              "      <th>Volume</th>\n",
              "      <td>0</td>\n",
              "    </tr>\n",
              "  </tbody>\n",
              "</table>\n",
              "</div><br><label><b>dtype:</b> int64</label>"
            ]
          },
          "metadata": {},
          "execution_count": 6
        }
      ],
      "source": [
        "df.isnull().sum()"
      ]
    },
    {
      "cell_type": "code",
      "execution_count": null,
      "metadata": {
        "id": "Lz8ZeK7TBXyZ",
        "outputId": "e6e2d044-eb9a-4719-bc87-80e55bd21b37",
        "colab": {
          "base_uri": "https://localhost:8080/"
        }
      },
      "outputs": [
        {
          "output_type": "execute_result",
          "data": {
            "text/plain": [
              "0"
            ]
          },
          "metadata": {},
          "execution_count": 7
        }
      ],
      "source": [
        "df.duplicated().sum()"
      ]
    },
    {
      "cell_type": "code",
      "execution_count": null,
      "metadata": {
        "id": "AucgloM8BXyZ",
        "outputId": "76374d6b-fbae-4342-9e52-ed53531a5ad6",
        "colab": {
          "base_uri": "https://localhost:8080/"
        }
      },
      "outputs": [
        {
          "output_type": "stream",
          "name": "stdout",
          "text": [
            "<class 'pandas.core.frame.DataFrame'>\n",
            "RangeIndex: 252 entries, 0 to 251\n",
            "Data columns (total 7 columns):\n",
            " #   Column     Non-Null Count  Dtype              \n",
            "---  ------     --------------  -----              \n",
            " 0   Date       252 non-null    datetime64[ns, UTC]\n",
            " 1   Adj Close  252 non-null    float64            \n",
            " 2   Close      252 non-null    float64            \n",
            " 3   High       252 non-null    float64            \n",
            " 4   Low        252 non-null    float64            \n",
            " 5   Open       252 non-null    float64            \n",
            " 6   Volume     252 non-null    int64              \n",
            "dtypes: datetime64[ns, UTC](1), float64(5), int64(1)\n",
            "memory usage: 13.9 KB\n"
          ]
        }
      ],
      "source": [
        "df.info()"
      ]
    },
    {
      "cell_type": "code",
      "execution_count": null,
      "metadata": {
        "id": "nXHqtVTOBXya"
      },
      "outputs": [],
      "source": [
        "df.set_index('Date',inplace=True)"
      ]
    },
    {
      "cell_type": "code",
      "execution_count": null,
      "metadata": {
        "id": "xeDxUnkOBXya",
        "outputId": "0605c704-b181-4fdf-fd8c-3bb33b4d19fa",
        "colab": {
          "base_uri": "https://localhost:8080/",
          "height": 452
        }
      },
      "outputs": [
        {
          "output_type": "execute_result",
          "data": {
            "text/plain": [
              "<Axes: >"
            ]
          },
          "metadata": {},
          "execution_count": 10
        },
        {
          "output_type": "display_data",
          "data": {
            "text/plain": [
              "<Figure size 640x480 with 2 Axes>"
            ],
            "image/png": "[encoded data removed]"
          },
          "metadata": {}
        }
      ],
      "source": [
        "cor=df.corr()\n",
        "sns.heatmap(cor,annot=True)"
      ]
    },
    {
      "cell_type": "code",
      "execution_count": null,
      "metadata": {
        "id": "FAatHevgBXya",
        "outputId": "373d65ad-bb92-4749-f246-ff001ea3686d",
        "colab": {
          "base_uri": "https://localhost:8080/",
          "height": 1000
        }
      },
      "outputs": [
        {
          "output_type": "display_data",
          "data": {
            "text/plain": [
              "<Figure size 640x480 with 1 Axes>"
            ],
            "image/png": "[encoded data removed]"
          },
          "metadata": {}
        },
        {
          "output_type": "display_data",
          "data": {
            "text/plain": [
              "<Figure size 640x480 with 1 Axes>"
            ],
            "image/png": "[encoded data removed]"
          },
          "metadata": {}
        },
        {
          "output_type": "display_data",
          "data": {
            "text/plain": [
              "<Figure size 640x480 with 1 Axes>"
            ],
            "image/png": "[encoded data removed]"
          },
          "metadata": {}
        },
        {
          "output_type": "display_data",
          "data": {
            "text/plain": [
              "<Figure size 640x480 with 1 Axes>"
            ],
            "image/png": "[encoded data removed]"
          },
          "metadata": {}
        },
        {
          "output_type": "display_data",
          "data": {
            "text/plain": [
              "<Figure size 640x480 with 1 Axes>"
            ],
            "image/png": "[encoded data removed]"
          },
          "metadata": {}
        },
        {
          "output_type": "display_data",
          "data": {
            "text/plain": [
              "<Figure size 640x480 with 1 Axes>"
            ],
            "image/png": "[encoded data removed]"
          },
          "metadata": {}
        }
      ],
      "source": [
        "for i in df.columns:\n",
        "    sns.boxplot(df[i])\n",
        "    plt.show()"
      ]
    },
    {
      "cell_type": "markdown",
      "metadata": {
        "id": "d3BCVT46BXyb"
      },
      "source": [
        "in stock market the volume can not be considered as a outlier, it is considered as an anomaly"
      ]
    },
    {
      "cell_type": "code",
      "execution_count": null,
      "metadata": {
        "id": "pGo4pSSoBXyb"
      },
      "outputs": [],
      "source": [
        "# scale the dataframe\n",
        "from sklearn.preprocessing import MinMaxScaler\n",
        "scaler=MinMaxScaler(feature_range=(0,1))\n",
        "df=pd.DataFrame(scaler.fit_transform(df),columns=df.columns,index=df.index)"
      ]
    },
    {
      "cell_type": "code",
      "execution_count": null,
      "metadata": {
        "id": "hKoNrU0zBXyb",
        "outputId": "a117fd83-3553-4e8a-d231-8813005294c5",
        "colab": {
          "base_uri": "https://localhost:8080/",
          "height": 455
        }
      },
      "outputs": [
        {
          "output_type": "execute_result",
          "data": {
            "text/plain": [
              "                           Adj Close     Close      High       Low      Open  \\\n",
              "Date                                                                           \n",
              "2023-11-02 00:00:00+00:00   0.168025  0.175853  0.160079  0.161717  0.142978   \n",
              "2023-11-03 00:00:00+00:00   0.155294  0.162983  0.146575  0.131732  0.124982   \n",
              "2023-11-06 00:00:00+00:00   0.190997  0.199077  0.183289  0.172375  0.155068   \n",
              "2023-11-07 00:00:00+00:00   0.226839  0.235311  0.225630  0.211596  0.194433   \n",
              "2023-11-08 00:00:00+00:00   0.241646  0.250280  0.239837  0.248828  0.238999   \n",
              "...                              ...       ...       ...       ...       ...   \n",
              "2024-10-28 00:00:00+00:00   0.957159  0.956911  0.961176  0.973000  0.955574   \n",
              "2024-10-29 00:00:00+00:00   0.960915  0.960688  0.955549  0.969732  0.952482   \n",
              "2024-10-30 00:00:00+00:00   0.911258  0.910744  0.943452  0.930368  0.945593   \n",
              "2024-10-31 00:00:00+00:00   0.852978  0.852127  0.892249  0.870968  0.899620   \n",
              "2024-11-01 00:00:00+00:00   0.811250  0.810157  0.829231  0.798494  0.781949   \n",
              "\n",
              "                             Volume  \n",
              "Date                                 \n",
              "2023-11-02 00:00:00+00:00  0.180858  \n",
              "2023-11-03 00:00:00+00:00  0.189102  \n",
              "2023-11-06 00:00:00+00:00  0.135060  \n",
              "2023-11-07 00:00:00+00:00  0.157762  \n",
              "2023-11-08 00:00:00+00:00  0.085843  \n",
              "...                             ...  \n",
              "2024-10-28 00:00:00+00:00  0.040861  \n",
              "2024-10-29 00:00:00+00:00  0.038587  \n",
              "2024-10-30 00:00:00+00:00  0.078140  \n",
              "2024-10-31 00:00:00+00:00  0.136855  \n",
              "2024-11-01 00:00:00+00:00  0.139815  \n",
              "\n",
              "[252 rows x 6 columns]"
            ],
            "text/html": [
              "\n",
              "  <div id=\"df-e8428773-8248-4d35-9943-40fa0fc2036f\" class=\"colab-df-container\">\n",
              "    <div>\n",
              "<style scoped>\n",
              "    .dataframe tbody tr th:only-of-type {\n",
              "        vertical-align: middle;\n",
              "    }\n",
              "\n",
              "    .dataframe tbody tr th {\n",
              "        vertical-align: top;\n",
              "    }\n",
              "\n",
              "    .dataframe thead th {\n",
              "        text-align: right;\n",
              "    }\n",
              "</style>\n",
              "<table border=\"1\" class=\"dataframe\">\n",
              "  <thead>\n",
              "    <tr style=\"text-align: right;\">\n",
              "      <th></th>\n",
              "      <th>Adj Close</th>\n",
              "      <th>Close</th>\n",
              "      <th>High</th>\n",
              "      <th>Low</th>\n",
              "      <th>Open</th>\n",
              "      <th>Volume</th>\n",
              "    </tr>\n",
              "    <tr>\n",
              "      <th>Date</th>\n",
              "      <th></th>\n",
              "      <th></th>\n",
              "      <th></th>\n",
              "      <th></th>\n",
              "      <th></th>\n",
              "      <th></th>\n",
              "    </tr>\n",
              "  </thead>\n",
              "  <tbody>\n",
              "    <tr>\n",
              "      <th>2023-11-02 00:00:00+00:00</th>\n",
              "      <td>0.168025</td>\n",
              "      <td>0.175853</td>\n",
              "      <td>0.160079</td>\n",
              "      <td>0.161717</td>\n",
              "      <td>0.142978</td>\n",
              "      <td>0.180858</td>\n",
              "    </tr>\n",
              "    <tr>\n",
              "      <th>2023-11-03 00:00:00+00:00</th>\n",
              "      <td>0.155294</td>\n",
              "      <td>0.162983</td>\n",
              "      <td>0.146575</td>\n",
              "      <td>0.131732</td>\n",
              "      <td>0.124982</td>\n",
              "      <td>0.189102</td>\n",
              "    </tr>\n",
              "    <tr>\n",
              "      <th>2023-11-06 00:00:00+00:00</th>\n",
              "      <td>0.190997</td>\n",
              "      <td>0.199077</td>\n",
              "      <td>0.183289</td>\n",
              "      <td>0.172375</td>\n",
              "      <td>0.155068</td>\n",
              "      <td>0.135060</td>\n",
              "    </tr>\n",
              "    <tr>\n",
              "      <th>2023-11-07 00:00:00+00:00</th>\n",
              "      <td>0.226839</td>\n",
              "      <td>0.235311</td>\n",
              "      <td>0.225630</td>\n",
              "      <td>0.211596</td>\n",
              "      <td>0.194433</td>\n",
              "      <td>0.157762</td>\n",
              "    </tr>\n",
              "    <tr>\n",
              "      <th>2023-11-08 00:00:00+00:00</th>\n",
              "      <td>0.241646</td>\n",
              "      <td>0.250280</td>\n",
              "      <td>0.239837</td>\n",
              "      <td>0.248828</td>\n",
              "      <td>0.238999</td>\n",
              "      <td>0.085843</td>\n",
              "    </tr>\n",
              "    <tr>\n",
              "      <th>...</th>\n",
              "      <td>...</td>\n",
              "      <td>...</td>\n",
              "      <td>...</td>\n",
              "      <td>...</td>\n",
              "      <td>...</td>\n",
              "      <td>...</td>\n",
              "    </tr>\n",
              "    <tr>\n",
              "      <th>2024-10-28 00:00:00+00:00</th>\n",
              "      <td>0.957159</td>\n",
              "      <td>0.956911</td>\n",
              "      <td>0.961176</td>\n",
              "      <td>0.973000</td>\n",
              "      <td>0.955574</td>\n",
              "      <td>0.040861</td>\n",
              "    </tr>\n",
              "    <tr>\n",
              "      <th>2024-10-29 00:00:00+00:00</th>\n",
              "      <td>0.960915</td>\n",
              "      <td>0.960688</td>\n",
              "      <td>0.955549</td>\n",
              "      <td>0.969732</td>\n",
              "      <td>0.952482</td>\n",
              "      <td>0.038587</td>\n",
              "    </tr>\n",
              "    <tr>\n",
              "      <th>2024-10-30 00:00:00+00:00</th>\n",
              "      <td>0.911258</td>\n",
              "      <td>0.910744</td>\n",
              "      <td>0.943452</td>\n",
              "      <td>0.930368</td>\n",
              "      <td>0.945593</td>\n",
              "      <td>0.078140</td>\n",
              "    </tr>\n",
              "    <tr>\n",
              "      <th>2024-10-31 00:00:00+00:00</th>\n",
              "      <td>0.852978</td>\n",
              "      <td>0.852127</td>\n",
              "      <td>0.892249</td>\n",
              "      <td>0.870968</td>\n",
              "      <td>0.899620</td>\n",
              "      <td>0.136855</td>\n",
              "    </tr>\n",
              "    <tr>\n",
              "      <th>2024-11-01 00:00:00+00:00</th>\n",
              "      <td>0.811250</td>\n",
              "      <td>0.810157</td>\n",
              "      <td>0.829231</td>\n",
              "      <td>0.798494</td>\n",
              "      <td>0.781949</td>\n",
              "      <td>0.139815</td>\n",
              "    </tr>\n",
              "  </tbody>\n",
              "</table>\n",
              "<p>252 rows × 6 columns</p>\n",
              "</div>\n",
              "    <div class=\"colab-df-buttons\">\n",
              "\n",
              "  <div class=\"colab-df-container\">\n",
              "    <button class=\"colab-df-convert\" onclick=\"convertToInteractive('df-e8428773-8248-4d35-9943-40fa0fc2036f')\"\n",
              "            title=\"Convert this dataframe to an interactive table.\"\n",
              "            style=\"display:none;\">\n",
              "\n",
              "  <svg xmlns=\"http://www.w3.org/2000/svg\" height=\"24px\" viewBox=\"0 -960 960 960\">\n",
              "    <path d=\"M120-120v-720h720v720H120Zm60-500h600v-160H180v160Zm220 220h160v-160H400v160Zm0 220h160v-160H400v160ZM180-400h160v-160H180v160Zm440 0h160v-160H620v160ZM180-180h160v-160H180v160Zm440 0h160v-160H620v160Z\"/>\n",
              "  </svg>\n",
              "    </button>\n",
              "\n",
              "  <style>\n",
              "    .colab-df-container {\n",
              "      display:flex;\n",
              "      gap: 12px;\n",
              "    }\n",
              "\n",
              "    .colab-df-convert {\n",
              "      background-color: #E8F0FE;\n",
              "      border: none;\n",
              "      border-radius: 50%;\n",
              "      cursor: pointer;\n",
              "      display: none;\n",
              "      fill: #1967D2;\n",
              "      height: 32px;\n",
              "      padding: 0 0 0 0;\n",
              "      width: 32px;\n",
              "    }\n",
              "\n",
              "    .colab-df-convert:hover {\n",
              "      background-color: #E2EBFA;\n",
              "      box-shadow: 0px 1px 2px rgba(60, 64, 67, 0.3), 0px 1px 3px 1px rgba(60, 64, 67, 0.15);\n",
              "      fill: #174EA6;\n",
              "    }\n",
              "\n",
              "    .colab-df-buttons div {\n",
              "      margin-bottom: 4px;\n",
              "    }\n",
              "\n",
              "    [theme=dark] .colab-df-convert {\n",
              "      background-color: #3B4455;\n",
              "      fill: #D2E3FC;\n",
              "    }\n",
              "\n",
              "    [theme=dark] .colab-df-convert:hover {\n",
              "      background-color: #434B5C;\n",
              "      box-shadow: 0px 1px 3px 1px rgba(0, 0, 0, 0.15);\n",
              "      filter: drop-shadow(0px 1px 2px rgba(0, 0, 0, 0.3));\n",
              "      fill: #FFFFFF;\n",
              "    }\n",
              "  </style>\n",
              "\n",
              "    <script>\n",
              "      const buttonEl =\n",
              "        document.querySelector('#df-e8428773-8248-4d35-9943-40fa0fc2036f button.colab-df-convert');\n",
              "      buttonEl.style.display =\n",
              "        google.colab.kernel.accessAllowed ? 'block' : 'none';\n",
              "\n",
              "      async function convertToInteractive(key) {\n",
              "        const element = document.querySelector('#df-e8428773-8248-4d35-9943-40fa0fc2036f');\n",
              "        const dataTable =\n",
              "          await google.colab.kernel.invokeFunction('convertToInteractive',\n",
              "                                                    [key], {});\n",
              "        if (!dataTable) return;\n",
              "\n",
              "        const docLinkHtml = 'Like what you see? Visit the ' +\n",
              "          '<a target=\"_blank\" href=https://colab.research.google.com/notebooks/data_table.ipynb>data table notebook</a>'\n",
              "          + ' to learn more about interactive tables.';\n",
              "        element.innerHTML = '';\n",
              "        dataTable['output_type'] = 'display_data';\n",
              "        await google.colab.output.renderOutput(dataTable, element);\n",
              "        const docLink = document.createElement('div');\n",
              "        docLink.innerHTML = docLinkHtml;\n",
              "        element.appendChild(docLink);\n",
              "      }\n",
              "    </script>\n",
              "  </div>\n",
              "\n",
              "\n",
              "<div id=\"df-4a915e03-efb1-4a35-a5b5-ee6221465c82\">\n",
              "  <button class=\"colab-df-quickchart\" onclick=\"quickchart('df-4a915e03-efb1-4a35-a5b5-ee6221465c82')\"\n",
              "            title=\"Suggest charts\"\n",
              "            style=\"display:none;\">\n",
              "\n",
              "<svg xmlns=\"http://www.w3.org/2000/svg\" height=\"24px\"viewBox=\"0 0 24 24\"\n",
              "     width=\"24px\">\n",
              "    <g>\n",
              "        <path d=\"M19 3H5c-1.1 0-2 .9-2 2v14c0 1.1.9 2 2 2h14c1.1 0 2-.9 2-2V5c0-1.1-.9-2-2-2zM9 17H7v-7h2v7zm4 0h-2V7h2v10zm4 0h-2v-4h2v4z\"/>\n",
              "    </g>\n",
              "</svg>\n",
              "  </button>\n",
              "\n",
              "<style>\n",
              "  .colab-df-quickchart {\n",
              "      --bg-color: #E8F0FE;\n",
              "      --fill-color: #1967D2;\n",
              "      --hover-bg-color: #E2EBFA;\n",
              "      --hover-fill-color: #174EA6;\n",
              "      --disabled-fill-color: #AAA;\n",
              "      --disabled-bg-color: #DDD;\n",
              "  }\n",
              "\n",
              "  [theme=dark] .colab-df-quickchart {\n",
              "      --bg-color: #3B4455;\n",
              "      --fill-color: #D2E3FC;\n",
              "      --hover-bg-color: #434B5C;\n",
              "      --hover-fill-color: #FFFFFF;\n",
              "      --disabled-bg-color: #3B4455;\n",
              "      --disabled-fill-color: #666;\n",
              "  }\n",
              "\n",
              "  .colab-df-quickchart {\n",
              "    background-color: var(--bg-color);\n",
              "    border: none;\n",
              "    border-radius: 50%;\n",
              "    cursor: pointer;\n",
              "    display: none;\n",
              "    fill: var(--fill-color);\n",
              "    height: 32px;\n",
              "    padding: 0;\n",
              "    width: 32px;\n",
              "  }\n",
              "\n",
              "  .colab-df-quickchart:hover {\n",
              "    background-color: var(--hover-bg-color);\n",
              "    box-shadow: 0 1px 2px rgba(60, 64, 67, 0.3), 0 1px 3px 1px rgba(60, 64, 67, 0.15);\n",
              "    fill: var(--button-hover-fill-color);\n",
              "  }\n",
              "\n",
              "  .colab-df-quickchart-complete:disabled,\n",
              "  .colab-df-quickchart-complete:disabled:hover {\n",
              "    background-color: var(--disabled-bg-color);\n",
              "    fill: var(--disabled-fill-color);\n",
              "    box-shadow: none;\n",
              "  }\n",
              "\n",
              "  .colab-df-spinner {\n",
              "    border: 2px solid var(--fill-color);\n",
              "    border-color: transparent;\n",
              "    border-bottom-color: var(--fill-color);\n",
              "    animation:\n",
              "      spin 1s steps(1) infinite;\n",
              "  }\n",
              "\n",
              "  @keyframes spin {\n",
              "    0% {\n",
              "      border-color: transparent;\n",
              "      border-bottom-color: var(--fill-color);\n",
              "      border-left-color: var(--fill-color);\n",
              "    }\n",
              "    20% {\n",
              "      border-color: transparent;\n",
              "      border-left-color: var(--fill-color);\n",
              "      border-top-color: var(--fill-color);\n",
              "    }\n",
              "    30% {\n",
              "      border-color: transparent;\n",
              "      border-left-color: var(--fill-color);\n",
              "      border-top-color: var(--fill-color);\n",
              "      border-right-color: var(--fill-color);\n",
              "    }\n",
              "    40% {\n",
              "      border-color: transparent;\n",
              "      border-right-color: var(--fill-color);\n",
              "      border-top-color: var(--fill-color);\n",
              "    }\n",
              "    60% {\n",
              "      border-color: transparent;\n",
              "      border-right-color: var(--fill-color);\n",
              "    }\n",
              "    80% {\n",
              "      border-color: transparent;\n",
              "      border-right-color: var(--fill-color);\n",
              "      border-bottom-color: var(--fill-color);\n",
              "    }\n",
              "    90% {\n",
              "      border-color: transparent;\n",
              "      border-bottom-color: var(--fill-color);\n",
              "    }\n",
              "  }\n",
              "</style>\n",
              "\n",
              "  <script>\n",
              "    async function quickchart(key) {\n",
              "      const quickchartButtonEl =\n",
              "        document.querySelector('#' + key + ' button');\n",
              "      quickchartButtonEl.disabled = true;  // To prevent multiple clicks.\n",
              "      quickchartButtonEl.classList.add('colab-df-spinner');\n",
              "      try {\n",
              "        const charts = await google.colab.kernel.invokeFunction(\n",
              "            'suggestCharts', [key], {});\n",
              "      } catch (error) {\n",
              "        console.error('Error during call to suggestCharts:', error);\n",
              "      }\n",
              "      quickchartButtonEl.classList.remove('colab-df-spinner');\n",
              "      quickchartButtonEl.classList.add('colab-df-quickchart-complete');\n",
              "    }\n",
              "    (() => {\n",
              "      let quickchartButtonEl =\n",
              "        document.querySelector('#df-4a915e03-efb1-4a35-a5b5-ee6221465c82 button');\n",
              "      quickchartButtonEl.style.display =\n",
              "        google.colab.kernel.accessAllowed ? 'block' : 'none';\n",
              "    })();\n",
              "  </script>\n",
              "</div>\n",
              "\n",
              "  <div id=\"id_8b5c2301-47f6-4bb9-b233-902afd0b656b\">\n",
              "    <style>\n",
              "      .colab-df-generate {\n",
              "        background-color: #E8F0FE;\n",
              "        border: none;\n",
              "        border-radius: 50%;\n",
              "        cursor: pointer;\n",
              "        display: none;\n",
              "        fill: #1967D2;\n",
              "        height: 32px;\n",
              "        padding: 0 0 0 0;\n",
              "        width: 32px;\n",
              "      }\n",
              "\n",
              "      .colab-df-generate:hover {\n",
              "        background-color: #E2EBFA;\n",
              "        box-shadow: 0px 1px 2px rgba(60, 64, 67, 0.3), 0px 1px 3px 1px rgba(60, 64, 67, 0.15);\n",
              "        fill: #174EA6;\n",
              "      }\n",
              "\n",
              "      [theme=dark] .colab-df-generate {\n",
              "        background-color: #3B4455;\n",
              "        fill: #D2E3FC;\n",
              "      }\n",
              "\n",
              "      [theme=dark] .colab-df-generate:hover {\n",
              "        background-color: #434B5C;\n",
              "        box-shadow: 0px 1px 3px 1px rgba(0, 0, 0, 0.15);\n",
              "        filter: drop-shadow(0px 1px 2px rgba(0, 0, 0, 0.3));\n",
              "        fill: #FFFFFF;\n",
              "      }\n",
              "    </style>\n",
              "    <button class=\"colab-df-generate\" onclick=\"generateWithVariable('df')\"\n",
              "            title=\"Generate code using this dataframe.\"\n",
              "            style=\"display:none;\">\n",
              "\n",
              "  <svg xmlns=\"http://www.w3.org/2000/svg\" height=\"24px\"viewBox=\"0 0 24 24\"\n",
              "       width=\"24px\">\n",
              "    <path d=\"M7,19H8.4L18.45,9,17,7.55,7,17.6ZM5,21V16.75L18.45,3.32a2,2,0,0,1,2.83,0l1.4,1.43a1.91,1.91,0,0,1,.58,1.4,1.91,1.91,0,0,1-.58,1.4L9.25,21ZM18.45,9,17,7.55Zm-12,3A5.31,5.31,0,0,0,4.9,8.1,5.31,5.31,0,0,0,1,6.5,5.31,5.31,0,0,0,4.9,4.9,5.31,5.31,0,0,0,6.5,1,5.31,5.31,0,0,0,8.1,4.9,5.31,5.31,0,0,0,12,6.5,5.46,5.46,0,0,0,6.5,12Z\"/>\n",
              "  </svg>\n",
              "    </button>\n",
              "    <script>\n",
              "      (() => {\n",
              "      const buttonEl =\n",
              "        document.querySelector('#id_8b5c2301-47f6-4bb9-b233-902afd0b656b button.colab-df-generate');\n",
              "      buttonEl.style.display =\n",
              "        google.colab.kernel.accessAllowed ? 'block' : 'none';\n",
              "\n",
              "      buttonEl.onclick = () => {\n",
              "        google.colab.notebook.generateWithVariable('df');\n",
              "      }\n",
              "      })();\n",
              "    </script>\n",
              "  </div>\n",
              "\n",
              "    </div>\n",
              "  </div>\n"
            ],
            "application/vnd.google.colaboratory.intrinsic+json": {
              "type": "dataframe",
              "variable_name": "df",
              "summary": "{\n  \"name\": \"df\",\n  \"rows\": 252,\n  \"fields\": [\n    {\n      \"column\": \"Date\",\n      \"properties\": {\n        \"dtype\": \"date\",\n        \"min\": \"2023-11-02 00:00:00+00:00\",\n        \"max\": \"2024-11-01 00:00:00+00:00\",\n        \"num_unique_values\": 252,\n        \"samples\": [\n          \"2024-07-02 00:00:00+00:00\",\n          \"2023-11-10 00:00:00+00:00\",\n          \"2024-04-15 00:00:00+00:00\"\n        ],\n        \"semantic_type\": \"\",\n        \"description\": \"\"\n      }\n    },\n    {\n      \"column\": \"Adj Close\",\n      \"properties\": {\n        \"dtype\": \"number\",\n        \"std\": 0.2992173776139597,\n        \"min\": 0.0,\n        \"max\": 1.0,\n        \"num_unique_values\": 250,\n        \"samples\": [\n          0.36835945832081984,\n          0.2936178341110165,\n          0.081165707518287\n        ],\n        \"semantic_type\": \"\",\n        \"description\": \"\"\n      }\n    },\n    {\n      \"column\": \"Close\",\n      \"properties\": {\n        \"dtype\": \"number\",\n        \"std\": 0.2982871868625514,\n        \"min\": 0.0,\n        \"max\": 1.0,\n        \"num_unique_values\": 250,\n        \"samples\": [\n          0.3677951155221475,\n          0.2993843757077852,\n          0.0818411647059154\n        ],\n        \"semantic_type\": \"\",\n        \"description\": \"\"\n      }\n    },\n    {\n      \"column\": \"High\",\n      \"properties\": {\n        \"dtype\": \"number\",\n        \"std\": 0.3034382206102393,\n        \"min\": 0.0,\n        \"max\": 1.0,\n        \"num_unique_values\": 247,\n        \"samples\": [\n          0.44000553772251516,\n          0.28372499841702714,\n          0.8077085955970813\n        ],\n        \"semantic_type\": \"\",\n        \"description\": \"\"\n      }\n    },\n    {\n      \"column\": \"Low\",\n      \"properties\": {\n        \"dtype\": \"number\",\n        \"std\": 0.2978973354367191,\n        \"min\": 0.0,\n        \"max\": 1.0,\n        \"num_unique_values\": 250,\n        \"samples\": [\n          0.3772915289754386,\n          0.27639616737008454,\n          0.07815831151957342\n        ],\n        \"semantic_type\": \"\",\n        \"description\": \"\"\n      }\n    },\n    {\n      \"column\": \"Open\",\n      \"properties\": {\n        \"dtype\": \"number\",\n        \"std\": 0.3003722628841622,\n        \"min\": 0.0,\n        \"max\": 1.0,\n        \"num_unique_values\": 245,\n        \"samples\": [\n          0.3975819331449135,\n          0.26177418576339573,\n          0.6332068024219284\n        ],\n        \"semantic_type\": \"\",\n        \"description\": \"\"\n      }\n    },\n    {\n      \"column\": \"Volume\",\n      \"properties\": {\n        \"dtype\": \"number\",\n        \"std\": 0.10269674162814109,\n        \"min\": 0.0,\n        \"max\": 0.9999999999999999,\n        \"num_unique_values\": 252,\n        \"samples\": [\n          0.11539122076518608,\n          0.14283973613149437,\n          0.16795041672380012\n        ],\n        \"semantic_type\": \"\",\n        \"description\": \"\"\n      }\n    }\n  ]\n}"
            }
          },
          "metadata": {},
          "execution_count": 13
        }
      ],
      "source": [
        "df"
      ]
    },
    {
      "cell_type": "markdown",
      "metadata": {
        "id": "vsFlmkc5BXyb"
      },
      "source": [
        "### **HYBRID MODEL (LSTM+LR)**"
      ]
    },
    {
      "cell_type": "markdown",
      "metadata": {
        "id": "2ALBJQkIBXyb"
      },
      "source": [
        "### APPROACH-1"
      ]
    },
    {
      "cell_type": "markdown",
      "metadata": {
        "id": "uChSP9seBXyb"
      },
      "source": [
        "**LINEAR REGRESSION**"
      ]
    },
    {
      "cell_type": "code",
      "execution_count": null,
      "metadata": {
        "id": "5_3A0kGzBXyc",
        "outputId": "d5c90e6d-fc6b-429f-8666-158683cce0cb",
        "colab": {
          "base_uri": "https://localhost:8080/"
        }
      },
      "outputs": [
        {
          "output_type": "stream",
          "name": "stdout",
          "text": [
            "RMSE:0.002739926804601374\n",
            "MAE:0.0024596947423728053\n",
            "R2:0.9999039580218739\n"
          ]
        }
      ],
      "source": [
        "#import required libraries\n",
        "from sklearn.linear_model import LinearRegression\n",
        "from sklearn.model_selection import train_test_split\n",
        "from sklearn.metrics import root_mean_squared_error,mean_absolute_error,r2_score\n",
        "\n",
        "#define dependent and independent features\n",
        "x=df.drop(columns='Close')\n",
        "y=df[['Close']]\n",
        "\n",
        "#split the data into training and testing\n",
        "x_train,x_test,y_train,y_test=train_test_split(x,y,train_size=0.8,random_state=42)\n",
        "\n",
        "#initial modelling\n",
        "model_lr11=LinearRegression()\n",
        "model_lr11.fit(x_train,y_train)\n",
        "y_pred_lr11=model_lr11.predict(x_test)\n",
        "\n",
        "#evaluation metrics for linear regression model with all features as predictors\n",
        "rmse_lr11=root_mean_squared_error(y_test,y_pred_lr11)\n",
        "mae_lr11=mean_absolute_error(y_test,y_pred_lr11)\n",
        "r2_lr11=r2_score(y_test,y_pred_lr11)\n",
        "print(f'RMSE:{rmse_lr11}\\nMAE:{mae_lr11}\\nR2:{r2_lr11}')"
      ]
    },
    {
      "cell_type": "markdown",
      "metadata": {
        "id": "MFgROEN1BXyc"
      },
      "source": [
        "**LSTM**"
      ]
    },
    {
      "cell_type": "code",
      "execution_count": null,
      "metadata": {
        "id": "QlAQygGpBXyc",
        "outputId": "fb73be91-d4fe-4087-c52d-ac109d8c3dd2",
        "colab": {
          "base_uri": "https://localhost:8080/"
        }
      },
      "outputs": [
        {
          "output_type": "stream",
          "name": "stdout",
          "text": [
            "(252, 5)\n",
            "(252, 1)\n"
          ]
        }
      ],
      "source": [
        "print(x.shape)\n",
        "print(y.shape)"
      ]
    },
    {
      "cell_type": "code",
      "execution_count": null,
      "metadata": {
        "id": "knTY1HByBXyc"
      },
      "outputs": [],
      "source": [
        "def create_sequences(features, target, time_steps=60):\n",
        "    X, y = [], []\n",
        "    for i in range(len(features) - time_steps):\n",
        "        X.append(features[i:i+time_steps])\n",
        "        y.append(target[i+time_steps])\n",
        "    return np.array(X), np.array(y)\n",
        "\n",
        "time_steps = 60  # Use past 60 days for prediction\n",
        "x_array=x.to_numpy()\n",
        "y_array=y.to_numpy()\n",
        "X, y = create_sequences(x_array, y_array, time_steps)\n",
        "\n",
        "# Split into training and testing sets\n",
        "X_train, X_test, y_train, y_test = train_test_split(X, y, test_size=0.2, shuffle=False)\n",
        "\n",
        "# Reshape for LSTM input\n",
        "X_train = X_train.reshape(X_train.shape[0], X_train.shape[1], X_train.shape[2])\n",
        "X_test = X_test.reshape(X_test.shape[0], X_test.shape[1], X_test.shape[2])\n"
      ]
    },
    {
      "cell_type": "code",
      "execution_count": null,
      "metadata": {
        "id": "pLQi5byaBXyc",
        "outputId": "544ec337-e16c-446a-a72b-2e9a69a252c8",
        "colab": {
          "base_uri": "https://localhost:8080/"
        }
      },
      "outputs": [
        {
          "output_type": "stream",
          "name": "stdout",
          "text": [
            "(153, 60, 5)\n",
            "(51, 5)\n"
          ]
        }
      ],
      "source": [
        "print(X_train.shape)\n",
        "print(x_test.shape)"
      ]
    },
    {
      "cell_type": "code",
      "execution_count": null,
      "metadata": {
        "id": "X575qnu6BXyd",
        "colab": {
          "base_uri": "https://localhost:8080/"
        },
        "outputId": "d03a5766-6f48-46a0-c883-b79a716a9bdc"
      },
      "outputs": [
        {
          "output_type": "stream",
          "name": "stderr",
          "text": [
            "/usr/local/lib/python3.11/dist-packages/keras/src/layers/rnn/rnn.py:200: UserWarning: Do not pass an `input_shape`/`input_dim` argument to a layer. When using Sequential models, prefer using an `Input(shape)` object as the first layer in the model instead.\n",
            "  super().__init__(**kwargs)\n"
          ]
        }
      ],
      "source": [
        "import tensorflow as tf\n",
        "tf.random.set_seed(42)\n",
        "from tensorflow.keras.models import Sequential\n",
        "from tensorflow.keras.layers import LSTM,Dense,Dropout\n",
        "model_lstm11 = Sequential([\n",
        "    LSTM(units=50, return_sequences=True, input_shape=(time_steps, X_train.shape[2])),\n",
        "    Dropout(0.2),\n",
        "    LSTM(units=50, return_sequences=True),\n",
        "\n",
        "    LSTM(units=50),\n",
        "    Dense(units=30),\n",
        "\n",
        "    Dense(units=1)  # Output layer (Predicting Close price)\n",
        "])\n",
        "\n",
        "model_lstm11.compile(optimizer='adam', loss='mean_squared_error')\n"
      ]
    },
    {
      "cell_type": "code",
      "execution_count": null,
      "metadata": {
        "id": "69sNAJ7wBXyd",
        "outputId": "d940e274-e2d0-4f93-b80f-6a6e7fac9e5f",
        "colab": {
          "base_uri": "https://localhost:8080/"
        }
      },
      "outputs": [
        {
          "output_type": "stream",
          "name": "stdout",
          "text": [
            "Epoch 1/20\n",
            "\u001b[1m6/6\u001b[0m \u001b[32m━━━━━━━━━━━━━━━━━━━━\u001b[0m\u001b[37m\u001b[0m \u001b[1m7s\u001b[0m 234ms/step - loss: 0.1309 - val_loss: 0.0349\n",
            "Epoch 2/20\n",
            "\u001b[1m6/6\u001b[0m \u001b[32m━━━━━━━━━━━━━━━━━━━━\u001b[0m\u001b[37m\u001b[0m \u001b[1m1s\u001b[0m 101ms/step - loss: 0.0264 - val_loss: 0.0622\n",
            "Epoch 3/20\n",
            "\u001b[1m6/6\u001b[0m \u001b[32m━━━━━━━━━━━━━━━━━━━━\u001b[0m\u001b[37m\u001b[0m \u001b[1m1s\u001b[0m 115ms/step - loss: 0.0246 - val_loss: 0.0042\n",
            "Epoch 4/20\n",
            "\u001b[1m6/6\u001b[0m \u001b[32m━━━━━━━━━━━━━━━━━━━━\u001b[0m\u001b[37m\u001b[0m \u001b[1m1s\u001b[0m 117ms/step - loss: 0.0140 - val_loss: 0.0041\n",
            "Epoch 5/20\n",
            "\u001b[1m6/6\u001b[0m \u001b[32m━━━━━━━━━━━━━━━━━━━━\u001b[0m\u001b[37m\u001b[0m \u001b[1m1s\u001b[0m 98ms/step - loss: 0.0122 - val_loss: 0.0095\n",
            "Epoch 6/20\n",
            "\u001b[1m6/6\u001b[0m \u001b[32m━━━━━━━━━━━━━━━━━━━━\u001b[0m\u001b[37m\u001b[0m \u001b[1m1s\u001b[0m 99ms/step - loss: 0.0128 - val_loss: 0.0056\n",
            "Epoch 7/20\n",
            "\u001b[1m6/6\u001b[0m \u001b[32m━━━━━━━━━━━━━━━━━━━━\u001b[0m\u001b[37m\u001b[0m \u001b[1m1s\u001b[0m 143ms/step - loss: 0.0109 - val_loss: 0.0040\n",
            "Epoch 8/20\n",
            "\u001b[1m6/6\u001b[0m \u001b[32m━━━━━━━━━━━━━━━━━━━━\u001b[0m\u001b[37m\u001b[0m \u001b[1m1s\u001b[0m 148ms/step - loss: 0.0111 - val_loss: 0.0042\n",
            "Epoch 9/20\n",
            "\u001b[1m6/6\u001b[0m \u001b[32m━━━━━━━━━━━━━━━━━━━━\u001b[0m\u001b[37m\u001b[0m \u001b[1m1s\u001b[0m 100ms/step - loss: 0.0102 - val_loss: 0.0042\n",
            "Epoch 10/20\n",
            "\u001b[1m6/6\u001b[0m \u001b[32m━━━━━━━━━━━━━━━━━━━━\u001b[0m\u001b[37m\u001b[0m \u001b[1m1s\u001b[0m 103ms/step - loss: 0.0097 - val_loss: 0.0047\n",
            "Epoch 11/20\n",
            "\u001b[1m6/6\u001b[0m \u001b[32m━━━━━━━━━━━━━━━━━━━━\u001b[0m\u001b[37m\u001b[0m \u001b[1m1s\u001b[0m 103ms/step - loss: 0.0095 - val_loss: 0.0041\n",
            "Epoch 12/20\n",
            "\u001b[1m6/6\u001b[0m \u001b[32m━━━━━━━━━━━━━━━━━━━━\u001b[0m\u001b[37m\u001b[0m \u001b[1m1s\u001b[0m 101ms/step - loss: 0.0094 - val_loss: 0.0069\n",
            "Epoch 13/20\n",
            "\u001b[1m6/6\u001b[0m \u001b[32m━━━━━━━━━━━━━━━━━━━━\u001b[0m\u001b[37m\u001b[0m \u001b[1m1s\u001b[0m 106ms/step - loss: 0.0080 - val_loss: 0.0042\n",
            "Epoch 14/20\n",
            "\u001b[1m6/6\u001b[0m \u001b[32m━━━━━━━━━━━━━━━━━━━━\u001b[0m\u001b[37m\u001b[0m \u001b[1m1s\u001b[0m 101ms/step - loss: 0.0078 - val_loss: 0.0055\n",
            "Epoch 15/20\n",
            "\u001b[1m6/6\u001b[0m \u001b[32m━━━━━━━━━━━━━━━━━━━━\u001b[0m\u001b[37m\u001b[0m \u001b[1m1s\u001b[0m 104ms/step - loss: 0.0076 - val_loss: 0.0067\n",
            "Epoch 16/20\n",
            "\u001b[1m6/6\u001b[0m \u001b[32m━━━━━━━━━━━━━━━━━━━━\u001b[0m\u001b[37m\u001b[0m \u001b[1m1s\u001b[0m 104ms/step - loss: 0.0079 - val_loss: 0.0041\n",
            "Epoch 17/20\n",
            "\u001b[1m6/6\u001b[0m \u001b[32m━━━━━━━━━━━━━━━━━━━━\u001b[0m\u001b[37m\u001b[0m \u001b[1m1s\u001b[0m 104ms/step - loss: 0.0079 - val_loss: 0.0041\n",
            "Epoch 18/20\n",
            "\u001b[1m6/6\u001b[0m \u001b[32m━━━━━━━━━━━━━━━━━━━━\u001b[0m\u001b[37m\u001b[0m \u001b[1m1s\u001b[0m 100ms/step - loss: 0.0071 - val_loss: 0.0049\n",
            "Epoch 19/20\n",
            "\u001b[1m6/6\u001b[0m \u001b[32m━━━━━━━━━━━━━━━━━━━━\u001b[0m\u001b[37m\u001b[0m \u001b[1m1s\u001b[0m 106ms/step - loss: 0.0069 - val_loss: 0.0052\n",
            "Epoch 20/20\n",
            "\u001b[1m6/6\u001b[0m \u001b[32m━━━━━━━━━━━━━━━━━━━━\u001b[0m\u001b[37m\u001b[0m \u001b[1m1s\u001b[0m 122ms/step - loss: 0.0065 - val_loss: 0.0038\n"
          ]
        },
        {
          "output_type": "execute_result",
          "data": {
            "text/plain": [
              "<keras.src.callbacks.history.History at 0x78800a8ecdd0>"
            ]
          },
          "metadata": {},
          "execution_count": 19
        }
      ],
      "source": [
        "model_lstm11.fit(X_train, y_train, epochs=20, batch_size=30, validation_data=(X_test, y_test))\n"
      ]
    },
    {
      "cell_type": "code",
      "execution_count": null,
      "metadata": {
        "id": "8lb9oVhdBXyd",
        "outputId": "5472e71e-b8bb-42eb-d7bc-85d7134443f9",
        "colab": {
          "base_uri": "https://localhost:8080/"
        }
      },
      "outputs": [
        {
          "output_type": "stream",
          "name": "stdout",
          "text": [
            "\u001b[1m2/2\u001b[0m \u001b[32m━━━━━━━━━━━━━━━━━━━━\u001b[0m\u001b[37m\u001b[0m \u001b[1m2s\u001b[0m 1s/step\n"
          ]
        }
      ],
      "source": [
        "y_pred_lstm11 = model_lstm11.predict(X_test)\n"
      ]
    },
    {
      "cell_type": "code",
      "execution_count": null,
      "metadata": {
        "id": "qbBlllW2BXyd",
        "outputId": "dde37149-9285-4e02-e5e8-5faac6388c6e",
        "colab": {
          "base_uri": "https://localhost:8080/"
        }
      },
      "outputs": [
        {
          "output_type": "stream",
          "name": "stdout",
          "text": [
            "MAE_LSTM11: 0.05, RMSE_LSTM11: 0.06, R2_LSTM11: 0.20\n"
          ]
        }
      ],
      "source": [
        "from sklearn.metrics import mean_absolute_error, root_mean_squared_error,r2_score\n",
        "\n",
        "mae_lstm11 = mean_absolute_error(y_test, y_pred_lstm11)\n",
        "rmse_lstm11 = root_mean_squared_error(y_test, y_pred_lstm11)\n",
        "r2_lstm11=r2_score(y_test,y_pred_lstm11)\n",
        "print(f\"MAE_LSTM11: {mae_lstm11:.2f}, RMSE_LSTM11: {rmse_lstm11:.2f}, R2_LSTM11: {r2_lstm11:.2f}\")\n"
      ]
    },
    {
      "cell_type": "markdown",
      "metadata": {
        "id": "MkXCcI_bBXyd"
      },
      "source": [
        "**HYBRID**"
      ]
    },
    {
      "cell_type": "code",
      "execution_count": null,
      "metadata": {
        "id": "6v4uPUgzBXye"
      },
      "outputs": [],
      "source": [
        "# Reshape Linear Regression predictions to match LSTM predictions\n",
        "y_pred_lr11 = y_pred_lr11[-len(y_pred_lstm11):]  # Ensure equal length\n",
        "\n",
        "# Convert to NumPy arrays\n",
        "y_pred_lr11 = np.array(y_pred_lr11)\n",
        "y_pred_lstm11 = np.array(y_pred_lstm11)\n",
        "\n",
        "# Hybrid Prediction: Weighted Average of Linear Regression & LSTM\n",
        "alpha = 0.6  # Weight for LSTM (Adjustable)\n",
        "y_pred_h11 = alpha * y_pred_lstm11 + (1 - alpha) * y_pred_lr11\n"
      ]
    },
    {
      "cell_type": "code",
      "execution_count": null,
      "metadata": {
        "id": "GUtCC-V8BXye",
        "outputId": "a2b44c2e-9b41-4183-9b45-d1f059640ecd",
        "colab": {
          "base_uri": "https://localhost:8080/"
        }
      },
      "outputs": [
        {
          "output_type": "execute_result",
          "data": {
            "text/plain": [
              "(39, 1)"
            ]
          },
          "metadata": {},
          "execution_count": 23
        }
      ],
      "source": [
        "y_test.shape\n",
        "y_pred_h11.shape"
      ]
    },
    {
      "cell_type": "code",
      "execution_count": null,
      "metadata": {
        "id": "ioLyD-iaBXye",
        "outputId": "d8024a37-913d-478d-c129-d92503054192",
        "colab": {
          "base_uri": "https://localhost:8080/"
        }
      },
      "outputs": [
        {
          "output_type": "stream",
          "name": "stdout",
          "text": [
            "\n",
            "Hybrid Model: LR-All Features & LSTM (60 Days Close Price)\n",
            "==========================================================\n",
            "+----------+---------+\n",
            "| Metric   |   Value |\n",
            "+==========+=========+\n",
            "| MAE      |  0.1861 |\n",
            "+----------+---------+\n",
            "| RMSE     |  0.2121 |\n",
            "+----------+---------+\n",
            "| R²       | -8.5961 |\n",
            "+----------+---------+\n"
          ]
        }
      ],
      "source": [
        "# # Reverse scaling to original stock prices\n",
        "# y_test_actual = scaler.inverse_transform(y_test.reshape(-1, 1))\n",
        "# y_pred_hybrid_actual = scaler.inverse_transform(y_pred_hybrid)\n",
        "\n",
        "# Evaluation Metrics\n",
        "mae_h11 = mean_absolute_error(y_test, y_pred_h11)\n",
        "rmse_h11 = root_mean_squared_error(y_test, y_pred_h11)\n",
        "r2_h11 = r2_score(y_test, y_pred_h11)\n",
        "\n",
        "#print(f\"MAE_H11: {mae_h11:.2f}, RMSE_H11: {rmse_h11:.2f}, R2_H11: {r2_h11:.4f}\")\n",
        "from tabulate import tabulate\n",
        "\n",
        "# Define the model name as a heading\n",
        "model_name11 = \"Hybrid Model: LR-All Features & LSTM (60 Days Close Price)\"\n",
        "\n",
        "# Define the table structure\n",
        "data11 = [\n",
        "    [\"MAE\", f\"{mae_h11:.4f}\"],\n",
        "    [\"RMSE\", f\"{rmse_h11:.4f}\"],\n",
        "    [\"R²\", f\"{r2_h11:.4f}\"]\n",
        "]\n",
        "\n",
        "# Create DataFrame\n",
        "df11 = pd.DataFrame(data11, columns=[\"Metric\", \"Value\"])\n",
        "\n",
        "# Print the heading\n",
        "print(f\"\\n{model_name11}\\n\" + \"=\" * len(model_name11))\n",
        "\n",
        "# Print the table without the model column\n",
        "print(tabulate(df11, headers=\"keys\", tablefmt=\"grid\", showindex=False))"
      ]
    },
    {
      "cell_type": "markdown",
      "metadata": {
        "id": "Va17NJboBXye"
      },
      "source": [
        "### APPROACH 2"
      ]
    },
    {
      "cell_type": "markdown",
      "metadata": {
        "id": "pCIMsyCOBXyf"
      },
      "source": [
        "**LINEAR REGRESSION**"
      ]
    },
    {
      "cell_type": "code",
      "execution_count": null,
      "metadata": {
        "id": "bNkpnf02BXyf",
        "outputId": "493e9065-c692-41a5-da31-c1d3aa8fbf15",
        "colab": {
          "base_uri": "https://localhost:8080/"
        }
      },
      "outputs": [
        {
          "output_type": "execute_result",
          "data": {
            "text/plain": [
              "Index(['Adj Close', 'Close', 'High', 'Low', 'Open', 'Volume'], dtype='object')"
            ]
          },
          "metadata": {},
          "execution_count": 27
        }
      ],
      "source": [
        "df.columns"
      ]
    },
    {
      "cell_type": "code",
      "execution_count": null,
      "metadata": {
        "id": "uI-mm55UBXyf",
        "outputId": "e6f9104a-0992-45a9-a08f-8465898209ba",
        "colab": {
          "base_uri": "https://localhost:8080/"
        }
      },
      "outputs": [
        {
          "output_type": "stream",
          "name": "stdout",
          "text": [
            "RMSE_LR12:0.012423550636731834\n",
            "MAE_LR12:0.010099101693279294\n",
            "R2_LR12:0.9980254204122807\n"
          ]
        }
      ],
      "source": [
        "x=df[['Open','High','Low']]\n",
        "y=df[['Close']]\n",
        "\n",
        "x_train,x_test,y_train,y_test=train_test_split(x,y,train_size=0.8,random_state=42)\n",
        "\n",
        "model_lr12=LinearRegression()\n",
        "model_lr12.fit(x_train,y_train)\n",
        "y_pred_lr12=model_lr12.predict(x_test)\n",
        "\n",
        "mae_lr12=mean_absolute_error(y_test,y_pred_lr12)\n",
        "rmse_lr12=root_mean_squared_error(y_test,y_pred_lr12)\n",
        "r2_lr12=r2_score(y_test,y_pred_lr12)\n",
        "print(f\"RMSE_LR12:{rmse_lr12}\\nMAE_LR12:{mae_lr12}\\nR2_LR12:{r2_lr12}\")"
      ]
    },
    {
      "cell_type": "code",
      "execution_count": null,
      "metadata": {
        "id": "voPobpPzBXyg"
      },
      "outputs": [],
      "source": [
        "#LSTM\n",
        "def create_sequences(features, target, time_steps=60):\n",
        "    X, y = [], []\n",
        "    for i in range(len(features) - time_steps):\n",
        "        X.append(features[i:i+time_steps])\n",
        "        y.append(target[i+time_steps])\n",
        "    return np.array(X), np.array(y)\n",
        "\n",
        "time_steps = 60  # Use past 60 days for prediction\n",
        "x_array=x.to_numpy()\n",
        "y_array=y.to_numpy()\n",
        "X, y = create_sequences(x_array, y_array, time_steps)\n",
        "\n",
        "# Split into training and testing sets\n",
        "X_train, X_test, y_train, y_test = train_test_split(X, y, test_size=0.2, shuffle=False)\n",
        "\n",
        "# Reshape for LSTM input\n",
        "X_train = X_train.reshape(X_train.shape[0], X_train.shape[1], X_train.shape[2])\n",
        "X_test = X_test.reshape(X_test.shape[0], X_test.shape[1], X_test.shape[2])\n"
      ]
    },
    {
      "cell_type": "code",
      "execution_count": null,
      "metadata": {
        "id": "nRecDDXtBXyg",
        "colab": {
          "base_uri": "https://localhost:8080/"
        },
        "outputId": "dd068dbd-46e4-443b-c742-b9c24d4d7dee"
      },
      "outputs": [
        {
          "output_type": "stream",
          "name": "stderr",
          "text": [
            "/usr/local/lib/python3.11/dist-packages/keras/src/layers/rnn/rnn.py:200: UserWarning: Do not pass an `input_shape`/`input_dim` argument to a layer. When using Sequential models, prefer using an `Input(shape)` object as the first layer in the model instead.\n",
            "  super().__init__(**kwargs)\n"
          ]
        }
      ],
      "source": [
        "from tensorflow.keras.models import Sequential\n",
        "from tensorflow.keras.layers import LSTM,Dense,Dropout\n",
        "model_lstm12 = Sequential([\n",
        "    LSTM(units=50, return_sequences=True, input_shape=(time_steps, X_train.shape[2])),\n",
        "    Dropout(0.2),\n",
        "    LSTM(units=50, return_sequences=True),\n",
        "\n",
        "    LSTM(units=50),\n",
        "    Dense(units=30),\n",
        "\n",
        "    Dense(units=1)  # Output layer (Predicting Close price)\n",
        "])\n",
        "\n",
        "model_lstm12.compile(optimizer='adam', loss='mean_squared_error')\n"
      ]
    },
    {
      "cell_type": "code",
      "execution_count": null,
      "metadata": {
        "id": "nriha2elBXyh",
        "outputId": "59fb0e85-0a1a-4596-acc6-111d8596ea28",
        "colab": {
          "base_uri": "https://localhost:8080/"
        }
      },
      "outputs": [
        {
          "output_type": "stream",
          "name": "stdout",
          "text": [
            "Epoch 1/20\n",
            "\u001b[1m6/6\u001b[0m \u001b[32m━━━━━━━━━━━━━━━━━━━━\u001b[0m\u001b[37m\u001b[0m \u001b[1m8s\u001b[0m 237ms/step - loss: 0.0624 - val_loss: 0.0173\n",
            "Epoch 2/20\n",
            "\u001b[1m6/6\u001b[0m \u001b[32m━━━━━━━━━━━━━━━━━━━━\u001b[0m\u001b[37m\u001b[0m \u001b[1m1s\u001b[0m 103ms/step - loss: 0.0259 - val_loss: 0.0196\n",
            "Epoch 3/20\n",
            "\u001b[1m6/6\u001b[0m \u001b[32m━━━━━━━━━━━━━━━━━━━━\u001b[0m\u001b[37m\u001b[0m \u001b[1m1s\u001b[0m 161ms/step - loss: 0.0152 - val_loss: 0.0089\n",
            "Epoch 4/20\n",
            "\u001b[1m6/6\u001b[0m \u001b[32m━━━━━━━━━━━━━━━━━━━━\u001b[0m\u001b[37m\u001b[0m \u001b[1m1s\u001b[0m 163ms/step - loss: 0.0140 - val_loss: 0.0132\n",
            "Epoch 5/20\n",
            "\u001b[1m6/6\u001b[0m \u001b[32m━━━━━━━━━━━━━━━━━━━━\u001b[0m\u001b[37m\u001b[0m \u001b[1m1s\u001b[0m 103ms/step - loss: 0.0143 - val_loss: 0.0039\n",
            "Epoch 6/20\n",
            "\u001b[1m6/6\u001b[0m \u001b[32m━━━━━━━━━━━━━━━━━━━━\u001b[0m\u001b[37m\u001b[0m \u001b[1m1s\u001b[0m 106ms/step - loss: 0.0113 - val_loss: 0.0043\n",
            "Epoch 7/20\n",
            "\u001b[1m6/6\u001b[0m \u001b[32m━━━━━━━━━━━━━━━━━━━━\u001b[0m\u001b[37m\u001b[0m \u001b[1m1s\u001b[0m 103ms/step - loss: 0.0110 - val_loss: 0.0044\n",
            "Epoch 8/20\n",
            "\u001b[1m6/6\u001b[0m \u001b[32m━━━━━━━━━━━━━━━━━━━━\u001b[0m\u001b[37m\u001b[0m \u001b[1m1s\u001b[0m 104ms/step - loss: 0.0104 - val_loss: 0.0045\n",
            "Epoch 9/20\n",
            "\u001b[1m6/6\u001b[0m \u001b[32m━━━━━━━━━━━━━━━━━━━━\u001b[0m\u001b[37m\u001b[0m \u001b[1m1s\u001b[0m 103ms/step - loss: 0.0101 - val_loss: 0.0047\n",
            "Epoch 10/20\n",
            "\u001b[1m6/6\u001b[0m \u001b[32m━━━━━━━━━━━━━━━━━━━━\u001b[0m\u001b[37m\u001b[0m \u001b[1m1s\u001b[0m 103ms/step - loss: 0.0091 - val_loss: 0.0042\n",
            "Epoch 11/20\n",
            "\u001b[1m6/6\u001b[0m \u001b[32m━━━━━━━━━━━━━━━━━━━━\u001b[0m\u001b[37m\u001b[0m \u001b[1m1s\u001b[0m 102ms/step - loss: 0.0090 - val_loss: 0.0096\n",
            "Epoch 12/20\n",
            "\u001b[1m6/6\u001b[0m \u001b[32m━━━━━━━━━━━━━━━━━━━━\u001b[0m\u001b[37m\u001b[0m \u001b[1m1s\u001b[0m 103ms/step - loss: 0.0094 - val_loss: 0.0073\n",
            "Epoch 13/20\n",
            "\u001b[1m6/6\u001b[0m \u001b[32m━━━━━━━━━━━━━━━━━━━━\u001b[0m\u001b[37m\u001b[0m \u001b[1m1s\u001b[0m 102ms/step - loss: 0.0083 - val_loss: 0.0051\n",
            "Epoch 14/20\n",
            "\u001b[1m6/6\u001b[0m \u001b[32m━━━━━━━━━━━━━━━━━━━━\u001b[0m\u001b[37m\u001b[0m \u001b[1m1s\u001b[0m 105ms/step - loss: 0.0091 - val_loss: 0.0046\n",
            "Epoch 15/20\n",
            "\u001b[1m6/6\u001b[0m \u001b[32m━━━━━━━━━━━━━━━━━━━━\u001b[0m\u001b[37m\u001b[0m \u001b[1m1s\u001b[0m 107ms/step - loss: 0.0085 - val_loss: 0.0044\n",
            "Epoch 16/20\n",
            "\u001b[1m6/6\u001b[0m \u001b[32m━━━━━━━━━━━━━━━━━━━━\u001b[0m\u001b[37m\u001b[0m \u001b[1m1s\u001b[0m 104ms/step - loss: 0.0091 - val_loss: 0.0044\n",
            "Epoch 17/20\n",
            "\u001b[1m6/6\u001b[0m \u001b[32m━━━━━━━━━━━━━━━━━━━━\u001b[0m\u001b[37m\u001b[0m \u001b[1m2s\u001b[0m 162ms/step - loss: 0.0075 - val_loss: 0.0049\n",
            "Epoch 18/20\n",
            "\u001b[1m6/6\u001b[0m \u001b[32m━━━━━━━━━━━━━━━━━━━━\u001b[0m\u001b[37m\u001b[0m \u001b[1m1s\u001b[0m 167ms/step - loss: 0.0076 - val_loss: 0.0042\n",
            "Epoch 19/20\n",
            "\u001b[1m6/6\u001b[0m \u001b[32m━━━━━━━━━━━━━━━━━━━━\u001b[0m\u001b[37m\u001b[0m \u001b[1m1s\u001b[0m 104ms/step - loss: 0.0068 - val_loss: 0.0042\n",
            "Epoch 20/20\n",
            "\u001b[1m6/6\u001b[0m \u001b[32m━━━━━━━━━━━━━━━━━━━━\u001b[0m\u001b[37m\u001b[0m \u001b[1m1s\u001b[0m 103ms/step - loss: 0.0075 - val_loss: 0.0041\n",
            "\u001b[1m2/2\u001b[0m \u001b[32m━━━━━━━━━━━━━━━━━━━━\u001b[0m\u001b[37m\u001b[0m \u001b[1m1s\u001b[0m 477ms/step\n"
          ]
        }
      ],
      "source": [
        "model_lstm12.fit(X_train, y_train, epochs=20, batch_size=30, validation_data=(X_test, y_test))\n",
        "y_pred_lstm12=model_lstm12.predict(X_test)"
      ]
    },
    {
      "cell_type": "code",
      "execution_count": null,
      "metadata": {
        "id": "cgEGW1wJBXyh",
        "outputId": "70a2b31f-9a3b-4691-f132-ede4cece5e46",
        "colab": {
          "base_uri": "https://localhost:8080/"
        }
      },
      "outputs": [
        {
          "output_type": "stream",
          "name": "stdout",
          "text": [
            "MAE_LSTM12: 0.05\n",
            "RMSE_LSTM12: 0.06\n",
            "R2_LSTM12: 0.12\n"
          ]
        }
      ],
      "source": [
        "\n",
        "from sklearn.metrics import mean_absolute_error, mean_squared_error,r2_score\n",
        "\n",
        "mae_lstm12 = mean_absolute_error(y_test, y_pred_lstm12)\n",
        "rmse_lstm12 = root_mean_squared_error(y_test, y_pred_lstm12)\n",
        "r2_lstm12=r2_score(y_test,y_pred_lstm12)\n",
        "print(f\"MAE_LSTM12: {mae_lstm12:.2f}\\nRMSE_LSTM12: {rmse_lstm12:.2f}\\nR2_LSTM12: {r2_lstm12:.2f}\")\n"
      ]
    },
    {
      "cell_type": "code",
      "execution_count": null,
      "metadata": {
        "id": "MUzCfSNwBXyn",
        "outputId": "824f96ab-323c-42af-84c0-7bcf353afca1",
        "colab": {
          "base_uri": "https://localhost:8080/"
        }
      },
      "outputs": [
        {
          "output_type": "stream",
          "name": "stdout",
          "text": [
            "\n",
            "Hybrid Model: LR- OHL & LSTM-All Features\n",
            "=========================================\n",
            "+----------+---------+\n",
            "| Metric   |   Value |\n",
            "+==========+=========+\n",
            "| MAE      |  0.1844 |\n",
            "+----------+---------+\n",
            "| RMSE     |  0.211  |\n",
            "+----------+---------+\n",
            "| R²       | -8.5035 |\n",
            "+----------+---------+\n"
          ]
        }
      ],
      "source": [
        "#hybrid\n",
        "# Reshape Linear Regression predictions to match LSTM predictions\n",
        "y_pred_lr12= y_pred_lr12[-len(y_pred_lstm12):]  # Ensure equal length\n",
        "\n",
        "# Convert to NumPy arrays\n",
        "y_pred_lr12 = np.array(y_pred_lr12)\n",
        "y_pred_lstm = np.array(y_pred_lstm12)\n",
        "\n",
        "# Hybrid Prediction: Weighted Average of Linear Regression & LSTM\n",
        "alpha = 0.6  # Weight for LSTM (Adjustable)\n",
        "y_pred_hybrid = alpha * y_pred_lstm + (1 - alpha) * y_pred_lr12\n",
        "\n",
        "\n",
        "# Evaluation Metrics\n",
        "mae_h12 = mean_absolute_error(y_test, y_pred_hybrid)\n",
        "rmse_h12 = root_mean_squared_error(y_test, y_pred_hybrid)\n",
        "r2_h12 = r2_score(y_test, y_pred_hybrid)\n",
        "\n",
        "# Define the model name as a heading\n",
        "model_name12 = \"Hybrid Model: LR- OHL & LSTM-All Features\"\n",
        "\n",
        "# Define the table structure\n",
        "data12 = [\n",
        "    [\"MAE\", f\"{mae_h12:.4f}\"],\n",
        "    [\"RMSE\", f\"{rmse_h12:.4f}\"],\n",
        "    [\"R²\", f\"{r2_h12:.4f}\"]\n",
        "]\n",
        "\n",
        "# Create DataFrame\n",
        "df12 = pd.DataFrame(data12, columns=[\"Metric\", \"Value\"])\n",
        "\n",
        "# Print the heading\n",
        "print(f\"\\n{model_name12}\\n\" + \"=\" * len(model_name12))\n",
        "\n",
        "# Print the table without the model column\n",
        "print(tabulate(df12, headers=\"keys\", tablefmt=\"grid\", showindex=False))"
      ]
    },
    {
      "cell_type": "markdown",
      "metadata": {
        "id": "CqV9olGKBXyn"
      },
      "source": [
        "### APPROACH-3"
      ]
    },
    {
      "cell_type": "code",
      "execution_count": null,
      "metadata": {
        "id": "UT5XooYQBXyn"
      },
      "outputs": [],
      "source": [
        "data=df[['Close']]\n",
        "from warnings import filterwarnings\n",
        "filterwarnings('ignore')"
      ]
    },
    {
      "cell_type": "code",
      "execution_count": null,
      "metadata": {
        "id": "pkRgfpr8BXyo"
      },
      "outputs": [],
      "source": [
        "data['Lag_1']=df['Close'].shift(1)\n",
        "data['Lag_2']=df['Close'].shift(2)\n",
        "data['Lag_3']=df['Close'].shift(3)\n",
        "data.dropna(inplace=True)"
      ]
    },
    {
      "cell_type": "code",
      "execution_count": null,
      "metadata": {
        "id": "j30LSaMfBXyo"
      },
      "outputs": [],
      "source": [
        "x=data[['Lag_1','Lag_2','Lag_3']]\n",
        "y=df[['Close']]"
      ]
    },
    {
      "cell_type": "code",
      "execution_count": null,
      "metadata": {
        "id": "gMLUIgYgBXyo",
        "outputId": "687a1e43-38a5-462e-cee0-1cfe926ab5a3",
        "colab": {
          "base_uri": "https://localhost:8080/",
          "height": 452
        }
      },
      "outputs": [
        {
          "output_type": "execute_result",
          "data": {
            "text/plain": [
              "<Axes: >"
            ]
          },
          "metadata": {},
          "execution_count": 38
        },
        {
          "output_type": "display_data",
          "data": {
            "text/plain": [
              "<Figure size 640x480 with 2 Axes>"
            ],
            "image/png": "[encoded data removed]"
          },
          "metadata": {}
        }
      ],
      "source": [
        "cor=data.corr()\n",
        "sns.heatmap(cor,annot=True)"
      ]
    },
    {
      "cell_type": "code",
      "execution_count": null,
      "metadata": {
        "id": "1CH6PKFSBXyo",
        "outputId": "7effcdf5-5e98-4b28-eeaf-27076120a956",
        "colab": {
          "base_uri": "https://localhost:8080/"
        }
      },
      "outputs": [
        {
          "output_type": "stream",
          "name": "stdout",
          "text": [
            "199\n"
          ]
        }
      ],
      "source": [
        "train_size=int(len(x)*0.8)\n",
        "print(train_size)\n",
        "x_train,x_test=x[:train_size],x[train_size:]\n",
        "y_train,y_test=y[:train_size],y[train_size:]\n"
      ]
    },
    {
      "cell_type": "code",
      "execution_count": null,
      "metadata": {
        "id": "38KaAVKSBXyp",
        "outputId": "fb43fb3b-7926-435f-abe9-df24f38696d5",
        "colab": {
          "base_uri": "https://localhost:8080/"
        }
      },
      "outputs": [
        {
          "output_type": "execute_result",
          "data": {
            "text/plain": [
              "(50, 3)"
            ]
          },
          "metadata": {},
          "execution_count": 40
        }
      ],
      "source": [
        "x_test.shape"
      ]
    },
    {
      "cell_type": "code",
      "execution_count": null,
      "metadata": {
        "id": "-aEdASvsBXyp",
        "outputId": "98a487c7-30e4-4ed3-e728-723f144cdee6",
        "colab": {
          "base_uri": "https://localhost:8080/",
          "height": 80
        }
      },
      "outputs": [
        {
          "output_type": "execute_result",
          "data": {
            "text/plain": [
              "LinearRegression()"
            ],
            "text/html": [
              "<style>#sk-container-id-1 {\n",
              "  /* Definition of color scheme common for light and dark mode */\n",
              "  --sklearn-color-text: #000;\n",
              "  --sklearn-color-text-muted: #666;\n",
              "  --sklearn-color-line: gray;\n",
              "  /* Definition of color scheme for unfitted estimators */\n",
              "  --sklearn-color-unfitted-level-0: #fff5e6;\n",
              "  --sklearn-color-unfitted-level-1: #f6e4d2;\n",
              "  --sklearn-color-unfitted-level-2: #ffe0b3;\n",
              "  --sklearn-color-unfitted-level-3: chocolate;\n",
              "  /* Definition of color scheme for fitted estimators */\n",
              "  --sklearn-color-fitted-level-0: #f0f8ff;\n",
              "  --sklearn-color-fitted-level-1: #d4ebff;\n",
              "  --sklearn-color-fitted-level-2: #b3dbfd;\n",
              "  --sklearn-color-fitted-level-3: cornflowerblue;\n",
              "\n",
              "  /* Specific color for light theme */\n",
              "  --sklearn-color-text-on-default-background: var(--sg-text-color, var(--theme-code-foreground, var(--jp-content-font-color1, black)));\n",
              "  --sklearn-color-background: var(--sg-background-color, var(--theme-background, var(--jp-layout-color0, white)));\n",
              "  --sklearn-color-border-box: var(--sg-text-color, var(--theme-code-foreground, var(--jp-content-font-color1, black)));\n",
              "  --sklearn-color-icon: #696969;\n",
              "\n",
              "  @media (prefers-color-scheme: dark) {\n",
              "    /* Redefinition of color scheme for dark theme */\n",
              "    --sklearn-color-text-on-default-background: var(--sg-text-color, var(--theme-code-foreground, var(--jp-content-font-color1, white)));\n",
              "    --sklearn-color-background: var(--sg-background-color, var(--theme-background, var(--jp-layout-color0, #111)));\n",
              "    --sklearn-color-border-box: var(--sg-text-color, var(--theme-code-foreground, var(--jp-content-font-color1, white)));\n",
              "    --sklearn-color-icon: #878787;\n",
              "  }\n",
              "}\n",
              "\n",
              "#sk-container-id-1 {\n",
              "  color: var(--sklearn-color-text);\n",
              "}\n",
              "\n",
              "#sk-container-id-1 pre {\n",
              "  padding: 0;\n",
              "}\n",
              "\n",
              "#sk-container-id-1 input.sk-hidden--visually {\n",
              "  border: 0;\n",
              "  clip: rect(1px 1px 1px 1px);\n",
              "  clip: rect(1px, 1px, 1px, 1px);\n",
              "  height: 1px;\n",
              "  margin: -1px;\n",
              "  overflow: hidden;\n",
              "  padding: 0;\n",
              "  position: absolute;\n",
              "  width: 1px;\n",
              "}\n",
              "\n",
              "#sk-container-id-1 div.sk-dashed-wrapped {\n",
              "  border: 1px dashed var(--sklearn-color-line);\n",
              "  margin: 0 0.4em 0.5em 0.4em;\n",
              "  box-sizing: border-box;\n",
              "  padding-bottom: 0.4em;\n",
              "  background-color: var(--sklearn-color-background);\n",
              "}\n",
              "\n",
              "#sk-container-id-1 div.sk-container {\n",
              "  /* jupyter's `normalize.less` sets `[hidden] { display: none; }`\n",
              "     but bootstrap.min.css set `[hidden] { display: none !important; }`\n",
              "     so we also need the `!important` here to be able to override the\n",
              "     default hidden behavior on the sphinx rendered scikit-learn.org.\n",
              "     See: https://github.com/scikit-learn/scikit-learn/issues/21755 */\n",
              "  display: inline-block !important;\n",
              "  position: relative;\n",
              "}\n",
              "\n",
              "#sk-container-id-1 div.sk-text-repr-fallback {\n",
              "  display: none;\n",
              "}\n",
              "\n",
              "div.sk-parallel-item,\n",
              "div.sk-serial,\n",
              "div.sk-item {\n",
              "  /* draw centered vertical line to link estimators */\n",
              "  background-image: linear-gradient(var(--sklearn-color-text-on-default-background), var(--sklearn-color-text-on-default-background));\n",
              "  background-size: 2px 100%;\n",
              "  background-repeat: no-repeat;\n",
              "  background-position: center center;\n",
              "}\n",
              "\n",
              "/* Parallel-specific style estimator block */\n",
              "\n",
              "#sk-container-id-1 div.sk-parallel-item::after {\n",
              "  content: \"\";\n",
              "  width: 100%;\n",
              "  border-bottom: 2px solid var(--sklearn-color-text-on-default-background);\n",
              "  flex-grow: 1;\n",
              "}\n",
              "\n",
              "#sk-container-id-1 div.sk-parallel {\n",
              "  display: flex;\n",
              "  align-items: stretch;\n",
              "  justify-content: center;\n",
              "  background-color: var(--sklearn-color-background);\n",
              "  position: relative;\n",
              "}\n",
              "\n",
              "#sk-container-id-1 div.sk-parallel-item {\n",
              "  display: flex;\n",
              "  flex-direction: column;\n",
              "}\n",
              "\n",
              "#sk-container-id-1 div.sk-parallel-item:first-child::after {\n",
              "  align-self: flex-end;\n",
              "  width: 50%;\n",
              "}\n",
              "\n",
              "#sk-container-id-1 div.sk-parallel-item:last-child::after {\n",
              "  align-self: flex-start;\n",
              "  width: 50%;\n",
              "}\n",
              "\n",
              "#sk-container-id-1 div.sk-parallel-item:only-child::after {\n",
              "  width: 0;\n",
              "}\n",
              "\n",
              "/* Serial-specific style estimator block */\n",
              "\n",
              "#sk-container-id-1 div.sk-serial {\n",
              "  display: flex;\n",
              "  flex-direction: column;\n",
              "  align-items: center;\n",
              "  background-color: var(--sklearn-color-background);\n",
              "  padding-right: 1em;\n",
              "  padding-left: 1em;\n",
              "}\n",
              "\n",
              "\n",
              "/* Toggleable style: style used for estimator/Pipeline/ColumnTransformer box that is\n",
              "clickable and can be expanded/collapsed.\n",
              "- Pipeline and ColumnTransformer use this feature and define the default style\n",
              "- Estimators will overwrite some part of the style using the `sk-estimator` class\n",
              "*/\n",
              "\n",
              "/* Pipeline and ColumnTransformer style (default) */\n",
              "\n",
              "#sk-container-id-1 div.sk-toggleable {\n",
              "  /* Default theme specific background. It is overwritten whether we have a\n",
              "  specific estimator or a Pipeline/ColumnTransformer */\n",
              "  background-color: var(--sklearn-color-background);\n",
              "}\n",
              "\n",
              "/* Toggleable label */\n",
              "#sk-container-id-1 label.sk-toggleable__label {\n",
              "  cursor: pointer;\n",
              "  display: flex;\n",
              "  width: 100%;\n",
              "  margin-bottom: 0;\n",
              "  padding: 0.5em;\n",
              "  box-sizing: border-box;\n",
              "  text-align: center;\n",
              "  align-items: start;\n",
              "  justify-content: space-between;\n",
              "  gap: 0.5em;\n",
              "}\n",
              "\n",
              "#sk-container-id-1 label.sk-toggleable__label .caption {\n",
              "  font-size: 0.6rem;\n",
              "  font-weight: lighter;\n",
              "  color: var(--sklearn-color-text-muted);\n",
              "}\n",
              "\n",
              "#sk-container-id-1 label.sk-toggleable__label-arrow:before {\n",
              "  /* Arrow on the left of the label */\n",
              "  content: \"▸\";\n",
              "  float: left;\n",
              "  margin-right: 0.25em;\n",
              "  color: var(--sklearn-color-icon);\n",
              "}\n",
              "\n",
              "#sk-container-id-1 label.sk-toggleable__label-arrow:hover:before {\n",
              "  color: var(--sklearn-color-text);\n",
              "}\n",
              "\n",
              "/* Toggleable content - dropdown */\n",
              "\n",
              "#sk-container-id-1 div.sk-toggleable__content {\n",
              "  max-height: 0;\n",
              "  max-width: 0;\n",
              "  overflow: hidden;\n",
              "  text-align: left;\n",
              "  /* unfitted */\n",
              "  background-color: var(--sklearn-color-unfitted-level-0);\n",
              "}\n",
              "\n",
              "#sk-container-id-1 div.sk-toggleable__content.fitted {\n",
              "  /* fitted */\n",
              "  background-color: var(--sklearn-color-fitted-level-0);\n",
              "}\n",
              "\n",
              "#sk-container-id-1 div.sk-toggleable__content pre {\n",
              "  margin: 0.2em;\n",
              "  border-radius: 0.25em;\n",
              "  color: var(--sklearn-color-text);\n",
              "  /* unfitted */\n",
              "  background-color: var(--sklearn-color-unfitted-level-0);\n",
              "}\n",
              "\n",
              "#sk-container-id-1 div.sk-toggleable__content.fitted pre {\n",
              "  /* unfitted */\n",
              "  background-color: var(--sklearn-color-fitted-level-0);\n",
              "}\n",
              "\n",
              "#sk-container-id-1 input.sk-toggleable__control:checked~div.sk-toggleable__content {\n",
              "  /* Expand drop-down */\n",
              "  max-height: 200px;\n",
              "  max-width: 100%;\n",
              "  overflow: auto;\n",
              "}\n",
              "\n",
              "#sk-container-id-1 input.sk-toggleable__control:checked~label.sk-toggleable__label-arrow:before {\n",
              "  content: \"▾\";\n",
              "}\n",
              "\n",
              "/* Pipeline/ColumnTransformer-specific style */\n",
              "\n",
              "#sk-container-id-1 div.sk-label input.sk-toggleable__control:checked~label.sk-toggleable__label {\n",
              "  color: var(--sklearn-color-text);\n",
              "  background-color: var(--sklearn-color-unfitted-level-2);\n",
              "}\n",
              "\n",
              "#sk-container-id-1 div.sk-label.fitted input.sk-toggleable__control:checked~label.sk-toggleable__label {\n",
              "  background-color: var(--sklearn-color-fitted-level-2);\n",
              "}\n",
              "\n",
              "/* Estimator-specific style */\n",
              "\n",
              "/* Colorize estimator box */\n",
              "#sk-container-id-1 div.sk-estimator input.sk-toggleable__control:checked~label.sk-toggleable__label {\n",
              "  /* unfitted */\n",
              "  background-color: var(--sklearn-color-unfitted-level-2);\n",
              "}\n",
              "\n",
              "#sk-container-id-1 div.sk-estimator.fitted input.sk-toggleable__control:checked~label.sk-toggleable__label {\n",
              "  /* fitted */\n",
              "  background-color: var(--sklearn-color-fitted-level-2);\n",
              "}\n",
              "\n",
              "#sk-container-id-1 div.sk-label label.sk-toggleable__label,\n",
              "#sk-container-id-1 div.sk-label label {\n",
              "  /* The background is the default theme color */\n",
              "  color: var(--sklearn-color-text-on-default-background);\n",
              "}\n",
              "\n",
              "/* On hover, darken the color of the background */\n",
              "#sk-container-id-1 div.sk-label:hover label.sk-toggleable__label {\n",
              "  color: var(--sklearn-color-text);\n",
              "  background-color: var(--sklearn-color-unfitted-level-2);\n",
              "}\n",
              "\n",
              "/* Label box, darken color on hover, fitted */\n",
              "#sk-container-id-1 div.sk-label.fitted:hover label.sk-toggleable__label.fitted {\n",
              "  color: var(--sklearn-color-text);\n",
              "  background-color: var(--sklearn-color-fitted-level-2);\n",
              "}\n",
              "\n",
              "/* Estimator label */\n",
              "\n",
              "#sk-container-id-1 div.sk-label label {\n",
              "  font-family: monospace;\n",
              "  font-weight: bold;\n",
              "  display: inline-block;\n",
              "  line-height: 1.2em;\n",
              "}\n",
              "\n",
              "#sk-container-id-1 div.sk-label-container {\n",
              "  text-align: center;\n",
              "}\n",
              "\n",
              "/* Estimator-specific */\n",
              "#sk-container-id-1 div.sk-estimator {\n",
              "  font-family: monospace;\n",
              "  border: 1px dotted var(--sklearn-color-border-box);\n",
              "  border-radius: 0.25em;\n",
              "  box-sizing: border-box;\n",
              "  margin-bottom: 0.5em;\n",
              "  /* unfitted */\n",
              "  background-color: var(--sklearn-color-unfitted-level-0);\n",
              "}\n",
              "\n",
              "#sk-container-id-1 div.sk-estimator.fitted {\n",
              "  /* fitted */\n",
              "  background-color: var(--sklearn-color-fitted-level-0);\n",
              "}\n",
              "\n",
              "/* on hover */\n",
              "#sk-container-id-1 div.sk-estimator:hover {\n",
              "  /* unfitted */\n",
              "  background-color: var(--sklearn-color-unfitted-level-2);\n",
              "}\n",
              "\n",
              "#sk-container-id-1 div.sk-estimator.fitted:hover {\n",
              "  /* fitted */\n",
              "  background-color: var(--sklearn-color-fitted-level-2);\n",
              "}\n",
              "\n",
              "/* Specification for estimator info (e.g. \"i\" and \"?\") */\n",
              "\n",
              "/* Common style for \"i\" and \"?\" */\n",
              "\n",
              ".sk-estimator-doc-link,\n",
              "a:link.sk-estimator-doc-link,\n",
              "a:visited.sk-estimator-doc-link {\n",
              "  float: right;\n",
              "  font-size: smaller;\n",
              "  line-height: 1em;\n",
              "  font-family: monospace;\n",
              "  background-color: var(--sklearn-color-background);\n",
              "  border-radius: 1em;\n",
              "  height: 1em;\n",
              "  width: 1em;\n",
              "  text-decoration: none !important;\n",
              "  margin-left: 0.5em;\n",
              "  text-align: center;\n",
              "  /* unfitted */\n",
              "  border: var(--sklearn-color-unfitted-level-1) 1pt solid;\n",
              "  color: var(--sklearn-color-unfitted-level-1);\n",
              "}\n",
              "\n",
              ".sk-estimator-doc-link.fitted,\n",
              "a:link.sk-estimator-doc-link.fitted,\n",
              "a:visited.sk-estimator-doc-link.fitted {\n",
              "  /* fitted */\n",
              "  border: var(--sklearn-color-fitted-level-1) 1pt solid;\n",
              "  color: var(--sklearn-color-fitted-level-1);\n",
              "}\n",
              "\n",
              "/* On hover */\n",
              "div.sk-estimator:hover .sk-estimator-doc-link:hover,\n",
              ".sk-estimator-doc-link:hover,\n",
              "div.sk-label-container:hover .sk-estimator-doc-link:hover,\n",
              ".sk-estimator-doc-link:hover {\n",
              "  /* unfitted */\n",
              "  background-color: var(--sklearn-color-unfitted-level-3);\n",
              "  color: var(--sklearn-color-background);\n",
              "  text-decoration: none;\n",
              "}\n",
              "\n",
              "div.sk-estimator.fitted:hover .sk-estimator-doc-link.fitted:hover,\n",
              ".sk-estimator-doc-link.fitted:hover,\n",
              "div.sk-label-container:hover .sk-estimator-doc-link.fitted:hover,\n",
              ".sk-estimator-doc-link.fitted:hover {\n",
              "  /* fitted */\n",
              "  background-color: var(--sklearn-color-fitted-level-3);\n",
              "  color: var(--sklearn-color-background);\n",
              "  text-decoration: none;\n",
              "}\n",
              "\n",
              "/* Span, style for the box shown on hovering the info icon */\n",
              ".sk-estimator-doc-link span {\n",
              "  display: none;\n",
              "  z-index: 9999;\n",
              "  position: relative;\n",
              "  font-weight: normal;\n",
              "  right: .2ex;\n",
              "  padding: .5ex;\n",
              "  margin: .5ex;\n",
              "  width: min-content;\n",
              "  min-width: 20ex;\n",
              "  max-width: 50ex;\n",
              "  color: var(--sklearn-color-text);\n",
              "  box-shadow: 2pt 2pt 4pt #999;\n",
              "  /* unfitted */\n",
              "  background: var(--sklearn-color-unfitted-level-0);\n",
              "  border: .5pt solid var(--sklearn-color-unfitted-level-3);\n",
              "}\n",
              "\n",
              ".sk-estimator-doc-link.fitted span {\n",
              "  /* fitted */\n",
              "  background: var(--sklearn-color-fitted-level-0);\n",
              "  border: var(--sklearn-color-fitted-level-3);\n",
              "}\n",
              "\n",
              ".sk-estimator-doc-link:hover span {\n",
              "  display: block;\n",
              "}\n",
              "\n",
              "/* \"?\"-specific style due to the `<a>` HTML tag */\n",
              "\n",
              "#sk-container-id-1 a.estimator_doc_link {\n",
              "  float: right;\n",
              "  font-size: 1rem;\n",
              "  line-height: 1em;\n",
              "  font-family: monospace;\n",
              "  background-color: var(--sklearn-color-background);\n",
              "  border-radius: 1rem;\n",
              "  height: 1rem;\n",
              "  width: 1rem;\n",
              "  text-decoration: none;\n",
              "  /* unfitted */\n",
              "  color: var(--sklearn-color-unfitted-level-1);\n",
              "  border: var(--sklearn-color-unfitted-level-1) 1pt solid;\n",
              "}\n",
              "\n",
              "#sk-container-id-1 a.estimator_doc_link.fitted {\n",
              "  /* fitted */\n",
              "  border: var(--sklearn-color-fitted-level-1) 1pt solid;\n",
              "  color: var(--sklearn-color-fitted-level-1);\n",
              "}\n",
              "\n",
              "/* On hover */\n",
              "#sk-container-id-1 a.estimator_doc_link:hover {\n",
              "  /* unfitted */\n",
              "  background-color: var(--sklearn-color-unfitted-level-3);\n",
              "  color: var(--sklearn-color-background);\n",
              "  text-decoration: none;\n",
              "}\n",
              "\n",
              "#sk-container-id-1 a.estimator_doc_link.fitted:hover {\n",
              "  /* fitted */\n",
              "  background-color: var(--sklearn-color-fitted-level-3);\n",
              "}\n",
              "</style><div id=\"sk-container-id-1\" class=\"sk-top-container\"><div class=\"sk-text-repr-fallback\"><pre>LinearRegression()</pre><b>In a Jupyter environment, please rerun this cell to show the HTML representation or trust the notebook. <br />On GitHub, the HTML representation is unable to render, please try loading this page with nbviewer.org.</b></div><div class=\"sk-container\" hidden><div class=\"sk-item\"><div class=\"sk-estimator fitted sk-toggleable\"><input class=\"sk-toggleable__control sk-hidden--visually\" id=\"sk-estimator-id-1\" type=\"checkbox\" checked><label for=\"sk-estimator-id-1\" class=\"sk-toggleable__label fitted sk-toggleable__label-arrow\"><div><div>LinearRegression</div></div><div><a class=\"sk-estimator-doc-link fitted\" rel=\"noreferrer\" target=\"_blank\" href=\"https://scikit-learn.org/1.6/modules/generated/sklearn.linear_model.LinearRegression.html\">?<span>Documentation for LinearRegression</span></a><span class=\"sk-estimator-doc-link fitted\">i<span>Fitted</span></span></div></label><div class=\"sk-toggleable__content fitted\"><pre>LinearRegression()</pre></div> </div></div></div></div>"
            ]
          },
          "metadata": {},
          "execution_count": 41
        }
      ],
      "source": [
        "from sklearn.linear_model import LinearRegression\n",
        "model_lr13=LinearRegression()\n",
        "model_lr13.fit(x_train,y_train)"
      ]
    },
    {
      "cell_type": "code",
      "execution_count": null,
      "metadata": {
        "id": "SkuGjFWEBXyp"
      },
      "outputs": [],
      "source": [
        "y_pred_lr13=model_lr13.predict(x_test)\n"
      ]
    },
    {
      "cell_type": "code",
      "execution_count": null,
      "metadata": {
        "id": "CkQjdfr6BXyp"
      },
      "outputs": [],
      "source": [
        "y_test=y_test[-len(x_test):]"
      ]
    },
    {
      "cell_type": "code",
      "execution_count": null,
      "metadata": {
        "id": "KZEcTKQBBXyq",
        "outputId": "1cc3efd3-c552-49a5-f738-1895d35002d3",
        "colab": {
          "base_uri": "https://localhost:8080/"
        }
      },
      "outputs": [
        {
          "output_type": "execute_result",
          "data": {
            "text/plain": [
              "(50, 1)"
            ]
          },
          "metadata": {},
          "execution_count": 44
        }
      ],
      "source": [
        "y_test.shape"
      ]
    },
    {
      "cell_type": "code",
      "execution_count": null,
      "metadata": {
        "id": "dek-RtC_BXyq",
        "outputId": "bc6db465-63f9-432d-e1b5-b4f1d29f197e",
        "colab": {
          "base_uri": "https://localhost:8080/"
        }
      },
      "outputs": [
        {
          "output_type": "execute_result",
          "data": {
            "text/plain": [
              "(50, 1)"
            ]
          },
          "metadata": {},
          "execution_count": 45
        }
      ],
      "source": [
        "y_pred_lr13.shape"
      ]
    },
    {
      "cell_type": "code",
      "execution_count": null,
      "metadata": {
        "id": "9pLupJ1MBXyq"
      },
      "outputs": [],
      "source": [
        "mae_lr13=mean_absolute_error(y_test,y_pred_lr13)\n",
        "rmse_lr13=root_mean_squared_error(y_test,y_pred_lr13)\n",
        "r2_lr13=r2_score(y_test,y_pred_lr13)"
      ]
    },
    {
      "cell_type": "code",
      "execution_count": null,
      "metadata": {
        "id": "IIMPnGXyBXyq",
        "outputId": "9b7fddec-894f-4d06-dbe7-414e29f04c3f",
        "colab": {
          "base_uri": "https://localhost:8080/"
        }
      },
      "outputs": [
        {
          "output_type": "stream",
          "name": "stdout",
          "text": [
            "RMSE_LR13:0.06631425026466725\n",
            "MAE_LR13:0.050895335331548865\n",
            "R2_LR13:-0.003622842156925543\n"
          ]
        }
      ],
      "source": [
        "print(f'RMSE_LR13:{rmse_lr13}\\nMAE_LR13:{mae_lr13}\\nR2_LR13:{r2_lr13}')"
      ]
    },
    {
      "cell_type": "markdown",
      "metadata": {
        "id": "gw1sYh35BXyq"
      },
      "source": [
        "**LSTM**"
      ]
    },
    {
      "cell_type": "code",
      "execution_count": null,
      "metadata": {
        "id": "DLBEBVnHBXyr"
      },
      "outputs": [],
      "source": [
        "#Now prepare the data for LSTM by creating sequences of a defined length (e.g., 60 days) to predict the next day’s price:\n",
        "def create_sequences(df, seq_length=60):\n",
        "    X, y=[], []\n",
        "    for i in range(len(df) - seq_length):\n",
        "        X.append(df[i:i+seq_length])\n",
        "        y.append(df[i+seq_length])\n",
        "    return np.array(X), np.array(y)\n",
        "\n",
        "seq_length=60\n",
        "X,y=create_sequences(df['Close'].values,seq_length)"
      ]
    },
    {
      "cell_type": "code",
      "execution_count": null,
      "metadata": {
        "id": "22LfXoE7BXyr",
        "outputId": "670810c9-5127-474f-f8f6-460257057b08",
        "colab": {
          "base_uri": "https://localhost:8080/"
        }
      },
      "outputs": [
        {
          "output_type": "execute_result",
          "data": {
            "text/plain": [
              "(192, 60)"
            ]
          },
          "metadata": {},
          "execution_count": 49
        }
      ],
      "source": [
        "X.shape"
      ]
    },
    {
      "cell_type": "code",
      "execution_count": null,
      "metadata": {
        "id": "ndcZPdf0BXyr"
      },
      "outputs": [],
      "source": [
        "# split the sequences into training and test sets (eg, 80% training, 20% testing)\n",
        "train_size=int(len(X)*0.8)\n",
        "X_train,X_test=X[:train_size],X[train_size:]\n",
        "y_train,y_test=y[:train_size],y[train_size:]"
      ]
    },
    {
      "cell_type": "code",
      "execution_count": null,
      "metadata": {
        "id": "9jw6aj4aBXys"
      },
      "outputs": [],
      "source": [
        "from tensorflow.keras.models import Sequential\n",
        "from tensorflow.keras.layers import LSTM,Dense\n",
        "\n",
        "model_lstm13=Sequential()\n",
        "model_lstm13.add(LSTM(units=50,return_sequences=True,input_shape=(X_train.shape[1],1)))\n",
        "model_lstm13.add(LSTM(units=50))\n",
        "model_lstm13.add(Dense(1))"
      ]
    },
    {
      "cell_type": "code",
      "execution_count": null,
      "metadata": {
        "id": "sqnmmLyMBXys",
        "outputId": "dd277d37-25a9-4621-e7f3-fc59b5298b23",
        "colab": {
          "base_uri": "https://localhost:8080/"
        }
      },
      "outputs": [
        {
          "output_type": "stream",
          "name": "stdout",
          "text": [
            "Epoch 1/20\n",
            "\u001b[1m5/5\u001b[0m \u001b[32m━━━━━━━━━━━━━━━━━━━━\u001b[0m\u001b[37m\u001b[0m \u001b[1m4s\u001b[0m 60ms/step - loss: 0.2771\n",
            "Epoch 2/20\n",
            "\u001b[1m5/5\u001b[0m \u001b[32m━━━━━━━━━━━━━━━━━━━━\u001b[0m\u001b[37m\u001b[0m \u001b[1m1s\u001b[0m 86ms/step - loss: 0.0757\n",
            "Epoch 3/20\n",
            "\u001b[1m5/5\u001b[0m \u001b[32m━━━━━━━━━━━━━━━━━━━━\u001b[0m\u001b[37m\u001b[0m \u001b[1m1s\u001b[0m 92ms/step - loss: 0.0278\n",
            "Epoch 4/20\n",
            "\u001b[1m5/5\u001b[0m \u001b[32m━━━━━━━━━━━━━━━━━━━━\u001b[0m\u001b[37m\u001b[0m \u001b[1m0s\u001b[0m 86ms/step - loss: 0.0193\n",
            "Epoch 5/20\n",
            "\u001b[1m5/5\u001b[0m \u001b[32m━━━━━━━━━━━━━━━━━━━━\u001b[0m\u001b[37m\u001b[0m \u001b[1m1s\u001b[0m 93ms/step - loss: 0.0158\n",
            "Epoch 6/20\n",
            "\u001b[1m5/5\u001b[0m \u001b[32m━━━━━━━━━━━━━━━━━━━━\u001b[0m\u001b[37m\u001b[0m \u001b[1m1s\u001b[0m 68ms/step - loss: 0.0156\n",
            "Epoch 7/20\n",
            "\u001b[1m5/5\u001b[0m \u001b[32m━━━━━━━━━━━━━━━━━━━━\u001b[0m\u001b[37m\u001b[0m \u001b[1m0s\u001b[0m 66ms/step - loss: 0.0097\n",
            "Epoch 8/20\n",
            "\u001b[1m5/5\u001b[0m \u001b[32m━━━━━━━━━━━━━━━━━━━━\u001b[0m\u001b[37m\u001b[0m \u001b[1m0s\u001b[0m 62ms/step - loss: 0.0105\n",
            "Epoch 9/20\n",
            "\u001b[1m5/5\u001b[0m \u001b[32m━━━━━━━━━━━━━━━━━━━━\u001b[0m\u001b[37m\u001b[0m \u001b[1m0s\u001b[0m 61ms/step - loss: 0.0087\n",
            "Epoch 10/20\n",
            "\u001b[1m5/5\u001b[0m \u001b[32m━━━━━━━━━━━━━━━━━━━━\u001b[0m\u001b[37m\u001b[0m \u001b[1m0s\u001b[0m 67ms/step - loss: 0.0081\n",
            "Epoch 11/20\n",
            "\u001b[1m5/5\u001b[0m \u001b[32m━━━━━━━━━━━━━━━━━━━━\u001b[0m\u001b[37m\u001b[0m \u001b[1m0s\u001b[0m 60ms/step - loss: 0.0077\n",
            "Epoch 12/20\n",
            "\u001b[1m5/5\u001b[0m \u001b[32m━━━━━━━━━━━━━━━━━━━━\u001b[0m\u001b[37m\u001b[0m \u001b[1m0s\u001b[0m 62ms/step - loss: 0.0072\n",
            "Epoch 13/20\n",
            "\u001b[1m5/5\u001b[0m \u001b[32m━━━━━━━━━━━━━━━━━━━━\u001b[0m\u001b[37m\u001b[0m \u001b[1m0s\u001b[0m 65ms/step - loss: 0.0072\n",
            "Epoch 14/20\n",
            "\u001b[1m5/5\u001b[0m \u001b[32m━━━━━━━━━━━━━━━━━━━━\u001b[0m\u001b[37m\u001b[0m \u001b[1m0s\u001b[0m 59ms/step - loss: 0.0070\n",
            "Epoch 15/20\n",
            "\u001b[1m5/5\u001b[0m \u001b[32m━━━━━━━━━━━━━━━━━━━━\u001b[0m\u001b[37m\u001b[0m \u001b[1m0s\u001b[0m 61ms/step - loss: 0.0069\n",
            "Epoch 16/20\n",
            "\u001b[1m5/5\u001b[0m \u001b[32m━━━━━━━━━━━━━━━━━━━━\u001b[0m\u001b[37m\u001b[0m \u001b[1m1s\u001b[0m 64ms/step - loss: 0.0067\n",
            "Epoch 17/20\n",
            "\u001b[1m5/5\u001b[0m \u001b[32m━━━━━━━━━━━━━━━━━━━━\u001b[0m\u001b[37m\u001b[0m \u001b[1m1s\u001b[0m 62ms/step - loss: 0.0066\n",
            "Epoch 18/20\n",
            "\u001b[1m5/5\u001b[0m \u001b[32m━━━━━━━━━━━━━━━━━━━━\u001b[0m\u001b[37m\u001b[0m \u001b[1m1s\u001b[0m 65ms/step - loss: 0.0065\n",
            "Epoch 19/20\n",
            "\u001b[1m5/5\u001b[0m \u001b[32m━━━━━━━━━━━━━━━━━━━━\u001b[0m\u001b[37m\u001b[0m \u001b[1m1s\u001b[0m 64ms/step - loss: 0.0063\n",
            "Epoch 20/20\n",
            "\u001b[1m5/5\u001b[0m \u001b[32m━━━━━━━━━━━━━━━━━━━━\u001b[0m\u001b[37m\u001b[0m \u001b[1m0s\u001b[0m 60ms/step - loss: 0.0062\n"
          ]
        },
        {
          "output_type": "execute_result",
          "data": {
            "text/plain": [
              "<keras.src.callbacks.history.History at 0x787fe471d650>"
            ]
          },
          "metadata": {},
          "execution_count": 52
        }
      ],
      "source": [
        "#compile the model using an appropriate optimizer and loss function\n",
        "model_lstm13.compile(optimizer='adam', loss='mean_squared_error')\n",
        "model_lstm13.fit(X_train,y_train,epochs=20,batch_size=32)"
      ]
    },
    {
      "cell_type": "code",
      "execution_count": null,
      "metadata": {
        "id": "to2l-C5BBXys",
        "outputId": "57e20e8e-21ff-432c-cec1-964db1efaa2d",
        "colab": {
          "base_uri": "https://localhost:8080/"
        }
      },
      "outputs": [
        {
          "output_type": "stream",
          "name": "stderr",
          "text": [
            "WARNING:tensorflow:5 out of the last 5 calls to <function TensorFlowTrainer.make_predict_function.<locals>.one_step_on_data_distributed at 0x787fe6011800> triggered tf.function retracing. Tracing is expensive and the excessive number of tracings could be due to (1) creating @tf.function repeatedly in a loop, (2) passing tensors with different shapes, (3) passing Python objects instead of tensors. For (1), please define your @tf.function outside of the loop. For (2), @tf.function has reduce_retracing=True option that can avoid unnecessary retracing. For (3), please refer to https://www.tensorflow.org/guide/function#controlling_retracing and https://www.tensorflow.org/api_docs/python/tf/function for  more details.\n"
          ]
        },
        {
          "output_type": "stream",
          "name": "stdout",
          "text": [
            "\r\u001b[1m1/2\u001b[0m \u001b[32m━━━━━━━━━━\u001b[0m\u001b[37m━━━━━━━━━━\u001b[0m \u001b[1m0s\u001b[0m 325ms/step"
          ]
        },
        {
          "output_type": "stream",
          "name": "stderr",
          "text": [
            "WARNING:tensorflow:6 out of the last 6 calls to <function TensorFlowTrainer.make_predict_function.<locals>.one_step_on_data_distributed at 0x787fe6011800> triggered tf.function retracing. Tracing is expensive and the excessive number of tracings could be due to (1) creating @tf.function repeatedly in a loop, (2) passing tensors with different shapes, (3) passing Python objects instead of tensors. For (1), please define your @tf.function outside of the loop. For (2), @tf.function has reduce_retracing=True option that can avoid unnecessary retracing. For (3), please refer to https://www.tensorflow.org/guide/function#controlling_retracing and https://www.tensorflow.org/api_docs/python/tf/function for  more details.\n"
          ]
        },
        {
          "output_type": "stream",
          "name": "stdout",
          "text": [
            "\u001b[1m2/2\u001b[0m \u001b[32m━━━━━━━━━━━━━━━━━━━━\u001b[0m\u001b[37m\u001b[0m \u001b[1m1s\u001b[0m 367ms/step\n"
          ]
        }
      ],
      "source": [
        "y_pred_lstm13=model_lstm13.predict(X_test)"
      ]
    },
    {
      "cell_type": "code",
      "execution_count": null,
      "metadata": {
        "id": "jaMzPTubBXys",
        "outputId": "2d38301a-cac4-4246-fe3c-6a3a898c4126",
        "colab": {
          "base_uri": "https://localhost:8080/"
        }
      },
      "outputs": [
        {
          "output_type": "stream",
          "name": "stdout",
          "text": [
            "(153, 60)\n",
            "(153,)\n",
            "(39, 60)\n",
            "(39, 1)\n",
            "(39,)\n"
          ]
        }
      ],
      "source": [
        "print(X_train.shape)\n",
        "print(y_train.shape)\n",
        "print(X_test.shape)\n",
        "print(y_pred_lstm13.shape)\n",
        "print(y_test.shape)"
      ]
    },
    {
      "cell_type": "code",
      "execution_count": null,
      "metadata": {
        "id": "zXXVShKFBXyt"
      },
      "outputs": [],
      "source": [
        "rmse_lstm13=root_mean_squared_error(y_test,y_pred_lstm13)\n",
        "mae_lstm13=mean_absolute_error(y_test,y_pred_lstm13)\n",
        "r2_lstm13=r2_score(y_test,y_pred_lstm13)"
      ]
    },
    {
      "cell_type": "code",
      "execution_count": null,
      "metadata": {
        "id": "8_9fUu0LBXyt",
        "outputId": "408228f0-8e6e-4c2d-ae0b-2e720fa9efe7",
        "colab": {
          "base_uri": "https://localhost:8080/"
        }
      },
      "outputs": [
        {
          "output_type": "stream",
          "name": "stdout",
          "text": [
            "MSE_LSTM13:0.059893525782298375\n",
            "MAE_LSTM13:0.04919950524198281\n",
            "R2_LSTM13:0.23448275095171411\n"
          ]
        }
      ],
      "source": [
        "print(f'MSE_LSTM13:{rmse_lstm13}\\nMAE_LSTM13:{mae_lstm13}\\nR2_LSTM13:{r2_lstm13}')"
      ]
    },
    {
      "cell_type": "markdown",
      "metadata": {
        "id": "u6rNMfdsBXyt"
      },
      "source": [
        "**HYBRID**"
      ]
    },
    {
      "cell_type": "code",
      "execution_count": null,
      "metadata": {
        "id": "mQTjVOJ3BXyt",
        "outputId": "915859a9-6654-40f2-c9db-6cbca3ecad4f",
        "colab": {
          "base_uri": "https://localhost:8080/"
        }
      },
      "outputs": [
        {
          "output_type": "stream",
          "name": "stdout",
          "text": [
            "\n",
            "Hybrid Model: LR- LFM & LSTM- 60 days close price.\n",
            "==================================================\n",
            "+----------+---------+\n",
            "| Metric   |   Value |\n",
            "+==========+=========+\n",
            "| MAE      |  0.0492 |\n",
            "+----------+---------+\n",
            "| RMSE     |  0.0599 |\n",
            "+----------+---------+\n",
            "| R²       |  0.2345 |\n",
            "+----------+---------+\n"
          ]
        }
      ],
      "source": [
        "y_pred_lr13=y_pred_lstm13[-len(y_pred_lstm13):]\n",
        "alpha=0.6\n",
        "hybrid13=alpha*y_pred_lstm13+(1-alpha)*y_pred_lr13\n",
        "\n",
        "rmse_h13=root_mean_squared_error(y_test,hybrid13)\n",
        "mae_h13=mean_absolute_error(y_test,hybrid13)\n",
        "r2_h13=r2_score(y_test,hybrid13)\n",
        "\n",
        "# Define the model name as a heading\n",
        "model_name13 = \"Hybrid Model: LR- LFM & LSTM- 60 days close price.\"\n",
        "\n",
        "# Define the table structure\n",
        "data13 = [\n",
        "    [\"MAE\", f\"{mae_h13:.4f}\"],\n",
        "    [\"RMSE\", f\"{rmse_h13:.4f}\"],\n",
        "    [\"R²\", f\"{r2_h13:.4f}\"]\n",
        "]\n",
        "\n",
        "# Create DataFrame\n",
        "df13 = pd.DataFrame(data13, columns=[\"Metric\", \"Value\"])\n",
        "\n",
        "# Print the heading\n",
        "print(f\"\\n{model_name13}\\n\" + \"=\" * len(model_name13))\n",
        "\n",
        "# Print the table without the model column\n",
        "print(tabulate(df13, headers=\"keys\", tablefmt=\"grid\", showindex=False))"
      ]
    },
    {
      "cell_type": "markdown",
      "metadata": {
        "id": "Daf6dcH6BXyt"
      },
      "source": [
        "### **HYBRID2(LSTM+LR+SVR+RF)**"
      ]
    },
    {
      "cell_type": "markdown",
      "metadata": {
        "id": "KGoY7IPjBXyu"
      },
      "source": [
        "### APPROACH1"
      ]
    },
    {
      "cell_type": "code",
      "execution_count": null,
      "metadata": {
        "id": "XUDYzoP3BXyu",
        "outputId": "969a55b3-4637-4fcc-8272-fadf10435467",
        "colab": {
          "base_uri": "https://localhost:8080/"
        }
      },
      "outputs": [
        {
          "output_type": "stream",
          "name": "stdout",
          "text": [
            "RMSE: 0.002739926804601374\n",
            " MAE: 0.0024596947423728053 \n",
            " R2: 0.9999039580218739\n"
          ]
        }
      ],
      "source": [
        "#Linear regression\n",
        "#import required libraries\n",
        "from sklearn.linear_model import LinearRegression\n",
        "from sklearn.model_selection import train_test_split\n",
        "from sklearn.metrics import mean_squared_error,mean_absolute_error,r2_score\n",
        "\n",
        "#define dependent and independent features\n",
        "x=df.drop(columns='Close')\n",
        "y=df[['Close']]\n",
        "\n",
        "x_train,x_test,y_train,y_test=train_test_split(x,y,train_size=0.8,random_state=42)\n",
        "\n",
        "model_lr21=LinearRegression()\n",
        "model_lr21.fit(x_train,y_train)\n",
        "y_pred_lr21=model_lr21.predict(x_test)\n",
        "\n",
        "#evaluation metrics for linear regression model with all features as predictors\n",
        "rmse_lr21=root_mean_squared_error(y_test,y_pred_lr21)\n",
        "mae_lr21=mean_absolute_error(y_test,y_pred_lr21)\n",
        "r2_lr21=r2_score(y_test,y_pred_lr21)\n",
        "print(f'RMSE: {rmse_lr21}\\n MAE: {mae_lr21} \\n R2: {r2_lr21}')"
      ]
    },
    {
      "cell_type": "code",
      "execution_count": null,
      "metadata": {
        "id": "XylIxyNSBXyu",
        "outputId": "3f0eb281-3155-425c-806c-eb5d455d5d97",
        "colab": {
          "base_uri": "https://localhost:8080/"
        }
      },
      "outputs": [
        {
          "output_type": "stream",
          "name": "stdout",
          "text": [
            "Epoch 1/20\n",
            "\u001b[1m5/5\u001b[0m \u001b[32m━━━━━━━━━━━━━━━━━━━━\u001b[0m\u001b[37m\u001b[0m \u001b[1m8s\u001b[0m 394ms/step - loss: 0.1758 - val_loss: 0.0353\n",
            "Epoch 2/20\n",
            "\u001b[1m5/5\u001b[0m \u001b[32m━━━━━━━━━━━━━━━━━━━━\u001b[0m\u001b[37m\u001b[0m \u001b[1m1s\u001b[0m 112ms/step - loss: 0.0437 - val_loss: 0.0308\n",
            "Epoch 3/20\n",
            "\u001b[1m5/5\u001b[0m \u001b[32m━━━━━━━━━━━━━━━━━━━━\u001b[0m\u001b[37m\u001b[0m \u001b[1m1s\u001b[0m 115ms/step - loss: 0.0226 - val_loss: 0.0322\n",
            "Epoch 4/20\n",
            "\u001b[1m5/5\u001b[0m \u001b[32m━━━━━━━━━━━━━━━━━━━━\u001b[0m\u001b[37m\u001b[0m \u001b[1m1s\u001b[0m 112ms/step - loss: 0.0155 - val_loss: 0.0096\n",
            "Epoch 5/20\n",
            "\u001b[1m5/5\u001b[0m \u001b[32m━━━━━━━━━━━━━━━━━━━━\u001b[0m\u001b[37m\u001b[0m \u001b[1m1s\u001b[0m 134ms/step - loss: 0.0167 - val_loss: 0.0051\n",
            "Epoch 6/20\n",
            "\u001b[1m5/5\u001b[0m \u001b[32m━━━━━━━━━━━━━━━━━━━━\u001b[0m\u001b[37m\u001b[0m \u001b[1m1s\u001b[0m 114ms/step - loss: 0.0129 - val_loss: 0.0096\n",
            "Epoch 7/20\n",
            "\u001b[1m5/5\u001b[0m \u001b[32m━━━━━━━━━━━━━━━━━━━━\u001b[0m\u001b[37m\u001b[0m \u001b[1m1s\u001b[0m 110ms/step - loss: 0.0113 - val_loss: 0.0060\n",
            "Epoch 8/20\n",
            "\u001b[1m5/5\u001b[0m \u001b[32m━━━━━━━━━━━━━━━━━━━━\u001b[0m\u001b[37m\u001b[0m \u001b[1m1s\u001b[0m 118ms/step - loss: 0.0119 - val_loss: 0.0040\n",
            "Epoch 9/20\n",
            "\u001b[1m5/5\u001b[0m \u001b[32m━━━━━━━━━━━━━━━━━━━━\u001b[0m\u001b[37m\u001b[0m \u001b[1m1s\u001b[0m 114ms/step - loss: 0.0102 - val_loss: 0.0050\n",
            "Epoch 10/20\n",
            "\u001b[1m5/5\u001b[0m \u001b[32m━━━━━━━━━━━━━━━━━━━━\u001b[0m\u001b[37m\u001b[0m \u001b[1m1s\u001b[0m 116ms/step - loss: 0.0099 - val_loss: 0.0041\n",
            "Epoch 11/20\n",
            "\u001b[1m5/5\u001b[0m \u001b[32m━━━━━━━━━━━━━━━━━━━━\u001b[0m\u001b[37m\u001b[0m \u001b[1m1s\u001b[0m 114ms/step - loss: 0.0092 - val_loss: 0.0060\n",
            "Epoch 12/20\n",
            "\u001b[1m5/5\u001b[0m \u001b[32m━━━━━━━━━━━━━━━━━━━━\u001b[0m\u001b[37m\u001b[0m \u001b[1m1s\u001b[0m 112ms/step - loss: 0.0089 - val_loss: 0.0040\n",
            "Epoch 13/20\n",
            "\u001b[1m5/5\u001b[0m \u001b[32m━━━━━━━━━━━━━━━━━━━━\u001b[0m\u001b[37m\u001b[0m \u001b[1m1s\u001b[0m 124ms/step - loss: 0.0083 - val_loss: 0.0064\n",
            "Epoch 14/20\n",
            "\u001b[1m5/5\u001b[0m \u001b[32m━━━━━━━━━━━━━━━━━━━━\u001b[0m\u001b[37m\u001b[0m \u001b[1m1s\u001b[0m 175ms/step - loss: 0.0078 - val_loss: 0.0047\n",
            "Epoch 15/20\n",
            "\u001b[1m5/5\u001b[0m \u001b[32m━━━━━━━━━━━━━━━━━━━━\u001b[0m\u001b[37m\u001b[0m \u001b[1m1s\u001b[0m 176ms/step - loss: 0.0075 - val_loss: 0.0044\n",
            "Epoch 16/20\n",
            "\u001b[1m5/5\u001b[0m \u001b[32m━━━━━━━━━━━━━━━━━━━━\u001b[0m\u001b[37m\u001b[0m \u001b[1m1s\u001b[0m 112ms/step - loss: 0.0078 - val_loss: 0.0040\n",
            "Epoch 17/20\n",
            "\u001b[1m5/5\u001b[0m \u001b[32m━━━━━━━━━━━━━━━━━━━━\u001b[0m\u001b[37m\u001b[0m \u001b[1m1s\u001b[0m 115ms/step - loss: 0.0073 - val_loss: 0.0057\n",
            "Epoch 18/20\n",
            "\u001b[1m5/5\u001b[0m \u001b[32m━━━━━━━━━━━━━━━━━━━━\u001b[0m\u001b[37m\u001b[0m \u001b[1m1s\u001b[0m 115ms/step - loss: 0.0068 - val_loss: 0.0054\n",
            "Epoch 19/20\n",
            "\u001b[1m5/5\u001b[0m \u001b[32m━━━━━━━━━━━━━━━━━━━━\u001b[0m\u001b[37m\u001b[0m \u001b[1m1s\u001b[0m 139ms/step - loss: 0.0067 - val_loss: 0.0038\n",
            "Epoch 20/20\n",
            "\u001b[1m5/5\u001b[0m \u001b[32m━━━━━━━━━━━━━━━━━━━━\u001b[0m\u001b[37m\u001b[0m \u001b[1m1s\u001b[0m 134ms/step - loss: 0.0076 - val_loss: 0.0043\n",
            "\u001b[1m2/2\u001b[0m \u001b[32m━━━━━━━━━━━━━━━━━━━━\u001b[0m\u001b[37m\u001b[0m \u001b[1m1s\u001b[0m 485ms/step\n",
            "\n",
            "\n",
            "\n",
            "MAE_LSTM21: 0.06\n",
            ", RMSE_LSTM21: 0.07\n",
            ", R2_LSTM21: 0.09\n"
          ]
        }
      ],
      "source": [
        "#LSTM\n",
        "import tensorflow as tf\n",
        "# tf.random.set_seed(42)\n",
        "x=df.drop(columns='Close')\n",
        "y=df[['Close']]\n",
        "def create_sequences(features, target, time_steps=60):\n",
        "    X, y = [], []\n",
        "    for i in range(len(features) - time_steps):\n",
        "        X.append(features[i:i+time_steps])\n",
        "        y.append(target[i+time_steps])\n",
        "    return np.array(X), np.array(y)\n",
        "\n",
        "time_steps = 60  # Use past 60 days for prediction\n",
        "x_array=x.to_numpy()\n",
        "y_array=y.to_numpy()\n",
        "X, y = create_sequences(x_array,y_array, time_steps)\n",
        "\n",
        "# Split into training and testing sets\n",
        "X_train, X_test, y_train, y_test = train_test_split(X, y, test_size=0.2, shuffle=False)\n",
        "\n",
        "# Reshape for LSTM input\n",
        "X_train = X_train.reshape(X_train.shape[0], X_train.shape[1], X_train.shape[2])\n",
        "X_test = X_test.reshape(X_test.shape[0], X_test.shape[1], X_test.shape[2])\n",
        "\n",
        "\n",
        "\n",
        "from tensorflow.keras.models import Sequential\n",
        "from tensorflow.keras.layers import LSTM,Dense,Dropout\n",
        "model_lstm21 = Sequential([\n",
        "    LSTM(units=50, return_sequences=True, input_shape=(time_steps, X_train.shape[2])),\n",
        "    Dropout(0.2),\n",
        "    LSTM(units=50, return_sequences=True),\n",
        "\n",
        "    LSTM(units=50),\n",
        "    Dense(units=30),\n",
        "\n",
        "    Dense(units=1)  # Output layer (Predicting Close price)\n",
        "])\n",
        "\n",
        "model_lstm21.compile(optimizer='adam', loss='mean_squared_error')\n",
        "model_lstm21.fit(X_train,y_train,epochs=20,batch_size=32,validation_data=(X_test,y_test))\n",
        "y_pred_lstm21=model_lstm21.predict(X_test)\n",
        "\n",
        "\n",
        "from sklearn.metrics import mean_absolute_error, mean_squared_error,r2_score\n",
        "mae_lstm21 = mean_absolute_error(y_test, y_pred_lstm21)\n",
        "rmse_lstm21 = root_mean_squared_error(y_test, y_pred_lstm21)\n",
        "r2_lstm21=r2_score(y_test,y_pred_lstm21)\n",
        "print(f\"\\n\\n\\nMAE_LSTM21: {mae_lstm21:.2f}\\n, RMSE_LSTM21: {rmse_lstm21:.2f}\\n, R2_LSTM21: {r2_lstm21:.2f}\")\n"
      ]
    },
    {
      "cell_type": "code",
      "execution_count": null,
      "metadata": {
        "id": "T9I4NYGVBXyu",
        "outputId": "ceaff44a-5da2-4d03-88ce-6a09804b3cad",
        "colab": {
          "base_uri": "https://localhost:8080/"
        }
      },
      "outputs": [
        {
          "output_type": "stream",
          "name": "stdout",
          "text": [
            "RMSE_SVR21:0.05254948092659324\n",
            "MAE_SVR21:0.045554053830079454\n",
            "R2_SVR21:0.9646719199907317\n"
          ]
        }
      ],
      "source": [
        "#SVR\n",
        "from sklearn.model_selection import train_test_split\n",
        "from sklearn.svm import SVR\n",
        "from sklearn.metrics import mean_squared_error,mean_absolute_error,r2_score\n",
        "x=df.drop(columns='Close')\n",
        "y=df[['Close']]\n",
        "\n",
        "x_train,x_test,y_train,y_test=train_test_split(x,y,train_size=0.8,random_state=42)\n",
        "\n",
        "\n",
        "model_svr21=SVR(kernel='rbf')\n",
        "model_svr21.fit(x_train,y_train)\n",
        "y_pred_svr21=model_svr21.predict(x_test)\n",
        "\n",
        "rmse_svr21=root_mean_squared_error(y_test,y_pred_svr21)\n",
        "mae_svr21=mean_absolute_error(y_test,y_pred_svr21)\n",
        "r2_svr21=r2_score(y_test,y_pred_svr21)\n",
        "print(f'RMSE_SVR21:{rmse_svr21}\\nMAE_SVR21:{mae_svr21}\\nR2_SVR21:{r2_svr21}')\n",
        "\n"
      ]
    },
    {
      "cell_type": "code",
      "execution_count": null,
      "metadata": {
        "id": "xLOeM61XBXyv",
        "outputId": "784ad104-6188-41de-851d-57f15d8dd31e",
        "colab": {
          "base_uri": "https://localhost:8080/"
        }
      },
      "outputs": [
        {
          "output_type": "stream",
          "name": "stdout",
          "text": [
            "RMSE_RF21:0.0071829732431249555\n",
            "MAE_RF21:0.0046287655414643\n",
            "R2_RF21:0.9993399274512241\n"
          ]
        }
      ],
      "source": [
        "#random forest\n",
        "from sklearn.ensemble import RandomForestRegressor\n",
        "from sklearn.model_selection import train_test_split\n",
        "from sklearn.metrics import mean_squared_error,mean_absolute_error,r2_score\n",
        "x=df.drop(columns='Close')\n",
        "y=df[['Close']]\n",
        "\n",
        "x_train,x_test,y_train,y_test=train_test_split(x,y,train_size=0.8,random_state=42)\n",
        "model_rf21=RandomForestRegressor()\n",
        "model_rf21.fit(x_train,y_train)\n",
        "y_pred_rf21=model_rf21.predict(x_test)\n",
        "\n",
        "rmse_rf21=root_mean_squared_error(y_test,y_pred_rf21)\n",
        "mae_rf21=mean_absolute_error(y_test,y_pred_rf21)\n",
        "r2_rf21=r2_score(y_test,y_pred_rf21)\n",
        "print(f'RMSE_RF21:{rmse_rf21}\\nMAE_RF21:{mae_rf21}\\nR2_RF21:{r2_rf21}')"
      ]
    },
    {
      "cell_type": "code",
      "execution_count": null,
      "metadata": {
        "id": "oArEkC5YBXyv",
        "outputId": "e0b1860c-9965-4f0e-c29b-547cda11891f",
        "colab": {
          "base_uri": "https://localhost:8080/"
        }
      },
      "outputs": [
        {
          "output_type": "stream",
          "name": "stdout",
          "text": [
            "(39, 1)\n",
            "(39, 1)\n",
            "(39, 1)\n",
            "\n",
            "LR, LSTM, SVR and RF uses all features.\n",
            "=======================================\n",
            "+----------+---------+\n",
            "| Metric   |   Value |\n",
            "+==========+=========+\n",
            "| MAE      |  0.1153 |\n",
            "+----------+---------+\n",
            "| RMSE     |  0.132  |\n",
            "+----------+---------+\n",
            "| R²       |  0.7544 |\n",
            "+----------+---------+\n"
          ]
        }
      ],
      "source": [
        "#hybrid\n",
        "# Reshape Linear Regression predictions to match LSTM predictions\n",
        "y_pred_lr21 = y_pred_lr21[-len(y_pred_lstm21):]  # Ensure equal length\n",
        "y_pred_svr21=y_pred_svr21[-len(y_pred_lstm21):]\n",
        "y_pred_rf21=y_pred_rf21[-len(y_pred_lstm21):]\n",
        "y_test=y_test[-len(y_pred_lstm21):]\n",
        "\n",
        "# Convert to NumPy arrays\n",
        "y_pred_lr21 = np.array(y_pred_lr21).reshape(-1,1)\n",
        "y_pred_lstm21 = np.array(y_pred_lstm21).reshape(-1,1)\n",
        "y_pred_svr21=np.array(y_pred_svr21).reshape(-1,1)\n",
        "y_pred_rf21=np.array(y_pred_rf21).reshape(-1,1)\n",
        "print(y_pred_rf21.shape)\n",
        "print(y_pred_svr21.shape)\n",
        "print(y_test.shape)\n",
        "# Hybrid Prediction: Weighted Average of Linear Regression & LSTM\n",
        "alpha = 0.25  # Weight for LSTM (Adjustable)\n",
        "y_pred_h21 = 0.25 * y_pred_lstm21 + 0.25* y_pred_lr21+0.25*y_pred_svr21+0.25*y_pred_rf21\n",
        "\n",
        "mae_h21=mean_absolute_error(y_test,y_pred_h21)\n",
        "rmse_h21=root_mean_squared_error(y_test,y_pred_h21)\n",
        "r2_h21=r2_score(y_test,y_pred_h21)\n",
        "#print(f\"MAE_H21: {mae_h21:.2f}\\nRMSE_H21: {rmse_h21:.2f}\\nR2_H21: {r2_h21:.4f}\")\n",
        "# Define the model name as a heading\n",
        "model_name21 = \"LR, LSTM, SVR and RF uses all features.\"\n",
        "\n",
        "# Define the table structure\n",
        "data21 = [\n",
        "    [\"MAE\", f\"{mae_h21:.4f}\"],\n",
        "    [\"RMSE\", f\"{rmse_h21:.4f}\"],\n",
        "    [\"R²\", f\"{r2_h21:.4f}\"]\n",
        "]\n",
        "\n",
        "# Create DataFrame\n",
        "df21 = pd.DataFrame(data21, columns=[\"Metric\", \"Value\"])\n",
        "\n",
        "# Print the heading\n",
        "print(f\"\\n{model_name21}\\n\" + \"=\" * len(model_name21))\n",
        "\n",
        "# Print the table without the model column\n",
        "print(tabulate(df21, headers=\"keys\", tablefmt=\"grid\", showindex=False))"
      ]
    },
    {
      "cell_type": "markdown",
      "metadata": {
        "id": "Nb3OxxqcBXyv"
      },
      "source": [
        "### APPROACH-2"
      ]
    },
    {
      "cell_type": "code",
      "execution_count": null,
      "metadata": {
        "id": "Jx8GpJBZBXyv",
        "outputId": "566a9951-fb66-45c0-b7a9-08e116b9e0bd",
        "colab": {
          "base_uri": "https://localhost:8080/"
        }
      },
      "outputs": [
        {
          "output_type": "stream",
          "name": "stdout",
          "text": [
            "RMSE_LR22:0.012423550636731834\n",
            "MAE_LR22:0.010099101693279294\n",
            "R2_LR22:0.9980254204122807\n"
          ]
        }
      ],
      "source": [
        "#linear regression\n",
        "x=df[['Open','High','Low']]\n",
        "y=df[['Close']]\n",
        "\n",
        "x_train,x_test,y_train,y_test=train_test_split(x,y,train_size=0.8,random_state=42)\n",
        "\n",
        "model_lr22=LinearRegression()\n",
        "model_lr22.fit(x_train,y_train)\n",
        "y_pred_lr22=model_lr22.predict(x_test)\n",
        "\n",
        "mae_lr22=mean_absolute_error(y_test,y_pred_lr22)\n",
        "rmse_lr22=root_mean_squared_error(y_test,y_pred_lr22)\n",
        "r2_lr22=r2_score(y_test,y_pred_lr22)\n",
        "print(f\"RMSE_LR22:{rmse_lr22}\\nMAE_LR22:{mae_lr22}\\nR2_LR22:{r2_lr22}\")"
      ]
    },
    {
      "cell_type": "code",
      "execution_count": null,
      "metadata": {
        "id": "U5_RfexJBXyw",
        "outputId": "3daa2c8e-617c-4d3c-8258-611782248db2",
        "colab": {
          "base_uri": "https://localhost:8080/"
        }
      },
      "outputs": [
        {
          "output_type": "stream",
          "name": "stdout",
          "text": [
            "Epoch 1/20\n",
            "\u001b[1m6/6\u001b[0m \u001b[32m━━━━━━━━━━━━━━━━━━━━\u001b[0m\u001b[37m\u001b[0m \u001b[1m7s\u001b[0m 235ms/step - loss: 0.1226 - val_loss: 0.0390\n",
            "Epoch 2/20\n",
            "\u001b[1m6/6\u001b[0m \u001b[32m━━━━━━━━━━━━━━━━━━━━\u001b[0m\u001b[37m\u001b[0m \u001b[1m1s\u001b[0m 105ms/step - loss: 0.0326 - val_loss: 0.0638\n",
            "Epoch 3/20\n",
            "\u001b[1m6/6\u001b[0m \u001b[32m━━━━━━━━━━━━━━━━━━━━\u001b[0m\u001b[37m\u001b[0m \u001b[1m1s\u001b[0m 104ms/step - loss: 0.0286 - val_loss: 0.0056\n",
            "Epoch 4/20\n",
            "\u001b[1m6/6\u001b[0m \u001b[32m━━━━━━━━━━━━━━━━━━━━\u001b[0m\u001b[37m\u001b[0m \u001b[1m1s\u001b[0m 104ms/step - loss: 0.0148 - val_loss: 0.0046\n",
            "Epoch 5/20\n",
            "\u001b[1m6/6\u001b[0m \u001b[32m━━━━━━━━━━━━━━━━━━━━\u001b[0m\u001b[37m\u001b[0m \u001b[1m1s\u001b[0m 106ms/step - loss: 0.0141 - val_loss: 0.0113\n",
            "Epoch 6/20\n",
            "\u001b[1m6/6\u001b[0m \u001b[32m━━━━━━━━━━━━━━━━━━━━\u001b[0m\u001b[37m\u001b[0m \u001b[1m1s\u001b[0m 104ms/step - loss: 0.0135 - val_loss: 0.0072\n",
            "Epoch 7/20\n",
            "\u001b[1m6/6\u001b[0m \u001b[32m━━━━━━━━━━━━━━━━━━━━\u001b[0m\u001b[37m\u001b[0m \u001b[1m1s\u001b[0m 121ms/step - loss: 0.0126 - val_loss: 0.0045\n",
            "Epoch 8/20\n",
            "\u001b[1m6/6\u001b[0m \u001b[32m━━━━━━━━━━━━━━━━━━━━\u001b[0m\u001b[37m\u001b[0m \u001b[1m1s\u001b[0m 105ms/step - loss: 0.0121 - val_loss: 0.0042\n",
            "Epoch 9/20\n",
            "\u001b[1m6/6\u001b[0m \u001b[32m━━━━━━━━━━━━━━━━━━━━\u001b[0m\u001b[37m\u001b[0m \u001b[1m1s\u001b[0m 122ms/step - loss: 0.0107 - val_loss: 0.0043\n",
            "Epoch 10/20\n",
            "\u001b[1m6/6\u001b[0m \u001b[32m━━━━━━━━━━━━━━━━━━━━\u001b[0m\u001b[37m\u001b[0m \u001b[1m1s\u001b[0m 169ms/step - loss: 0.0101 - val_loss: 0.0048\n",
            "Epoch 11/20\n",
            "\u001b[1m6/6\u001b[0m \u001b[32m━━━━━━━━━━━━━━━━━━━━\u001b[0m\u001b[37m\u001b[0m \u001b[1m1s\u001b[0m 164ms/step - loss: 0.0096 - val_loss: 0.0054\n",
            "Epoch 12/20\n",
            "\u001b[1m6/6\u001b[0m \u001b[32m━━━━━━━━━━━━━━━━━━━━\u001b[0m\u001b[37m\u001b[0m \u001b[1m1s\u001b[0m 120ms/step - loss: 0.0102 - val_loss: 0.0057\n",
            "Epoch 13/20\n",
            "\u001b[1m6/6\u001b[0m \u001b[32m━━━━━━━━━━━━━━━━━━━━\u001b[0m\u001b[37m\u001b[0m \u001b[1m1s\u001b[0m 106ms/step - loss: 0.0092 - val_loss: 0.0048\n",
            "Epoch 14/20\n",
            "\u001b[1m6/6\u001b[0m \u001b[32m━━━━━━━━━━━━━━━━━━━━\u001b[0m\u001b[37m\u001b[0m \u001b[1m1s\u001b[0m 122ms/step - loss: 0.0087 - val_loss: 0.0069\n",
            "Epoch 15/20\n",
            "\u001b[1m6/6\u001b[0m \u001b[32m━━━━━━━━━━━━━━━━━━━━\u001b[0m\u001b[37m\u001b[0m \u001b[1m1s\u001b[0m 107ms/step - loss: 0.0094 - val_loss: 0.0052\n",
            "Epoch 16/20\n",
            "\u001b[1m6/6\u001b[0m \u001b[32m━━━━━━━━━━━━━━━━━━━━\u001b[0m\u001b[37m\u001b[0m \u001b[1m1s\u001b[0m 106ms/step - loss: 0.0088 - val_loss: 0.0046\n",
            "Epoch 17/20\n",
            "\u001b[1m6/6\u001b[0m \u001b[32m━━━━━━━━━━━━━━━━━━━━\u001b[0m\u001b[37m\u001b[0m \u001b[1m1s\u001b[0m 106ms/step - loss: 0.0086 - val_loss: 0.0061\n",
            "Epoch 18/20\n",
            "\u001b[1m6/6\u001b[0m \u001b[32m━━━━━━━━━━━━━━━━━━━━\u001b[0m\u001b[37m\u001b[0m \u001b[1m1s\u001b[0m 104ms/step - loss: 0.0073 - val_loss: 0.0061\n",
            "Epoch 19/20\n",
            "\u001b[1m6/6\u001b[0m \u001b[32m━━━━━━━━━━━━━━━━━━━━\u001b[0m\u001b[37m\u001b[0m \u001b[1m1s\u001b[0m 108ms/step - loss: 0.0079 - val_loss: 0.0044\n",
            "Epoch 20/20\n",
            "\u001b[1m6/6\u001b[0m \u001b[32m━━━━━━━━━━━━━━━━━━━━\u001b[0m\u001b[37m\u001b[0m \u001b[1m1s\u001b[0m 124ms/step - loss: 0.0075 - val_loss: 0.0047\n",
            "\u001b[1m2/2\u001b[0m \u001b[32m━━━━━━━━━━━━━━━━━━━━\u001b[0m\u001b[37m\u001b[0m \u001b[1m1s\u001b[0m 495ms/step\n",
            "MAE_LSTM22: 0.05\n",
            "RMSE_LSTM22: 0.07\n",
            "R2_LSTM22: -0.01\n"
          ]
        }
      ],
      "source": [
        "#LSTM\n",
        "x=df[['Open','High','Low']]\n",
        "y=df[['Close']]\n",
        "def create_sequences(features, target, time_steps=60):\n",
        "    X, y = [], []\n",
        "    for i in range(len(features) - time_steps):\n",
        "        X.append(features[i:i+time_steps])\n",
        "        y.append(target[i+time_steps])\n",
        "    return np.array(X), np.array(y)\n",
        "\n",
        "time_steps = 60  # Use past 60 days for prediction\n",
        "x_array=x.to_numpy()\n",
        "y_array=y.to_numpy()\n",
        "X, y = create_sequences(x_array, y_array, time_steps)\n",
        "\n",
        "# Split into training and testing sets\n",
        "X_train, X_test, y_train, y_test = train_test_split(X, y, test_size=0.2, shuffle=False)\n",
        "\n",
        "# Reshape for LSTM input\n",
        "X_train = X_train.reshape(X_train.shape[0], X_train.shape[1], X_train.shape[2])\n",
        "X_test = X_test.reshape(X_test.shape[0], X_test.shape[1], X_test.shape[2])\n",
        "\n",
        "\n",
        "from tensorflow.keras.models import Sequential\n",
        "from tensorflow.keras.layers import LSTM,Dense,Dropout\n",
        "model_lstm22 = Sequential([\n",
        "    LSTM(units=50, return_sequences=True, input_shape=(time_steps, X_train.shape[2])),\n",
        "    Dropout(0.2),\n",
        "    LSTM(units=50, return_sequences=True),\n",
        "\n",
        "    LSTM(units=50),\n",
        "    Dense(units=30),\n",
        "\n",
        "    Dense(units=1)  # Output layer (Predicting Close price)\n",
        "])\n",
        "\n",
        "model_lstm22.compile(optimizer='adam', loss='mean_squared_error')\n",
        "\n",
        "model_lstm22.fit(X_train, y_train, epochs=20, batch_size=30, validation_data=(X_test, y_test))\n",
        "y_pred_lstm22=model_lstm22.predict(X_test)\n",
        "from sklearn.metrics import mean_absolute_error, mean_squared_error,r2_score\n",
        "\n",
        "mae_lstm22 = mean_absolute_error(y_test, y_pred_lstm22)\n",
        "rmse_lstm22 = root_mean_squared_error(y_test, y_pred_lstm22)\n",
        "r2_lstm22=r2_score(y_test,y_pred_lstm22)\n",
        "print(f\"MAE_LSTM22: {mae_lstm22:.2f}\\nRMSE_LSTM22: {rmse_lstm22:.2f}\\nR2_LSTM22: {r2_lstm22:.2f}\")\n",
        "\n"
      ]
    },
    {
      "cell_type": "code",
      "execution_count": null,
      "metadata": {
        "id": "tZi2s-amBXyw",
        "outputId": "cfda3f5d-63c2-4821-9418-383f4de98f2c",
        "colab": {
          "base_uri": "https://localhost:8080/"
        }
      },
      "outputs": [
        {
          "output_type": "stream",
          "name": "stdout",
          "text": [
            "RMSE_SVR22:0.048995334329952\n",
            "MAE_SVR22:0.042890592712431785\n",
            "R2_SVR22:0.9692890942425318\n"
          ]
        }
      ],
      "source": [
        "#SVR\n",
        "\n",
        "from sklearn.model_selection import train_test_split\n",
        "from sklearn.svm import SVR\n",
        "from sklearn.metrics import mean_squared_error,mean_absolute_error,r2_score\n",
        "x=df.drop(columns=['Close','Volume','Adj Close'])\n",
        "y=df[['Close']]\n",
        "\n",
        "x_train,x_test,y_train,y_test=train_test_split(x,y,train_size=0.8,random_state=42)\n",
        "\n",
        "\n",
        "model_svr22=SVR(kernel='rbf')\n",
        "model_svr22.fit(x_train,y_train)\n",
        "y_pred_svr22=model_svr22.predict(x_test)\n",
        "\n",
        "rmse_svr22=root_mean_squared_error(y_test,y_pred_svr22)\n",
        "mae_svr22=mean_absolute_error(y_test,y_pred_svr22)\n",
        "r2_svr22=r2_score(y_test,y_pred_svr22)\n",
        "print(f'RMSE_SVR22:{rmse_svr22}\\nMAE_SVR22:{mae_svr22}\\nR2_SVR22:{r2_svr22}')\n",
        "\n"
      ]
    },
    {
      "cell_type": "code",
      "execution_count": null,
      "metadata": {
        "id": "WzAM01M9BXyx",
        "outputId": "640738a7-afed-4bc6-a42d-f3d1061aa24e",
        "colab": {
          "base_uri": "https://localhost:8080/"
        }
      },
      "outputs": [
        {
          "output_type": "stream",
          "name": "stdout",
          "text": [
            "RMSE_RF22:0.019317230839018117\n",
            "MAE_RF22:0.013808759027132729\n",
            "R2_RF22:0.995226104440859\n"
          ]
        }
      ],
      "source": [
        "#Random Forest\n",
        "from sklearn.ensemble import RandomForestRegressor\n",
        "from sklearn.model_selection import train_test_split\n",
        "from sklearn.metrics import mean_squared_error,mean_absolute_error,r2_score\n",
        "x=df.drop(columns=['Close','Volume','Adj Close'])\n",
        "y=df[['Close']]\n",
        "\n",
        "x_train,x_test,y_train,y_test=train_test_split(x,y,train_size=0.8,random_state=42)\n",
        "model_rf22=RandomForestRegressor()\n",
        "model_rf22.fit(x_train,y_train)\n",
        "y_pred_rf22=model_rf22.predict(x_test)\n",
        "\n",
        "rmse_rf22=root_mean_squared_error(y_test,y_pred_rf22)\n",
        "mae_rf22=mean_absolute_error(y_test,y_pred_rf22)\n",
        "r2_rf22=r2_score(y_test,y_pred_rf22)\n",
        "print(f'RMSE_RF22:{rmse_rf22}\\nMAE_RF22:{mae_rf22}\\nR2_RF22:{r2_rf22}')"
      ]
    },
    {
      "cell_type": "code",
      "execution_count": null,
      "metadata": {
        "id": "PNm21N4GBXyx",
        "outputId": "e71348f3-f6ce-4022-f37e-75f7710497bd",
        "colab": {
          "base_uri": "https://localhost:8080/"
        }
      },
      "outputs": [
        {
          "output_type": "stream",
          "name": "stdout",
          "text": [
            "(39, 1)\n",
            "(39, 1)\n",
            "(39, 1)\n",
            "\n",
            "LR, LSTM, SVR and RF-OHL\n",
            "========================\n",
            "+----------+---------+\n",
            "| Metric   |   Value |\n",
            "+==========+=========+\n",
            "| MAE      |  0.1234 |\n",
            "+----------+---------+\n",
            "| RMSE     |  0.1401 |\n",
            "+----------+---------+\n",
            "| R²       |  0.7232 |\n",
            "+----------+---------+\n"
          ]
        }
      ],
      "source": [
        "#hybrid\n",
        "# Reshape Linear Regression predictions to match LSTM predictions\n",
        "y_pred_lr22 = y_pred_lr22[-len(y_pred_lstm22):]  # Ensure equal length\n",
        "y_pred_svr22=y_pred_svr22[-len(y_pred_lstm22):]\n",
        "y_pred_rf22=y_pred_rf22[-len(y_pred_lstm22):]\n",
        "y_test=y_test[-len(y_pred_lstm22):]\n",
        "\n",
        "# Convert to NumPy arrays\n",
        "y_pred_lr22 = np.array(y_pred_lr22).reshape(-1,1)\n",
        "y_pred_lstm22 = np.array(y_pred_lstm22).reshape(-1,1)\n",
        "y_pred_svr22=np.array(y_pred_svr22).reshape(-1,1)\n",
        "y_pred_rf22=np.array(y_pred_rf22).reshape(-1,1)\n",
        "print(y_pred_rf22.shape)\n",
        "print(y_pred_svr22.shape)\n",
        "print(y_test.shape)\n",
        "\n",
        "alpha = 0.25\n",
        "y_pred_h22 = 0.25 * y_pred_lstm22 + 0.25* y_pred_lr22+0.25*y_pred_svr22+0.25*y_pred_rf22\n",
        "\n",
        "mae_h22=mean_absolute_error(y_test,y_pred_h22)\n",
        "rmse_h22=root_mean_squared_error(y_test,y_pred_h22)\n",
        "r2_h22=r2_score(y_test,y_pred_h22)\n",
        "#print(f\"MAE_H22: {mae_h22:.2f}\\nRMSE_H22: {rmse_h22:.2f}\\nR2_H22: {r2_h22:.4f}\")\n",
        "\n",
        "# Define the model name as a heading\n",
        "model_name22 = \"LR, LSTM, SVR and RF-OHL\"\n",
        "\n",
        "# Define the table structure\n",
        "data22 = [\n",
        "    [\"MAE\", f\"{mae_h22:.4f}\"],\n",
        "    [\"RMSE\", f\"{rmse_h22:.4f}\"],\n",
        "    [\"R²\", f\"{r2_h22:.4f}\"]\n",
        "]\n",
        "\n",
        "# Create DataFrame\n",
        "df22 = pd.DataFrame(data22, columns=[\"Metric\", \"Value\"])\n",
        "\n",
        "# Print the heading\n",
        "print(f\"\\n{model_name22}\\n\" + \"=\" * len(model_name22))\n",
        "\n",
        "# Print the table without the model column\n",
        "print(tabulate(df22, headers=\"keys\", tablefmt=\"grid\", showindex=False))"
      ]
    },
    {
      "cell_type": "markdown",
      "metadata": {
        "id": "UXwktDrxBXyy"
      },
      "source": [
        "### APPROACH 3"
      ]
    },
    {
      "cell_type": "code",
      "execution_count": null,
      "metadata": {
        "id": "tDjsXa3LBXyy",
        "outputId": "a04f3991-7d4f-43f0-f3bb-10fc214ca658",
        "colab": {
          "base_uri": "https://localhost:8080/"
        }
      },
      "outputs": [
        {
          "output_type": "stream",
          "name": "stdout",
          "text": [
            "RMSE_LR23 : 0.04179778981751835\n",
            "MAE_LR23 : 0.031797050717774965\n",
            "R2_LR23 : 0.6012842009827444\n"
          ]
        }
      ],
      "source": [
        "#linear regression\n",
        "from sklearn.linear_model import LinearRegression\n",
        "from sklearn.metrics import mean_squared_error,mean_absolute_error,r2_score\n",
        "data=df[['Close']]\n",
        "from warnings import filterwarnings\n",
        "filterwarnings('ignore')\n",
        "\n",
        "\n",
        "data['Lag_1']=df['Close'].shift(1)\n",
        "data['Lag_2']=df['Close'].shift(2)\n",
        "data['Lag_3']=df['Close'].shift(3)\n",
        "data.dropna(inplace=True)\n",
        "\n",
        "\n",
        "x=data[['Lag_1','Lag_2','Lag_3']]\n",
        "y=data[['Close']]\n",
        "\n",
        "\n",
        "train_size=int(len(y)*0.8)\n",
        "x_train,x_test=x[:train_size],x[train_size:]\n",
        "y_train,y_test=y[:train_size],y[train_size:]\n",
        "\n",
        "\n",
        "model_lr23=LinearRegression()\n",
        "model_lr23.fit(x_train,y_train)\n",
        "y_pred_lr23=model_lr23.predict(x_test)\n",
        "\n",
        "rmse_lr23=root_mean_squared_error(y_test,y_pred_lr23)\n",
        "mae_lr23=mean_absolute_error(y_test,y_pred_lr23)\n",
        "r2_lr23=r2_score(y_test,y_pred_lr23)\n",
        "\n",
        "print(f'RMSE_LR23 : {rmse_lr23}\\nMAE_LR23 : {mae_lr23}\\nR2_LR23 : {r2_lr23}')\n",
        "\n",
        "\n"
      ]
    },
    {
      "cell_type": "markdown",
      "metadata": {
        "id": "42wqMDrCBXyy"
      },
      "source": [
        "**LSTM**\n",
        "\n",
        "LSTM (Long Short-Term Memory) is a type of recurrent neural network (RNN) architecture designed to handle sequence prediction problems and capture long-term dependencies in data. It was introduced to overcome the limitations of traditional RNNs, such as the vanishing and exploding gradient problems.\n",
        "\n"
      ]
    },
    {
      "cell_type": "code",
      "execution_count": null,
      "metadata": {
        "id": "fdptDX3LBXyy",
        "outputId": "01eaf9bb-42aa-457c-9814-3f8cd3d8778d",
        "colab": {
          "base_uri": "https://localhost:8080/"
        }
      },
      "outputs": [
        {
          "metadata": {
            "tags": null
          },
          "name": "stdout",
          "output_type": "stream",
          "text": [
            "Epoch 1/20\n",
            "\u001b[1m5/5\u001b[0m \u001b[32m━━━━━━━━━━━━━━━━━━━━\u001b[0m\u001b[37m\u001b[0m \u001b[1m5s\u001b[0m 66ms/step - loss: 0.2812\n",
            "Epoch 2/20\n",
            "\u001b[1m5/5\u001b[0m \u001b[32m━━━━━━━━━━━━━━━━━━━━\u001b[0m\u001b[37m\u001b[0m \u001b[1m0s\u001b[0m 64ms/step - loss: 0.0624\n",
            "Epoch 3/20\n",
            "\u001b[1m5/5\u001b[0m \u001b[32m━━━━━━━━━━━━━━━━━━━━\u001b[0m\u001b[37m\u001b[0m \u001b[1m1s\u001b[0m 62ms/step - loss: 0.0400\n",
            "Epoch 4/20\n",
            "\u001b[1m5/5\u001b[0m \u001b[32m━━━━━━━━━━━━━━━━━━━━\u001b[0m\u001b[37m\u001b[0m \u001b[1m0s\u001b[0m 65ms/step - loss: 0.0168\n",
            "Epoch 5/20\n",
            "\u001b[1m5/5\u001b[0m \u001b[32m━━━━━━━━━━━━━━━━━━━━\u001b[0m\u001b[37m\u001b[0m \u001b[1m0s\u001b[0m 64ms/step - loss: 0.0195\n",
            "Epoch 6/20\n",
            "\u001b[1m5/5\u001b[0m \u001b[32m━━━━━━━━━━━━━━━━━━━━\u001b[0m\u001b[37m\u001b[0m \u001b[1m1s\u001b[0m 71ms/step - loss: 0.0149\n",
            "Epoch 7/20\n",
            "\u001b[1m5/5\u001b[0m \u001b[32m━━━━━━━━━━━━━━━━━━━━\u001b[0m\u001b[37m\u001b[0m \u001b[1m0s\u001b[0m 64ms/step - loss: 0.0111\n",
            "Epoch 8/20\n",
            "\u001b[1m5/5\u001b[0m \u001b[32m━━━━━━━━━━━━━━━━━━━━\u001b[0m\u001b[37m\u001b[0m \u001b[1m1s\u001b[0m 67ms/step - loss: 0.0119\n",
            "Epoch 9/20\n",
            "\u001b[1m5/5\u001b[0m \u001b[32m━━━━━━━━━━━━━━━━━━━━\u001b[0m\u001b[37m\u001b[0m \u001b[1m1s\u001b[0m 62ms/step - loss: 0.0095\n",
            "Epoch 10/20\n",
            "\u001b[1m5/5\u001b[0m \u001b[32m━━━━━━━━━━━━━━━━━━━━\u001b[0m\u001b[37m\u001b[0m \u001b[1m0s\u001b[0m 65ms/step - loss: 0.0094\n",
            "Epoch 11/20\n",
            "\u001b[1m5/5\u001b[0m \u001b[32m━━━━━━━━━━━━━━━━━━━━\u001b[0m\u001b[37m\u001b[0m \u001b[1m1s\u001b[0m 91ms/step - loss: 0.0084\n",
            "Epoch 12/20\n",
            "\u001b[1m5/5\u001b[0m \u001b[32m━━━━━━━━━━━━━━━━━━━━\u001b[0m\u001b[37m\u001b[0m \u001b[1m1s\u001b[0m 121ms/step - loss: 0.0085\n",
            "Epoch 13/20\n",
            "\u001b[1m5/5\u001b[0m \u001b[32m━━━━━━━━━━━━━━━━━━━━\u001b[0m\u001b[37m\u001b[0m \u001b[1m1s\u001b[0m 102ms/step - loss: 0.0081\n",
            "Epoch 14/20\n",
            "\u001b[1m5/5\u001b[0m \u001b[32m━━━━━━━━━━━━━━━━━━━━\u001b[0m\u001b[37m\u001b[0m \u001b[1m0s\u001b[0m 63ms/step - loss: 0.0078\n",
            "Epoch 15/20\n",
            "\u001b[1m5/5\u001b[0m \u001b[32m━━━━━━━━━━━━━━━━━━━━\u001b[0m\u001b[37m\u001b[0m \u001b[1m1s\u001b[0m 67ms/step - loss: 0.0075\n",
            "Epoch 16/20\n",
            "\u001b[1m5/5\u001b[0m \u001b[32m━━━━━━━━━━━━━━━━━━━━\u001b[0m\u001b[37m\u001b[0m \u001b[1m1s\u001b[0m 66ms/step - loss: 0.0074\n",
            "Epoch 17/20\n",
            "\u001b[1m5/5\u001b[0m \u001b[32m━━━━━━━━━━━━━━━━━━━━\u001b[0m\u001b[37m\u001b[0m \u001b[1m0s\u001b[0m 69ms/step - loss: 0.0071\n",
            "Epoch 18/20\n",
            "\u001b[1m5/5\u001b[0m \u001b[32m━━━━━━━━━━━━━━━━━━━━\u001b[0m\u001b[37m\u001b[0m \u001b[1m0s\u001b[0m 63ms/step - loss: 0.0069\n",
            "Epoch 19/20\n",
            "\u001b[1m5/5\u001b[0m \u001b[32m━━━━━━━━━━━━━━━━━━━━\u001b[0m\u001b[37m\u001b[0m \u001b[1m1s\u001b[0m 95ms/step - loss: 0.0068\n",
            "Epoch 20/20\n",
            "\u001b[1m5/5\u001b[0m \u001b[32m━━━━━━━━━━━━━━━━━━━━\u001b[0m\u001b[37m\u001b[0m \u001b[1m0s\u001b[0m 85ms/step - loss: 0.0066\n",
            "\u001b[1m2/2\u001b[0m \u001b[32m━━━━━━━━━━━━━━━━━━━━\u001b[0m\u001b[37m\u001b[0m \u001b[1m1s\u001b[0m 653ms/step\n",
            "RMSE_LSTM23 : 0.06561684687649302\n",
            "MAE_LSTM23 : 0.054132585453259274\n",
            "R2_LSTM23 : 0.08118952902422105\n"
          ]
        }
      ],
      "source": [
        "#LSTM\n",
        "data=df[['Close']]\n",
        "def create_sequences(df, seq_length=60):\n",
        "    X, y=[], []\n",
        "    for i in range(len(df) - seq_length):\n",
        "        X.append(df[i:i+seq_length])\n",
        "        y.append(df[i+seq_length])\n",
        "    return np.array(X), np.array(y)\n",
        "\n",
        "seq_length=60\n",
        "X,y=create_sequences(data['Close'].values,seq_length)\n",
        "\n",
        "# split the sequences into training and test sets (eg, 80% training, 20% testing)\n",
        "train_size=int(len(X)*0.8)\n",
        "X_train,X_test=X[:train_size],X[train_size:]\n",
        "y_train,y_test=y[:train_size],y[train_size:]\n",
        "\n",
        "from tensorflow.keras.models import Sequential\n",
        "from tensorflow.keras.layers import LSTM,Dense\n",
        "\n",
        "model_lstm23=Sequential()\n",
        "model_lstm23.add(LSTM(units=50,return_sequences=True,input_shape=(X_train.shape[1],1)))\n",
        "model_lstm23.add(LSTM(units=50))\n",
        "model_lstm23.add(Dense(1))\n",
        "\n",
        "#compile the model using an appropriate optimizer and loss function\n",
        "model_lstm23.compile(optimizer='adam', loss='mean_squared_error')\n",
        "model_lstm23.fit(X_train,y_train,epochs=20,batch_size=32)\n",
        "\n",
        "#make predictions on using LSTM on the test set and inverse transform the scaled predictions\n",
        "X_test_lstm=X_test.reshape((X_test.shape[0],X_test.shape[1],1))\n",
        "y_pred_lstm23=model_lstm23.predict(X_test_lstm)\n",
        "\n",
        "\n",
        "rmse_lstm23=root_mean_squared_error(y_test,y_pred_lstm23)\n",
        "mae_lstm23=mean_absolute_error(y_test,y_pred_lstm23)\n",
        "r2_lstm23=r2_score(y_test,y_pred_lstm23)\n",
        "\n",
        "print(f'RMSE_LSTM23 : {rmse_lstm23}\\nMAE_LSTM23 : {mae_lstm23}\\nR2_LSTM23 : {r2_lstm23}')\n",
        "\n"
      ]
    },
    {
      "cell_type": "code",
      "execution_count": null,
      "metadata": {
        "id": "gVbxXOSjBXyz",
        "outputId": "8d2cf774-582f-49f4-a9f7-11561aa1a51e",
        "colab": {
          "base_uri": "https://localhost:8080/"
        }
      },
      "outputs": [
        {
          "output_type": "stream",
          "name": "stdout",
          "text": [
            "RMSE_SVR23 : 0.057074777739191986\n",
            "MAE_SVR23 : 0.047117868923356274\n",
            "R2_SVR23 : 0.25656112466489056\n"
          ]
        }
      ],
      "source": [
        "#SVR\n",
        "data=df[['Close']]\n",
        "from warnings import filterwarnings\n",
        "filterwarnings('ignore')\n",
        "\n",
        "\n",
        "data['Lag_1']=df['Close'].shift(1)\n",
        "data['Lag_2']=df['Close'].shift(2)\n",
        "data['Lag_3']=df['Close'].shift(3)\n",
        "data.dropna(inplace=True)\n",
        "\n",
        "x=data[['Lag_1','Lag_2','Lag_3']]\n",
        "y=data[['Close']]\n",
        "\n",
        "\n",
        "train_size=int(len(y)*0.8)\n",
        "x_train,x_test=x[:train_size],x[train_size:]\n",
        "y_train,y_test=y[:train_size],y[train_size:]\n",
        "\n",
        "from sklearn.svm import SVR\n",
        "model_svr23=SVR()\n",
        "model_svr23.fit(x_train,y_train)\n",
        "y_pred_svr23=model_svr23.predict(x_test)\n",
        "\n",
        "rmse_svr23=root_mean_squared_error(y_test,y_pred_svr23)\n",
        "mae_svr23=mean_absolute_error(y_test,y_pred_svr23)\n",
        "r2_svr23=r2_score(y_test,y_pred_svr23)\n",
        "\n",
        "print(f'RMSE_SVR23 : {rmse_svr23}\\nMAE_SVR23 : {mae_svr23}\\nR2_SVR23 : {r2_svr23}')\n"
      ]
    },
    {
      "cell_type": "code",
      "execution_count": null,
      "metadata": {
        "id": "W70VnCMCBXyz",
        "outputId": "8a5bd9e9-951f-44a0-bd12-41c81843192b",
        "colab": {
          "base_uri": "https://localhost:8080/"
        }
      },
      "outputs": [
        {
          "output_type": "stream",
          "name": "stdout",
          "text": [
            "RMSE_RF23 : 0.04835348636924774\n",
            "MAE_RF23 : 0.03956010778495009\n",
            "R2_RF23 : 0.46640420910154134\n"
          ]
        }
      ],
      "source": [
        "#Random Forest\n",
        "data=df[['Close']]\n",
        "from warnings import filterwarnings\n",
        "filterwarnings('ignore')\n",
        "\n",
        "\n",
        "data['Lag_1']=df['Close'].shift(1)\n",
        "data['Lag_2']=df['Close'].shift(2)\n",
        "data['Lag_3']=df['Close'].shift(3)\n",
        "data.dropna(inplace=True)\n",
        "\n",
        "x=data[['Lag_1','Lag_2','Lag_3']]\n",
        "y=data[['Close']]\n",
        "\n",
        "\n",
        "train_size=int(len(y)*0.8)\n",
        "x_train,x_test=x[:train_size],x[train_size:]\n",
        "y_train,y_test=y[:train_size],y[train_size:]\n",
        "\n",
        "from sklearn.ensemble import RandomForestRegressor\n",
        "model_rf_23=RandomForestRegressor()\n",
        "model_rf_23.fit(x_train,y_train)\n",
        "y_pred_rf23=model_rf_23.predict(x_test)\n",
        "\n",
        "rmse_rf23=root_mean_squared_error(y_test,y_pred_rf23)\n",
        "mae_rf23=mean_absolute_error(y_test,y_pred_rf23)\n",
        "r2_rf23=r2_score(y_test,y_pred_rf23)\n",
        "\n",
        "print(f'RMSE_RF23 : {rmse_rf23}\\nMAE_RF23 : {mae_rf23}\\nR2_RF23 : {r2_rf23}')"
      ]
    },
    {
      "cell_type": "markdown",
      "metadata": {
        "id": "VLAEpQ-NBXyz"
      },
      "source": [
        "**Choosing the hybrid models**\n",
        "\n",
        "LSTM (Long Short-Term Memory) and Linear Regression models will be used for this task. LSTM effectively captures sequential dependencies and patterns in time-series data, which makes it suitable for modelling stock price movements influenced by historical trends.\n",
        "\n",
        "Linear Regression, on the other hand, is a straightforward model that captures simple linear relationships and long-term trends in data. By combining these two models into a hybrid approach, we leverage the LSTM’s ability to model complex time-dependent patterns alongside the Linear Regression’s ability to identify and follow broader trends. This combination aims to create a more balanced and accurate prediction system."
      ]
    },
    {
      "cell_type": "code",
      "execution_count": null,
      "metadata": {
        "id": "7VVQXA1FBXy0",
        "outputId": "14daa32a-7060-4d2a-8e89-fd2caffb63fa",
        "colab": {
          "base_uri": "https://localhost:8080/"
        }
      },
      "outputs": [
        {
          "output_type": "stream",
          "name": "stdout",
          "text": [
            "(39, 1)\n",
            "(39, 1)\n",
            "(39, 1)\n",
            "\n",
            "LR, SVR and RF-LFM & LSTM- 60 days close price.\n",
            "===============================================\n",
            "+----------+---------+\n",
            "| Metric   |   Value |\n",
            "+==========+=========+\n",
            "| MAE      |  0.0372 |\n",
            "+----------+---------+\n",
            "| RMSE     |  0.0468 |\n",
            "+----------+---------+\n",
            "| R²       |  0.5328 |\n",
            "+----------+---------+\n"
          ]
        }
      ],
      "source": [
        "#Hybrid\n",
        "\n",
        "\n",
        "y_pred_lr23 = y_pred_lr23[-len(y_pred_lstm23):]  # Ensure equal length\n",
        "y_pred_svr23=y_pred_svr23[-len(y_pred_lstm23):]\n",
        "y_pred_rf23=y_pred_rf23[-len(y_pred_lstm23):]\n",
        "y_test=y_test[-len(y_pred_lstm23):]\n",
        "\n",
        "# Convert to NumPy arrays\n",
        "y_pred_lr23 = np.array(y_pred_lr23).reshape(-1,1)\n",
        "y_pred_lstm23 = np.array(y_pred_lstm23).reshape(-1,1)\n",
        "y_pred_svr23=np.array(y_pred_svr23).reshape(-1,1)\n",
        "y_pred_rf23=np.array(y_pred_rf23).reshape(-1,1)\n",
        "print(y_pred_rf23.shape)\n",
        "print(y_pred_svr23.shape)\n",
        "print(y_test.shape)\n",
        "\n",
        "alpha = 0.25\n",
        "y_pred_h23 = 0.25 * y_pred_lstm23 + 0.25* y_pred_lr23+0.25*y_pred_svr23+0.25*y_pred_rf23\n",
        "\n",
        "mae_h23=mean_absolute_error(y_test,y_pred_h23)\n",
        "rmse_h23=root_mean_squared_error(y_test,y_pred_h23)\n",
        "r2_h23=r2_score(y_test,y_pred_h23)\n",
        "#print(f\"MAE_H23: {mae_h23}\\nRMSE_H23: {rmse_h23}\\nR2_H23: {r2_h23}\")\n",
        "\n",
        "\n",
        "# Define the model name as a heading\n",
        "model_name23 = \"LR, SVR and RF-LFM & LSTM- 60 days close price.\"\n",
        "\n",
        "# Define the table structure\n",
        "data23 = [\n",
        "    [\"MAE\", f\"{mae_h23:.4f}\"],\n",
        "    [\"RMSE\", f\"{rmse_h23:.4f}\"],\n",
        "    [\"R²\", f\"{r2_h23:.4f}\"]\n",
        "]\n",
        "\n",
        "# Create DataFrame\n",
        "df23 = pd.DataFrame(data23, columns=[\"Metric\", \"Value\"])\n",
        "\n",
        "# Print the heading\n",
        "print(f\"\\n{model_name23}\\n\" + \"=\" * len(model_name23))\n",
        "\n",
        "# Print the table without the model column\n",
        "print(tabulate(df23, headers=\"keys\", tablefmt=\"grid\", showindex=False))"
      ]
    },
    {
      "cell_type": "markdown",
      "metadata": {
        "id": "72WHClGuBXy0"
      },
      "source": [
        "### MODEL-3(VOTING REGRESSOR)"
      ]
    },
    {
      "cell_type": "markdown",
      "metadata": {
        "id": "RspDO5PGBXy0"
      },
      "source": [
        "### APPROACH 1"
      ]
    },
    {
      "cell_type": "code",
      "execution_count": null,
      "metadata": {
        "id": "ypSsAy9_BXy1"
      },
      "outputs": [],
      "source": [
        "models={\n",
        "    'LinearRegression':LinearRegression(),\n",
        "    'svr':SVR(),\n",
        "    'RandomForestRegressor':RandomForestRegressor()\n",
        "}"
      ]
    },
    {
      "cell_type": "code",
      "execution_count": null,
      "metadata": {
        "id": "ZmiLC2yvBXy1"
      },
      "outputs": [],
      "source": [
        "from sklearn.ensemble import VotingClassifier\n",
        "voting_clf=VotingClassifier(\n",
        "    estimators=[(name,model) for name, model in models.items()],\n",
        "    voting='hard'\n",
        ")"
      ]
    },
    {
      "cell_type": "code",
      "execution_count": null,
      "metadata": {
        "id": "FBYShMSABXy1"
      },
      "outputs": [],
      "source": [
        "x=df[['Open','High','Low','Volume','Adj Close']]\n",
        "y=df[['Close']]\n",
        "x_train,x_test,y_train,y_test=train_test_split(x,y,train_size=0.8,random_state=42)\n"
      ]
    },
    {
      "cell_type": "code",
      "execution_count": null,
      "metadata": {
        "id": "kxqt53AmBXy1",
        "outputId": "d98683fd-79e3-4c36-e10e-8506253ef623",
        "colab": {
          "base_uri": "https://localhost:8080/",
          "height": 287
        }
      },
      "outputs": [
        {
          "output_type": "error",
          "ename": "ValueError",
          "evalue": "Unknown label type: continuous. Maybe you are trying to fit a classifier, which expects discrete classes on a regression target with continuous values.",
          "traceback": [
            "\u001b[0;31m---------------------------------------------------------------------------\u001b[0m",
            "\u001b[0;31mValueError\u001b[0m                                Traceback (most recent call last)",
            "\u001b[0;32m<ipython-input-77-fd91f534414b>\u001b[0m in \u001b[0;36m<cell line: 0>\u001b[0;34m()\u001b[0m\n\u001b[0;32m----> 1\u001b[0;31m \u001b[0mvoting_clf\u001b[0m\u001b[0;34m.\u001b[0m\u001b[0mfit\u001b[0m\u001b[0;34m(\u001b[0m\u001b[0mx_train\u001b[0m\u001b[0;34m,\u001b[0m\u001b[0my_train\u001b[0m\u001b[0;34m)\u001b[0m\u001b[0;34m\u001b[0m\u001b[0;34m\u001b[0m\u001b[0m\n\u001b[0m",
            "\u001b[0;32m/usr/local/lib/python3.11/dist-packages/sklearn/base.py\u001b[0m in \u001b[0;36mwrapper\u001b[0;34m(estimator, *args, **kwargs)\u001b[0m\n\u001b[1;32m   1387\u001b[0m                 )\n\u001b[1;32m   1388\u001b[0m             ):\n\u001b[0;32m-> 1389\u001b[0;31m                 \u001b[0;32mreturn\u001b[0m \u001b[0mfit_method\u001b[0m\u001b[0;34m(\u001b[0m\u001b[0mestimator\u001b[0m\u001b[0;34m,\u001b[0m \u001b[0;34m*\u001b[0m\u001b[0margs\u001b[0m\u001b[0;34m,\u001b[0m \u001b[0;34m**\u001b[0m\u001b[0mkwargs\u001b[0m\u001b[0;34m)\u001b[0m\u001b[0;34m\u001b[0m\u001b[0;34m\u001b[0m\u001b[0m\n\u001b[0m\u001b[1;32m   1390\u001b[0m \u001b[0;34m\u001b[0m\u001b[0m\n\u001b[1;32m   1391\u001b[0m         \u001b[0;32mreturn\u001b[0m \u001b[0mwrapper\u001b[0m\u001b[0;34m\u001b[0m\u001b[0;34m\u001b[0m\u001b[0m\n",
            "\u001b[0;32m/usr/local/lib/python3.11/dist-packages/sklearn/utils/validation.py\u001b[0m in \u001b[0;36minner_f\u001b[0;34m(*args, **kwargs)\u001b[0m\n\u001b[1;32m     61\u001b[0m             \u001b[0mextra_args\u001b[0m \u001b[0;34m=\u001b[0m \u001b[0mlen\u001b[0m\u001b[0;34m(\u001b[0m\u001b[0margs\u001b[0m\u001b[0;34m)\u001b[0m \u001b[0;34m-\u001b[0m \u001b[0mlen\u001b[0m\u001b[0;34m(\u001b[0m\u001b[0mall_args\u001b[0m\u001b[0;34m)\u001b[0m\u001b[0;34m\u001b[0m\u001b[0;34m\u001b[0m\u001b[0m\n\u001b[1;32m     62\u001b[0m             \u001b[0;32mif\u001b[0m \u001b[0mextra_args\u001b[0m \u001b[0;34m<=\u001b[0m \u001b[0;36m0\u001b[0m\u001b[0;34m:\u001b[0m\u001b[0;34m\u001b[0m\u001b[0;34m\u001b[0m\u001b[0m\n\u001b[0;32m---> 63\u001b[0;31m                 \u001b[0;32mreturn\u001b[0m \u001b[0mf\u001b[0m\u001b[0;34m(\u001b[0m\u001b[0;34m*\u001b[0m\u001b[0margs\u001b[0m\u001b[0;34m,\u001b[0m \u001b[0;34m**\u001b[0m\u001b[0mkwargs\u001b[0m\u001b[0;34m)\u001b[0m\u001b[0;34m\u001b[0m\u001b[0;34m\u001b[0m\u001b[0m\n\u001b[0m\u001b[1;32m     64\u001b[0m \u001b[0;34m\u001b[0m\u001b[0m\n\u001b[1;32m     65\u001b[0m             \u001b[0;31m# extra_args > 0\u001b[0m\u001b[0;34m\u001b[0m\u001b[0;34m\u001b[0m\u001b[0m\n",
            "\u001b[0;32m/usr/local/lib/python3.11/dist-packages/sklearn/ensemble/_voting.py\u001b[0m in \u001b[0;36mfit\u001b[0;34m(self, X, y, sample_weight, **fit_params)\u001b[0m\n\u001b[1;32m    396\u001b[0m         \u001b[0;32mif\u001b[0m \u001b[0my_type\u001b[0m \u001b[0;32min\u001b[0m \u001b[0;34m(\u001b[0m\u001b[0;34m\"unknown\"\u001b[0m\u001b[0;34m,\u001b[0m \u001b[0;34m\"continuous\"\u001b[0m\u001b[0;34m)\u001b[0m\u001b[0;34m:\u001b[0m\u001b[0;34m\u001b[0m\u001b[0;34m\u001b[0m\u001b[0m\n\u001b[1;32m    397\u001b[0m             \u001b[0;31m# raise a specific ValueError for non-classification tasks\u001b[0m\u001b[0;34m\u001b[0m\u001b[0;34m\u001b[0m\u001b[0m\n\u001b[0;32m--> 398\u001b[0;31m             raise ValueError(\n\u001b[0m\u001b[1;32m    399\u001b[0m                 \u001b[0;34mf\"Unknown label type: {y_type}. Maybe you are trying to fit a \"\u001b[0m\u001b[0;34m\u001b[0m\u001b[0;34m\u001b[0m\u001b[0m\n\u001b[1;32m    400\u001b[0m                 \u001b[0;34m\"classifier, which expects discrete classes on a \"\u001b[0m\u001b[0;34m\u001b[0m\u001b[0;34m\u001b[0m\u001b[0m\n",
            "\u001b[0;31mValueError\u001b[0m: Unknown label type: continuous. Maybe you are trying to fit a classifier, which expects discrete classes on a regression target with continuous values."
          ]
        }
      ],
      "source": [
        "voting_clf.fit(x_train,y_train)"
      ]
    },
    {
      "cell_type": "code",
      "execution_count": null,
      "metadata": {
        "id": "DqCFrp50BXy2"
      },
      "outputs": [],
      "source": [
        "# from  sklearn.ensemble import VotingClassifier,RandomForestRegressor\n",
        "# from sklearn.model_selection import train_test_split\n",
        "# from sklearn.linear_model import LinearRegression\n",
        "# from sklearn.svm import SVR\n",
        "# x=df[['Open','High','Low','Volume','Adj Close']]\n",
        "# y=df[['Close']]\n",
        "# x_train,x_test,y_train,y_test=train_test_split(x,y,train_size=0.8,random_state=42)\n",
        "# lr = LinearRegression()\n",
        "# svr = SVR()\n",
        "# rf = RandomForestRegressor(n_estimators=100, random_state=42)\n",
        "# vot_rgsr31=VotingClassifier(estimators=[('lr', lr), ('svr', svr), ('rf', rf)])\n",
        "\n",
        "# vot_rgsr31.fit(x_train,y_train)\n",
        "# y_pred_vr31=vot_rgsr31.predict(x_test)\n",
        "\n",
        "\n",
        "# rmse_vr31=root_mean_squared_error(y_test,y_pred_vr31)\n",
        "# mae_vr31=mean_absolute_error(y_test,y_pred_vr31)\n",
        "# r2_vr31=r2_score(y_test,y_pred_vr31)\n",
        "\n",
        "# print(f'RMSE_VR31 : {rmse_vr31}\\nMAE_VR31 : {mae_vr31}\\nR2_VR31 : {r2_vr31}')\n"
      ]
    },
    {
      "cell_type": "code",
      "execution_count": null,
      "metadata": {
        "id": "nK9gSJSPBXy2",
        "outputId": "aff93981-8903-46d6-b1a1-0b70a540f185",
        "colab": {
          "base_uri": "https://localhost:8080/"
        }
      },
      "outputs": [
        {
          "output_type": "stream",
          "name": "stdout",
          "text": [
            "RMSE_VR31 : 0.018959575909287332\n",
            "MAE_VR31 : 0.01610346965346604\n",
            "R2_VR31 : 0.9954012435310327\n",
            "\n",
            "LR, SVR, RF-OHLVA\n",
            "=================\n",
            "+----------+---------+\n",
            "| Metric   |   Value |\n",
            "+==========+=========+\n",
            "| MAE      |  0.0161 |\n",
            "+----------+---------+\n",
            "| RMSE     |  0.019  |\n",
            "+----------+---------+\n",
            "| R²       |  0.9954 |\n",
            "+----------+---------+\n"
          ]
        }
      ],
      "source": [
        "from  sklearn.ensemble import VotingRegressor\n",
        "x=df[['Open','High','Low','Volume','Adj Close']]\n",
        "y=df[['Close']]\n",
        "x_train,x_test,y_train,y_test=train_test_split(x,y,train_size=0.8,random_state=42)\n",
        "lr = LinearRegression()\n",
        "svr = SVR()\n",
        "rf = RandomForestRegressor(n_estimators=100, random_state=42)\n",
        "vot_rgsr31=VotingRegressor(estimators=[('lr', lr), ('svr', svr), ('rf', rf)])\n",
        "\n",
        "vot_rgsr31.fit(x_train,y_train)\n",
        "y_pred_vr31=vot_rgsr31.predict(x_test)\n",
        "\n",
        "\n",
        "rmse_vr31=root_mean_squared_error(y_test,y_pred_vr31)\n",
        "mae_vr31=mean_absolute_error(y_test,y_pred_vr31)\n",
        "r2_vr31=r2_score(y_test,y_pred_vr31)\n",
        "\n",
        "print(f'RMSE_VR31 : {rmse_vr31}\\nMAE_VR31 : {mae_vr31}\\nR2_VR31 : {r2_vr31}')\n",
        "\n",
        "# Define the model name as a heading\n",
        "model_name31 = \"LR, SVR, RF-OHLVA\"\n",
        "\n",
        "# Define the table structure\n",
        "data31 = [\n",
        "    [\"MAE\", f\"{mae_vr31:.4f}\"],\n",
        "    [\"RMSE\", f\"{rmse_vr31:.4f}\"],\n",
        "    [\"R²\", f\"{r2_vr31:.4f}\"]\n",
        "]\n",
        "\n",
        "# Create DataFrame\n",
        "df31 = pd.DataFrame(data31, columns=[\"Metric\", \"Value\"])\n",
        "\n",
        "# Print the heading\n",
        "print(f\"\\n{model_name31}\\n\" + \"=\" * len(model_name31))\n",
        "\n",
        "# Print the table without the model column\n",
        "print(tabulate(df31, headers=\"keys\", tablefmt=\"grid\", showindex=False))\n"
      ]
    },
    {
      "cell_type": "markdown",
      "metadata": {
        "id": "PBr6ooIHBXy2"
      },
      "source": [
        "### APPROACH 2"
      ]
    },
    {
      "cell_type": "code",
      "execution_count": null,
      "metadata": {
        "id": "REphdMUnBXy2",
        "outputId": "fdda702b-3c3e-4d06-a83e-edba6a148989",
        "colab": {
          "base_uri": "https://localhost:8080/"
        }
      },
      "outputs": [
        {
          "output_type": "stream",
          "name": "stdout",
          "text": [
            "RMSE_VR32 : 0.02206931072901901\n",
            "MAE_VR32 : 0.01866327940123137\n",
            "R2_VR32 : 0.9937689575043465\n",
            "\n",
            "LR, SVR, RF-OHL\n",
            "===============\n",
            "+----------+---------+\n",
            "| Metric   |   Value |\n",
            "+==========+=========+\n",
            "| MAE      |  0.0187 |\n",
            "+----------+---------+\n",
            "| RMSE     |  0.0221 |\n",
            "+----------+---------+\n",
            "| R²       |  0.9938 |\n",
            "+----------+---------+\n"
          ]
        }
      ],
      "source": [
        "from  sklearn.ensemble import VotingRegressor\n",
        "x=df[['Open','High','Low']]\n",
        "y=df[['Close']]\n",
        "x_train,x_test,y_train,y_test=train_test_split(x,y,train_size=0.8,random_state=42)\n",
        "lr = LinearRegression()\n",
        "svr = SVR()\n",
        "rf = RandomForestRegressor(n_estimators=100, random_state=42)\n",
        "vot_rgsr32=VotingRegressor(estimators=[('lr', lr), ('svr', svr), ('rf', rf)])\n",
        "\n",
        "vot_rgsr32.fit(x_train,y_train)\n",
        "y_pred_vr32=vot_rgsr32.predict(x_test)\n",
        "\n",
        "\n",
        "rmse_vr32=root_mean_squared_error(y_test,y_pred_vr32)\n",
        "mae_vr32=mean_absolute_error(y_test,y_pred_vr32)\n",
        "r2_vr32=r2_score(y_test,y_pred_vr32)\n",
        "\n",
        "print(f'RMSE_VR32 : {rmse_vr32}\\nMAE_VR32 : {mae_vr32}\\nR2_VR32 : {r2_vr32}')\n",
        "\n",
        "# Define the model name as a heading\n",
        "model_name32 = \"LR, SVR, RF-OHL\"\n",
        "\n",
        "# Define the table structure\n",
        "data32 = [\n",
        "    [\"MAE\", f\"{mae_vr32:.4f}\"],\n",
        "    [\"RMSE\", f\"{rmse_vr32:.4f}\"],\n",
        "    [\"R²\", f\"{r2_vr32:.4f}\"]\n",
        "]\n",
        "\n",
        "# Create DataFrame\n",
        "df32 = pd.DataFrame(data32, columns=[\"Metric\", \"Value\"])\n",
        "\n",
        "# Print the heading\n",
        "print(f\"\\n{model_name32}\\n\" + \"=\" * len(model_name32))\n",
        "\n",
        "# Print the table without the model column\n",
        "print(tabulate(df32, headers=\"keys\", tablefmt=\"grid\", showindex=False))\n"
      ]
    },
    {
      "cell_type": "markdown",
      "metadata": {
        "id": "FLZaTkGUBXy2"
      },
      "source": [
        "### APPROACH 3"
      ]
    },
    {
      "cell_type": "code",
      "execution_count": null,
      "metadata": {
        "id": "65HHEusIBXy3",
        "outputId": "b89e1004-08dc-42a3-9394-9c1d559d1f6c",
        "colab": {
          "base_uri": "https://localhost:8080/"
        }
      },
      "outputs": [
        {
          "output_type": "stream",
          "name": "stdout",
          "text": [
            "RMSE_VR33 : 0.0323011482871225\n",
            "MAE_VR33 : 0.02714341595395115\n",
            "R2_VR33 : 0.9884275742301034\n",
            "\n",
            "LR, SVR, RF-LFM\n",
            "===============\n",
            "+----------+---------+\n",
            "| Metric   |   Value |\n",
            "+==========+=========+\n",
            "| MAE      |  0.0271 |\n",
            "+----------+---------+\n",
            "| RMSE     |  0.0323 |\n",
            "+----------+---------+\n",
            "| R²       |  0.9884 |\n",
            "+----------+---------+\n"
          ]
        }
      ],
      "source": [
        "from  sklearn.ensemble import VotingRegressor\n",
        "\n",
        "data=df[['Close']]\n",
        "\n",
        "data['Lag_1']=df['Close'].shift(1)\n",
        "data['Lag_2']=df['Close'].shift(2)\n",
        "data['Lag_3']=df['Close'].shift(3)\n",
        "data.dropna(inplace=True)\n",
        "\n",
        "\n",
        "x=data[['Lag_1','Lag_2','Lag_3']]\n",
        "y=data[['Close']]\n",
        "\n",
        "\n",
        "x_train,x_test,y_train,y_test=train_test_split(x,y,train_size=0.8,random_state=42)\n",
        "lr = LinearRegression()\n",
        "svr = SVR()\n",
        "rf = RandomForestRegressor(n_estimators=100, random_state=42)\n",
        "vot_rgsr33=VotingRegressor(estimators=[('lr', lr), ('svr', svr), ('rf', rf)])\n",
        "\n",
        "vot_rgsr33.fit(x_train,y_train)\n",
        "y_pred_vr33=vot_rgsr33.predict(x_test)\n",
        "\n",
        "\n",
        "rmse_vr33=root_mean_squared_error(y_test,y_pred_vr33)\n",
        "mae_vr33=mean_absolute_error(y_test,y_pred_vr33)\n",
        "r2_vr33=r2_score(y_test,y_pred_vr33)\n",
        "\n",
        "print(f'RMSE_VR33 : {rmse_vr33}\\nMAE_VR33 : {mae_vr33}\\nR2_VR33 : {r2_vr33}')\n",
        "\n",
        "# Define the model name as a heading\n",
        "model_name33 = \"LR, SVR, RF-LFM\"\n",
        "\n",
        "# Define the table structure\n",
        "data33 = [\n",
        "    [\"MAE\", f\"{mae_vr33:.4f}\"],\n",
        "    [\"RMSE\", f\"{rmse_vr33:.4f}\"],\n",
        "    [\"R²\", f\"{r2_vr33:.4f}\"]\n",
        "]\n",
        "\n",
        "# Create DataFrame\n",
        "df33 = pd.DataFrame(data33, columns=[\"Metric\", \"Value\"])\n",
        "\n",
        "# Print the heading\n",
        "print(f\"\\n{model_name33}\\n\" + \"=\" * len(model_name33))\n",
        "\n",
        "# Print the table without the model column\n",
        "print(tabulate(df33, headers=\"keys\", tablefmt=\"grid\", showindex=False))\n"
      ]
    },
    {
      "cell_type": "markdown",
      "metadata": {
        "id": "HPqRDb5CBXy3"
      },
      "source": [
        "### RESULT"
      ]
    },
    {
      "cell_type": "code",
      "execution_count": null,
      "metadata": {
        "id": "vz5mj_XABXy3",
        "outputId": "40512a02-5640-44f9-92e3-d8bc8912d7bb",
        "colab": {
          "base_uri": "https://localhost:8080/"
        }
      },
      "outputs": [
        {
          "output_type": "stream",
          "name": "stdout",
          "text": [
            "           Model    Approach      RMSE       MAE        R²\n",
            "0        HYBRID1  Approach 1  0.212056  0.186063 -8.596132\n",
            "1        HYBRID1  Approach 2  0.211030  0.184389 -8.503531\n",
            "2        HYBRID1  Approach 3  0.059894  0.049200  0.234483\n",
            "3        HYBRID2  Approach 1  0.132010  0.115308  0.754360\n",
            "4        HYBRID2  Approach 2  0.140130  0.123449  0.723215\n",
            "5        HYBRID2  Approach 3  0.046791  0.037189  0.532775\n",
            "6  VOT_REGRESSOR  Approach 1  0.018960  0.016103  0.995401\n",
            "7  VOT_REGRESSOR  Approach 2  0.022069  0.018663  0.993769\n",
            "8  VOT_REGRESSOR  Approach 3  0.032301  0.027143  0.988428\n"
          ]
        }
      ],
      "source": [
        "model_metrics = {\n",
        "    \"Model\": [\"HYBRID1\",\"HYBRID1\",\"HYBRID1\",\"HYBRID2\",\"HYBRID2\",\"HYBRID2\",\"VOT_REGRESSOR\",\"VOT_REGRESSOR\",\"VOT_REGRESSOR\"],\n",
        "    \"Approach\": [\"Approach 1\",\"Approach 2\",\"Approach 3\",\"Approach 1\",\"Approach 2\",\"Approach 3\",\"Approach 1\",\"Approach 2\",\"Approach 3\"],\n",
        "    \"RMSE\": [rmse_h11,rmse_h12,rmse_h13,rmse_h21,rmse_h22,rmse_h23,rmse_vr31,rmse_vr32,rmse_vr33],\n",
        "    \"MAE\": [mae_h11,mae_h12,mae_h13,mae_h21,mae_h22,mae_h23,mae_vr31,mae_vr32,mae_vr33],\n",
        "    \"R²\": [r2_h11,r2_h12,r2_h13,r2_h21,r2_h22,r2_h23,r2_vr31,r2_vr32,r2_vr33]\n",
        "}\n",
        "\n",
        "# Convert dictionary to DataFrame\n",
        "df_metrics = pd.DataFrame(model_metrics)\n",
        "\n",
        "# Display the DataFrame\n",
        "print(df_metrics)"
      ]
    }
  ],
  "metadata": {
    "kernelspec": {
      "display_name": "base",
      "language": "python",
      "name": "python3"
    },
    "language_info": {
      "codemirror_mode": {
        "name": "ipython",
        "version": 3
      },
      "file_extension": ".py",
      "mimetype": "text/x-python",
      "name": "python",
      "nbconvert_exporter": "python",
      "pygments_lexer": "ipython3",
      "version": "3.12.4"
    },
    "colab": {
      "provenance": []
    }
  },
  "nbformat": 4,
  "nbformat_minor": 0
}